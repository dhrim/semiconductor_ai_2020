{
  "nbformat": 4,
  "nbformat_minor": 0,
  "metadata": {
    "colab": {
      "name": "real_practice-classify_semiconductor_wafermap.ipynb",
      "provenance": []
    },
    "kernelspec": {
      "name": "python3",
      "display_name": "Python 3"
    },
    "accelerator": "GPU"
  },
  "cells": [
    {
      "cell_type": "markdown",
      "metadata": {
        "id": "fUBUvYvhpgza"
      },
      "source": [
        "# Wafer 패턴 분류\n",
        "\n",
        "works from https://github.com/fr407041/WM-811K_semiconductor_wafer_map_pattern_classified\n",
        "\n",
        "data from http://mirlab.org/dataSet/public/\n",
        "\n",
        "related kaggle competition :https://www.kaggle.com/qingyi/wm811k-wafer-map\n",
        "\n",
        "much referenced : https://www.kaggle.com/kcs93023/keras-wafer-classification-cnn2d-with-augmentation\n",
        "\n"
      ]
    },
    {
      "cell_type": "markdown",
      "metadata": {
        "id": "NZIJRHkY0pdz"
      },
      "source": [
        "# 데이터 다운로드\n",
        "\n",
        "https://www.kaggle.com/qingyi/wm811k-wafer-map에서 다운로드 받은 archive.zip을 \n",
        "\n",
        "google drive의 tmp 폴더에 업로드하고 시작한다.\n",
        "\n"
      ]
    },
    {
      "cell_type": "code",
      "metadata": {
        "id": "9GH-qVx1sTC2"
      },
      "source": [
        ""
      ],
      "execution_count": null,
      "outputs": []
    },
    {
      "cell_type": "code",
      "metadata": {
        "id": "wN6zeFeRsUWN",
        "outputId": "061650b2-c3c9-4c2b-dc9d-5fa71d18d4ea",
        "colab": {
          "base_uri": "https://localhost:8080/"
        }
      },
      "source": [
        "from google.colab import drive\n",
        "drive.mount('/content/drive')"
      ],
      "execution_count": 4,
      "outputs": [
        {
          "output_type": "stream",
          "text": [
            "Mounted at /content/drive\n"
          ],
          "name": "stdout"
        }
      ]
    },
    {
      "cell_type": "code",
      "metadata": {
        "id": "pugB0US1pXlw"
      },
      "source": [
        "!cp '/content/drive/My Drive/tmp/archive.zip' ./"
      ],
      "execution_count": 5,
      "outputs": []
    },
    {
      "cell_type": "code",
      "metadata": {
        "id": "nk5DHavFskDQ",
        "outputId": "d9c0f1b3-6983-4de0-edd7-b8c8fc24a9c0",
        "colab": {
          "base_uri": "https://localhost:8080/"
        }
      },
      "source": [
        "!unzip archive.zip"
      ],
      "execution_count": 6,
      "outputs": [
        {
          "output_type": "stream",
          "text": [
            "Archive:  archive.zip\n",
            "  inflating: LSWMD.pkl               \n"
          ],
          "name": "stdout"
        }
      ]
    },
    {
      "cell_type": "code",
      "metadata": {
        "id": "pyzT8SFNuhBo",
        "outputId": "f731bf3d-1bc0-4035-cee3-36c23ec99016",
        "colab": {
          "base_uri": "https://localhost:8080/"
        }
      },
      "source": [
        "!ls -alh"
      ],
      "execution_count": 11,
      "outputs": [
        {
          "output_type": "stream",
          "text": [
            "total 2.1G\n",
            "drwxr-xr-x 1 root root 4.0K Nov  8 07:12 .\n",
            "drwxr-xr-x 1 root root 4.0K Nov  8 06:55 ..\n",
            "-rw------- 1 root root 150M Nov  8 07:11 archive.zip\n",
            "drwxr-xr-x 1 root root 4.0K Nov  3 17:17 .config\n",
            "drwx------ 6 root root 4.0K Nov  8 07:11 drive\n",
            "-rw-r--r-- 1 root root 2.0G Sep 27  2019 LSWMD.pkl\n",
            "drwxr-xr-x 1 root root 4.0K Oct 28 16:30 sample_data\n"
          ],
          "name": "stdout"
        }
      ]
    },
    {
      "cell_type": "markdown",
      "metadata": {
        "id": "GavgmjDytAsf"
      },
      "source": [
        "# 데이터 로딩"
      ]
    },
    {
      "cell_type": "code",
      "metadata": {
        "id": "5G0EAv8hus68"
      },
      "source": [
        "import numpy as np\n",
        "import pandas as pd\n",
        "import matplotlib.pyplot as plt"
      ],
      "execution_count": 26,
      "outputs": []
    },
    {
      "cell_type": "code",
      "metadata": {
        "id": "EYw7FBvHs5E9"
      },
      "source": [
        "df=pd.read_pickle(\"LSWMD.pkl\")"
      ],
      "execution_count": 93,
      "outputs": []
    },
    {
      "cell_type": "code",
      "metadata": {
        "id": "krW8iF9-tTtZ",
        "outputId": "95ff7bb4-de84-4e92-d2b2-cc6c06de9792",
        "colab": {
          "base_uri": "https://localhost:8080/",
          "height": 195
        }
      },
      "source": [
        "df.head()"
      ],
      "execution_count": 94,
      "outputs": [
        {
          "output_type": "execute_result",
          "data": {
            "text/html": [
              "<div>\n",
              "<style scoped>\n",
              "    .dataframe tbody tr th:only-of-type {\n",
              "        vertical-align: middle;\n",
              "    }\n",
              "\n",
              "    .dataframe tbody tr th {\n",
              "        vertical-align: top;\n",
              "    }\n",
              "\n",
              "    .dataframe thead th {\n",
              "        text-align: right;\n",
              "    }\n",
              "</style>\n",
              "<table border=\"1\" class=\"dataframe\">\n",
              "  <thead>\n",
              "    <tr style=\"text-align: right;\">\n",
              "      <th></th>\n",
              "      <th>waferMap</th>\n",
              "      <th>dieSize</th>\n",
              "      <th>lotName</th>\n",
              "      <th>waferIndex</th>\n",
              "      <th>trianTestLabel</th>\n",
              "      <th>failureType</th>\n",
              "    </tr>\n",
              "  </thead>\n",
              "  <tbody>\n",
              "    <tr>\n",
              "      <th>0</th>\n",
              "      <td>[[0, 0, 0, 0, 0, 0, 0, 0, 0, 0, 0, 0, 0, 0, 0,...</td>\n",
              "      <td>1683.0</td>\n",
              "      <td>lot1</td>\n",
              "      <td>1.0</td>\n",
              "      <td>[[Training]]</td>\n",
              "      <td>[[none]]</td>\n",
              "    </tr>\n",
              "    <tr>\n",
              "      <th>1</th>\n",
              "      <td>[[0, 0, 0, 0, 0, 0, 0, 0, 0, 0, 0, 0, 0, 0, 0,...</td>\n",
              "      <td>1683.0</td>\n",
              "      <td>lot1</td>\n",
              "      <td>2.0</td>\n",
              "      <td>[[Training]]</td>\n",
              "      <td>[[none]]</td>\n",
              "    </tr>\n",
              "    <tr>\n",
              "      <th>2</th>\n",
              "      <td>[[0, 0, 0, 0, 0, 0, 0, 0, 0, 0, 0, 0, 0, 0, 0,...</td>\n",
              "      <td>1683.0</td>\n",
              "      <td>lot1</td>\n",
              "      <td>3.0</td>\n",
              "      <td>[[Training]]</td>\n",
              "      <td>[[none]]</td>\n",
              "    </tr>\n",
              "    <tr>\n",
              "      <th>3</th>\n",
              "      <td>[[0, 0, 0, 0, 0, 0, 0, 0, 0, 0, 0, 0, 0, 0, 0,...</td>\n",
              "      <td>1683.0</td>\n",
              "      <td>lot1</td>\n",
              "      <td>4.0</td>\n",
              "      <td>[[Training]]</td>\n",
              "      <td>[[none]]</td>\n",
              "    </tr>\n",
              "    <tr>\n",
              "      <th>4</th>\n",
              "      <td>[[0, 0, 0, 0, 0, 0, 0, 0, 0, 0, 0, 0, 0, 0, 0,...</td>\n",
              "      <td>1683.0</td>\n",
              "      <td>lot1</td>\n",
              "      <td>5.0</td>\n",
              "      <td>[[Training]]</td>\n",
              "      <td>[[none]]</td>\n",
              "    </tr>\n",
              "  </tbody>\n",
              "</table>\n",
              "</div>"
            ],
            "text/plain": [
              "                                            waferMap  ...  failureType\n",
              "0  [[0, 0, 0, 0, 0, 0, 0, 0, 0, 0, 0, 0, 0, 0, 0,...  ...     [[none]]\n",
              "1  [[0, 0, 0, 0, 0, 0, 0, 0, 0, 0, 0, 0, 0, 0, 0,...  ...     [[none]]\n",
              "2  [[0, 0, 0, 0, 0, 0, 0, 0, 0, 0, 0, 0, 0, 0, 0,...  ...     [[none]]\n",
              "3  [[0, 0, 0, 0, 0, 0, 0, 0, 0, 0, 0, 0, 0, 0, 0,...  ...     [[none]]\n",
              "4  [[0, 0, 0, 0, 0, 0, 0, 0, 0, 0, 0, 0, 0, 0, 0,...  ...     [[none]]\n",
              "\n",
              "[5 rows x 6 columns]"
            ]
          },
          "metadata": {
            "tags": []
          },
          "execution_count": 94
        }
      ]
    },
    {
      "cell_type": "code",
      "metadata": {
        "id": "oJhbMx7UtX1D",
        "outputId": "d7d69826-b8e4-45c6-965c-1ec3fb130887",
        "colab": {
          "base_uri": "https://localhost:8080/"
        }
      },
      "source": [
        "df.info()"
      ],
      "execution_count": 95,
      "outputs": [
        {
          "output_type": "stream",
          "text": [
            "<class 'pandas.core.frame.DataFrame'>\n",
            "RangeIndex: 811457 entries, 0 to 811456\n",
            "Data columns (total 6 columns):\n",
            " #   Column          Non-Null Count   Dtype  \n",
            "---  ------          --------------   -----  \n",
            " 0   waferMap        811457 non-null  object \n",
            " 1   dieSize         811457 non-null  float64\n",
            " 2   lotName         811457 non-null  object \n",
            " 3   waferIndex      811457 non-null  float64\n",
            " 4   trianTestLabel  811457 non-null  object \n",
            " 5   failureType     811457 non-null  object \n",
            "dtypes: float64(2), object(4)\n",
            "memory usage: 37.1+ MB\n"
          ],
          "name": "stdout"
        }
      ]
    },
    {
      "cell_type": "markdown",
      "metadata": {
        "id": "tZIY7CbcwW6F"
      },
      "source": [
        "# 데이터 살펴보기"
      ]
    },
    {
      "cell_type": "markdown",
      "metadata": {
        "id": "S2FDUzJI1D3I"
      },
      "source": [
        "## 컬럼 waferMap"
      ]
    },
    {
      "cell_type": "code",
      "metadata": {
        "id": "d43IeS-mx6P4",
        "outputId": "b376d8cf-15b7-40c8-fe62-bf1f369c33b2",
        "colab": {
          "base_uri": "https://localhost:8080/"
        }
      },
      "source": [
        "wafer_map = df.waferMap.values\n",
        "print(wafer_map[0])\n",
        "print(wafer_map[0].shape)"
      ],
      "execution_count": 96,
      "outputs": [
        {
          "output_type": "stream",
          "text": [
            "[[0 0 0 ... 0 0 0]\n",
            " [0 0 0 ... 0 0 0]\n",
            " [0 0 0 ... 0 0 0]\n",
            " ...\n",
            " [0 0 0 ... 0 0 0]\n",
            " [0 0 0 ... 0 0 0]\n",
            " [0 0 0 ... 0 0 0]]\n",
            "(45, 48)\n"
          ],
          "name": "stdout"
        }
      ]
    },
    {
      "cell_type": "markdown",
      "metadata": {
        "id": "UKNqQlgN0-B-"
      },
      "source": [
        "1개의 wafer map은 2차원 어레이이다."
      ]
    },
    {
      "cell_type": "code",
      "metadata": {
        "id": "ae_ftW3_-J5r",
        "outputId": "a57f593d-bf76-43af-d76d-119a19070360",
        "colab": {
          "base_uri": "https://localhost:8080/",
          "height": 1000
        }
      },
      "source": [
        "plt.imshow(wafer_map[0])\n",
        "plt.show()\n",
        "for i in range(45):\n",
        "  for j in range(48):\n",
        "    print(wafer_map[0][i][j], end='')\n",
        "  print()"
      ],
      "execution_count": 126,
      "outputs": [
        {
          "output_type": "display_data",
          "data": {
            "image/png": "[encoded data removed]",
            "text/plain": [
              "<Figure size 432x288 with 1 Axes>"
            ]
          },
          "metadata": {
            "tags": [],
            "needs_background": "light"
          }
        },
        {
          "output_type": "stream",
          "text": [
            "000000000000000000000211111000000000000000000000\n",
            "000000000000000021111111111111100000000000000000\n",
            "000000000000001111111111111111211100000000000000\n",
            "000000000000121111211111111111111111000000000000\n",
            "000000000011111111111111111111111111120000000000\n",
            "000000000111111111111111111111111111111000000000\n",
            "000000021111111111111111111211111111111100000000\n",
            "000000121111111111111111111111112112111210000000\n",
            "000002111111112111121111111211111111111111000000\n",
            "000001111111111111111111111111111111111111100000\n",
            "000012111111112111111111111111121111111121110000\n",
            "000211121111111111111221111111111111112111110000\n",
            "000111111111111111111111111111111111111111111000\n",
            "001111111111112111111111111111111111111111121200\n",
            "001111111111111111211111111111111111111111111100\n",
            "011111111111111111111111111111111111112111111100\n",
            "011111111111111111111111211111111111111111112110\n",
            "011111111111111111111111111111111111111121112110\n",
            "111111111111112111112111111111111111111111112110\n",
            "111111111111111111111211111111112111111111111112\n",
            "111111111111121111111111111112111112111111111111\n",
            "111121111111111111111111112111111111111111111112\n",
            "111111111111111111111111111111111111111111211112\n",
            "111111111111211111111111111111111121111111111211\n",
            "111111111111111111111111111111111111111111111111\n",
            "112111111111111111111111111111111111111111111111\n",
            "111112111111211211111121111111111111111111211110\n",
            "111111112111111111111111111112111121111111111110\n",
            "011111111111111111111111111111111111111111111110\n",
            "011111111111111111111111111111111111111111111110\n",
            "021111111111111111111111111111121111111111111100\n",
            "001111111111111111111111111111111111111111111100\n",
            "001111111111111112121111111111111112111111112000\n",
            "000111212111121111111211111111111111111111111000\n",
            "000011111211111111111111111111112111111111110000\n",
            "000012111111111111111112111111111111111111100000\n",
            "000002211111111211111111111111111111111111100000\n",
            "000000111111111111111111111111111111111111000000\n",
            "000000011111111111111121111111111111111120000000\n",
            "000000001111111111111111111111111211111200000000\n",
            "000000000111111111111111111111211111110000000000\n",
            "000000000001111111111111111111112111100000000000\n",
            "000000000000021111111111211111111110000000000000\n",
            "000000000000000111211111111111111000000000000000\n",
            "000000000000000000121111111112000000000000000000\n"
          ],
          "name": "stdout"
        }
      ]
    },
    {
      "cell_type": "markdown",
      "metadata": {
        "id": "P6MqCEk9_AwT"
      },
      "source": [
        "배경은 0이고, wafer는 1과 2로 구분된다."
      ]
    },
    {
      "cell_type": "code",
      "metadata": {
        "id": "3eXfrfjl9-s6",
        "outputId": "579648a6-8c3a-4f18-add0-493ac3fa24eb",
        "colab": {
          "base_uri": "https://localhost:8080/",
          "height": 1000
        }
      },
      "source": [
        "for i in range(10):\n",
        "  plt.imshow(wafer_map[i])\n",
        "  plt.show()"
      ],
      "execution_count": 121,
      "outputs": [
        {
          "output_type": "display_data",
          "data": {
            "image/png": "[encoded data removed]",
            "text/plain": [
              "<Figure size 432x288 with 1 Axes>"
            ]
          },
          "metadata": {
            "tags": [],
            "needs_background": "light"
          }
        },
        {
          "output_type": "display_data",
          "data": {
            "image/png": "[encoded data removed]",
            "text/plain": [
              "<Figure size 432x288 with 1 Axes>"
            ]
          },
          "metadata": {
            "tags": [],
            "needs_background": "light"
          }
        },
        {
          "output_type": "display_data",
          "data": {
            "image/png": "[encoded data removed]",
            "text/plain": [
              "<Figure size 432x288 with 1 Axes>"
            ]
          },
          "metadata": {
            "tags": [],
            "needs_background": "light"
          }
        },
        {
          "output_type": "display_data",
          "data": {
            "image/png": "[encoded data removed]",
            "text/plain": [
              "<Figure size 432x288 with 1 Axes>"
            ]
          },
          "metadata": {
            "tags": [],
            "needs_background": "light"
          }
        },
        {
          "output_type": "display_data",
          "data": {
            "image/png": "[encoded data removed]",
            "text/plain": [
              "<Figure size 432x288 with 1 Axes>"
            ]
          },
          "metadata": {
            "tags": [],
            "needs_background": "light"
          }
        },
        {
          "output_type": "display_data",
          "data": {
            "image/png": "[encoded data removed]",
            "text/plain": [
              "<Figure size 432x288 with 1 Axes>"
            ]
          },
          "metadata": {
            "tags": [],
            "needs_background": "light"
          }
        },
        {
          "output_type": "display_data",
          "data": {
            "image/png": "[encoded data removed]",
            "text/plain": [
              "<Figure size 432x288 with 1 Axes>"
            ]
          },
          "metadata": {
            "tags": [],
            "needs_background": "light"
          }
        },
        {
          "output_type": "display_data",
          "data": {
            "image/png": "[encoded data removed]",
            "text/plain": [
              "<Figure size 432x288 with 1 Axes>"
            ]
          },
          "metadata": {
            "tags": [],
            "needs_background": "light"
          }
        },
        {
          "output_type": "display_data",
          "data": {
            "image/png": "[encoded data removed]",
            "text/plain": [
              "<Figure size 432x288 with 1 Axes>"
            ]
          },
          "metadata": {
            "tags": [],
            "needs_background": "light"
          }
        },
        {
          "output_type": "display_data",
          "data": {
            "image/png": "[encoded data removed]",
            "text/plain": [
              "<Figure size 432x288 with 1 Axes>"
            ]
          },
          "metadata": {
            "tags": [],
            "needs_background": "light"
          }
        }
      ]
    },
    {
      "cell_type": "code",
      "metadata": {
        "id": "sLLWucl700-m",
        "outputId": "ce9173cf-c077-4f74-c316-0c44fdc6fd75",
        "colab": {
          "base_uri": "https://localhost:8080/",
          "height": 195
        }
      },
      "source": [
        "def find_shape(x):\n",
        "  return x.shape\n",
        "\n",
        "df['waferMapShape']=df.waferMap.apply(find_shape)\n",
        "df.sample(5)"
      ],
      "execution_count": 97,
      "outputs": [
        {
          "output_type": "execute_result",
          "data": {
            "text/html": [
              "<div>\n",
              "<style scoped>\n",
              "    .dataframe tbody tr th:only-of-type {\n",
              "        vertical-align: middle;\n",
              "    }\n",
              "\n",
              "    .dataframe tbody tr th {\n",
              "        vertical-align: top;\n",
              "    }\n",
              "\n",
              "    .dataframe thead th {\n",
              "        text-align: right;\n",
              "    }\n",
              "</style>\n",
              "<table border=\"1\" class=\"dataframe\">\n",
              "  <thead>\n",
              "    <tr style=\"text-align: right;\">\n",
              "      <th></th>\n",
              "      <th>waferMap</th>\n",
              "      <th>dieSize</th>\n",
              "      <th>lotName</th>\n",
              "      <th>waferIndex</th>\n",
              "      <th>trianTestLabel</th>\n",
              "      <th>failureType</th>\n",
              "      <th>waferMapShape</th>\n",
              "    </tr>\n",
              "  </thead>\n",
              "  <tbody>\n",
              "    <tr>\n",
              "      <th>209965</th>\n",
              "      <td>[[0, 0, 0, 0, 0, 0, 0, 0, 0, 0, 0, 0, 0, 0, 0,...</td>\n",
              "      <td>3532.0</td>\n",
              "      <td>lot13421</td>\n",
              "      <td>15.0</td>\n",
              "      <td>[]</td>\n",
              "      <td>[]</td>\n",
              "      <td>(64, 71)</td>\n",
              "    </tr>\n",
              "    <tr>\n",
              "      <th>704735</th>\n",
              "      <td>[[0, 0, 0, 0, 0, 0, 0, 0, 0, 0, 0, 0, 2, 2, 2,...</td>\n",
              "      <td>516.0</td>\n",
              "      <td>lot43214</td>\n",
              "      <td>17.0</td>\n",
              "      <td>[[Training]]</td>\n",
              "      <td>[[none]]</td>\n",
              "      <td>(25, 27)</td>\n",
              "    </tr>\n",
              "    <tr>\n",
              "      <th>579621</th>\n",
              "      <td>[[0, 0, 0, 0, 0, 0, 0, 0, 0, 0, 0, 0, 1, 1, 1,...</td>\n",
              "      <td>846.0</td>\n",
              "      <td>lot36204</td>\n",
              "      <td>19.0</td>\n",
              "      <td>[]</td>\n",
              "      <td>[]</td>\n",
              "      <td>(33, 33)</td>\n",
              "    </tr>\n",
              "    <tr>\n",
              "      <th>21713</th>\n",
              "      <td>[[0, 0, 0, 0, 0, 0, 0, 0, 0, 0, 0, 1, 1, 1, 1,...</td>\n",
              "      <td>600.0</td>\n",
              "      <td>lot2531</td>\n",
              "      <td>17.0</td>\n",
              "      <td>[]</td>\n",
              "      <td>[]</td>\n",
              "      <td>(26, 30)</td>\n",
              "    </tr>\n",
              "    <tr>\n",
              "      <th>217664</th>\n",
              "      <td>[[0, 0, 0, 0, 0, 0, 0, 0, 0, 0, 0, 0, 0, 0, 0,...</td>\n",
              "      <td>14116.0</td>\n",
              "      <td>lot13792</td>\n",
              "      <td>15.0</td>\n",
              "      <td>[]</td>\n",
              "      <td>[]</td>\n",
              "      <td>(212, 84)</td>\n",
              "    </tr>\n",
              "  </tbody>\n",
              "</table>\n",
              "</div>"
            ],
            "text/plain": [
              "                                                 waferMap  ...  waferMapShape\n",
              "209965  [[0, 0, 0, 0, 0, 0, 0, 0, 0, 0, 0, 0, 0, 0, 0,...  ...       (64, 71)\n",
              "704735  [[0, 0, 0, 0, 0, 0, 0, 0, 0, 0, 0, 0, 2, 2, 2,...  ...       (25, 27)\n",
              "579621  [[0, 0, 0, 0, 0, 0, 0, 0, 0, 0, 0, 0, 1, 1, 1,...  ...       (33, 33)\n",
              "21713   [[0, 0, 0, 0, 0, 0, 0, 0, 0, 0, 0, 1, 1, 1, 1,...  ...       (26, 30)\n",
              "217664  [[0, 0, 0, 0, 0, 0, 0, 0, 0, 0, 0, 0, 0, 0, 0,...  ...      (212, 84)\n",
              "\n",
              "[5 rows x 7 columns]"
            ]
          },
          "metadata": {
            "tags": []
          },
          "execution_count": 97
        }
      ]
    },
    {
      "cell_type": "code",
      "metadata": {
        "id": "smA15EaF1hmV",
        "outputId": "8ce02ac4-4020-46be-fa6a-3c2b75878054",
        "colab": {
          "base_uri": "https://localhost:8080/"
        }
      },
      "source": [
        "shape_count = np.unique(df.waferMapShape, return_counts=True)\n",
        "print(shape_count)"
      ],
      "execution_count": 99,
      "outputs": [
        {
          "output_type": "stream",
          "text": [
            "(array([(6, 21), (10, 11), (10, 12), (10, 150), (11, 11), (12, 12),\n",
            "       (12, 27), (13, 76), (14, 12), (14, 13), (15, 3), (15, 15), (18, 4),\n",
            "       (18, 19), (18, 28), (18, 44), (18, 45), (18, 48), (18, 65),\n",
            "       (19, 26), (20, 19), (21, 17), (21, 23), (21, 24), (22, 26),\n",
            "       (22, 35), (22, 50), (23, 33), (23, 34), (24, 13), (24, 18),\n",
            "       (24, 42), (24, 71), (25, 26), (25, 27), (25, 28), (25, 29),\n",
            "       (26, 25), (26, 26), (26, 28), (26, 29), (26, 30), (26, 32),\n",
            "       (26, 44), (26, 50), (27, 15), (27, 25), (27, 27), (27, 28),\n",
            "       (27, 30), (27, 31), (27, 33), (27, 71), (28, 26), (28, 28),\n",
            "       (28, 29), (28, 30), (28, 35), (28, 42), (28, 45), (28, 51),\n",
            "       (28, 71), (28, 76), (29, 24), (29, 26), (29, 27), (29, 28),\n",
            "       (29, 29), (29, 30), (29, 31), (29, 35), (29, 45), (29, 61),\n",
            "       (30, 29), (30, 30), (30, 31), (30, 32), (30, 34), (30, 35),\n",
            "       (30, 38), (30, 40), (31, 24), (31, 28), (31, 29), (31, 31),\n",
            "       (31, 32), (31, 33), (31, 35), (32, 29), (32, 30), (32, 31),\n",
            "       (32, 32), (32, 33), (32, 35), (32, 36), (32, 71), (33, 20),\n",
            "       (33, 24), (33, 29), (33, 30), (33, 31), (33, 32), (33, 33),\n",
            "       (33, 35), (33, 36), (33, 37), (33, 38), (34, 29), (34, 31),\n",
            "       (34, 32), (34, 33), (34, 34), (34, 35), (34, 36), (34, 48),\n",
            "       (35, 20), (35, 24), (35, 29), (35, 31), (35, 32), (35, 33),\n",
            "       (35, 34), (35, 35), (35, 36), (35, 37), (35, 38), (35, 40),\n",
            "       (36, 30), (36, 32), (36, 34), (36, 35), (36, 36), (36, 37),\n",
            "       (36, 38), (36, 41), (36, 42), (36, 55), (37, 22), (37, 31),\n",
            "       (37, 36), (37, 37), (37, 38), (37, 40), (37, 41), (37, 42),\n",
            "       (37, 51), (37, 55), (37, 71), (38, 34), (38, 36), (38, 38),\n",
            "       (38, 39), (38, 40), (38, 41), (38, 42), (38, 43), (38, 45),\n",
            "       (38, 49), (38, 50), (38, 62), (39, 31), (39, 33), (39, 37),\n",
            "       (39, 38), (39, 39), (39, 40), (39, 44), (39, 45), (39, 46),\n",
            "       (39, 50), (39, 65), (39, 69), (40, 17), (40, 18), (40, 40),\n",
            "       (40, 41), (40, 42), (40, 43), (40, 44), (40, 45), (40, 50),\n",
            "       (41, 30), (41, 32), (41, 33), (41, 38), (41, 39), (41, 40),\n",
            "       (41, 41), (41, 42), (41, 43), (41, 44), (41, 45), (41, 51),\n",
            "       (41, 56), (41, 57), (42, 29), (42, 33), (42, 39), (42, 41),\n",
            "       (42, 42), (42, 43), (42, 44), (42, 45), (42, 46), (42, 48),\n",
            "       (42, 56), (42, 61), (43, 41), (43, 42), (43, 43), (43, 44),\n",
            "       (43, 49), (43, 63), (43, 133), (44, 39), (44, 40), (44, 41),\n",
            "       (44, 43), (44, 44), (44, 45), (44, 46), (44, 48), (45, 30),\n",
            "       (45, 36), (45, 42), (45, 43), (45, 45), (45, 46), (45, 47),\n",
            "       (45, 48), (45, 50), (45, 51), (45, 52), (46, 37), (46, 41),\n",
            "       (46, 45), (46, 46), (46, 48), (46, 49), (46, 50), (47, 32),\n",
            "       (47, 42), (47, 43), (47, 45), (47, 47), (47, 52), (48, 42),\n",
            "       (48, 46), (48, 47), (48, 48), (48, 49), (48, 50), (48, 51),\n",
            "       (48, 52), (48, 61), (49, 39), (49, 44), (49, 48), (49, 51),\n",
            "       (49, 53), (49, 67), (50, 39), (50, 43), (50, 44), (50, 49),\n",
            "       (50, 50), (50, 51), (50, 54), (50, 59), (50, 68), (51, 30),\n",
            "       (51, 40), (51, 41), (51, 42), (51, 44), (51, 45), (51, 50),\n",
            "       (51, 51), (51, 53), (51, 57), (51, 59), (51, 61), (51, 62),\n",
            "       (52, 35), (52, 44), (52, 45), (52, 46), (52, 48), (52, 51),\n",
            "       (52, 52), (52, 53), (52, 55), (52, 59), (52, 63), (52, 71),\n",
            "       (53, 29), (53, 44), (53, 49), (53, 50), (53, 51), (53, 52),\n",
            "       (53, 53), (53, 54), (53, 55), (53, 58), (53, 59), (53, 61),\n",
            "       (53, 66), (53, 70), (53, 71), (54, 41), (54, 42), (54, 45),\n",
            "       (54, 50), (54, 54), (54, 56), (54, 57), (54, 64), (54, 65),\n",
            "       (54, 69), (54, 70), (54, 71), (55, 40), (55, 48), (55, 51),\n",
            "       (55, 53), (55, 55), (55, 56), (55, 57), (55, 66), (55, 68),\n",
            "       (55, 73), (56, 35), (56, 41), (56, 46), (56, 48), (56, 50),\n",
            "       (56, 51), (56, 52), (56, 53), (56, 54), (56, 55), (56, 57),\n",
            "       (56, 60), (56, 62), (56, 63), (56, 84), (57, 39), (57, 50),\n",
            "       (57, 54), (57, 55), (57, 56), (57, 57), (57, 58), (57, 60),\n",
            "       (57, 64), (57, 67), (57, 69), (57, 152), (58, 46), (58, 50),\n",
            "       (58, 52), (58, 53), (58, 54), (58, 58), (58, 59), (58, 60),\n",
            "       (58, 80), (59, 28), (59, 42), (59, 46), (59, 50), (59, 51),\n",
            "       (59, 54), (59, 55), (59, 56), (59, 58), (59, 60), (59, 62),\n",
            "       (59, 67), (59, 70), (60, 40), (60, 50), (60, 54), (60, 55),\n",
            "       (60, 59), (60, 62), (60, 64), (60, 69), (60, 119), (61, 55),\n",
            "       (61, 59), (61, 60), (62, 61), (62, 62), (62, 63), (62, 64),\n",
            "       (62, 65), (62, 75), (62, 76), (63, 36), (63, 58), (63, 59),\n",
            "       (63, 62), (63, 63), (63, 64), (63, 66), (63, 68), (63, 71),\n",
            "       (63, 75), (63, 76), (63, 160), (64, 49), (64, 60), (64, 61),\n",
            "       (64, 63), (64, 71), (64, 72), (65, 41), (65, 48), (65, 49),\n",
            "       (65, 60), (65, 63), (65, 64), (65, 66), (65, 73), (66, 36),\n",
            "       (66, 53), (66, 63), (66, 66), (66, 67), (66, 69), (66, 71),\n",
            "       (66, 72), (66, 77), (66, 78), (67, 64), (67, 65), (67, 67),\n",
            "       (67, 69), (67, 71), (67, 73), (68, 56), (68, 64), (68, 65),\n",
            "       (68, 69), (68, 72), (68, 75), (68, 79), (68, 80), (69, 61),\n",
            "       (69, 62), (69, 65), (69, 69), (69, 72), (69, 73), (69, 79),\n",
            "       (70, 36), (70, 58), (70, 69), (70, 70), (70, 75), (70, 84),\n",
            "       (71, 48), (71, 60), (71, 63), (71, 64), (71, 70), (71, 72),\n",
            "       (72, 43), (72, 44), (72, 50), (72, 64), (72, 67), (72, 72),\n",
            "       (72, 73), (72, 76), (72, 80), (72, 98), (72, 136), (73, 58),\n",
            "       (73, 61), (73, 64), (73, 67), (73, 72), (73, 73), (73, 78),\n",
            "       (73, 79), (74, 52), (74, 61), (74, 74), (74, 75), (74, 76),\n",
            "       (74, 83), (75, 48), (75, 61), (75, 63), (75, 75), (75, 76),\n",
            "       (75, 77), (75, 79), (75, 90), (76, 64), (76, 70), (76, 71),\n",
            "       (76, 72), (76, 74), (76, 85), (77, 47), (77, 60), (77, 76),\n",
            "       (77, 87), (78, 80), (79, 33), (79, 58), (79, 68), (79, 79),\n",
            "       (79, 80), (79, 97), (79, 104), (80, 73), (80, 77), (80, 94),\n",
            "       (81, 73), (81, 81), (82, 76), (82, 82), (82, 83), (83, 76),\n",
            "       (83, 91), (84, 63), (84, 69), (84, 74), (85, 57), (85, 68),\n",
            "       (86, 74), (86, 75), (86, 82), (86, 87), (86, 89), (86, 114),\n",
            "       (87, 71), (87, 74), (87, 75), (87, 81), (87, 89), (87, 99),\n",
            "       (88, 56), (88, 62), (88, 81), (88, 82), (89, 45), (89, 76),\n",
            "       (89, 81), (89, 90), (89, 112), (89, 157), (90, 67), (90, 90),\n",
            "       (91, 53), (91, 62), (92, 87), (92, 91), (92, 94), (94, 70),\n",
            "       (94, 95), (95, 89), (95, 100), (96, 97), (96, 100), (97, 54),\n",
            "       (98, 64), (98, 71), (98, 96), (99, 69), (99, 110), (100, 72),\n",
            "       (101, 49), (101, 65), (101, 103), (102, 66), (103, 117),\n",
            "       (104, 116), (107, 107), (107, 131), (107, 150), (107, 183),\n",
            "       (109, 111), (110, 96), (111, 112), (112, 83), (112, 116),\n",
            "       (112, 120), (113, 71), (114, 90), (115, 92), (115, 117),\n",
            "       (116, 129), (116, 146), (118, 84), (118, 95), (119, 116),\n",
            "       (121, 81), (122, 102), (122, 104), (122, 204), (123, 103),\n",
            "       (123, 136), (126, 143), (129, 127), (130, 136), (131, 66),\n",
            "       (131, 135), (132, 136), (133, 97), (134, 99), (134, 111),\n",
            "       (135, 146), (136, 205), (137, 116), (143, 132), (144, 204),\n",
            "       (147, 116), (148, 183), (151, 78), (152, 172), (153, 187),\n",
            "       (155, 175), (156, 139), (173, 48), (212, 84), (300, 202)],\n",
            "      dtype=object), array([     1,     25,     25,    595,      4,     25,      1,      4,\n",
            "           98,      8,      1,    103,      1,   4420,      1,      1,\n",
            "            8,      9,      1,      4,    121,      1,    125,      1,\n",
            "            1,    395,   2971,      2,    198,      1,      1,      1,\n",
            "            1,   4417,  64083,    309,     12,    295,  30078,    497,\n",
            "          100,   2065,    113,      1,     50,      1,  12655,    250,\n",
            "           13,    100,    298,     25,      1,     84,    411,    118,\n",
            "           50,     49,      1,     89,     37,      2,      1,    126,\n",
            "        13247,   5417,    197,    259,    325,     12,    523,     50,\n",
            "            1,     50,    609,   1206,    172,  29513,     52,      9,\n",
            "          185,     62,  10788,    119,  14569,    150,   1687,     24,\n",
            "       108687,      5,    561,   1195,    421,     25,    104,      1,\n",
            "           76,    340,  20276,     49,    100,    454,  23886,   1973,\n",
            "           13,   3923,     50,    200,   8155,     19,    448,   2529,\n",
            "         1982,     50,     22,      4,     46,    300,   6629,     24,\n",
            "           75,    776,     25,   1724,    449,   1040,  10676,    619,\n",
            "           61,   1471,     89,   2562,    100,    150,    726,     82,\n",
            "            1,     25,   1475,    100,   1257,    150,    389,    175,\n",
            "          537,      1,   2174,      1,    245,   2621,   8895,    400,\n",
            "         1497,    151,   2024,     50,      3,      1,      1,    150,\n",
            "        13562,    103,  15327,      6,    733,    131,     25,    950,\n",
            "          399,   2353,      1,      1,     30,    418,   5224,     12,\n",
            "           50,    946,     25,    188,      1,     50,      1,   5432,\n",
            "         5062,    509,   2709,   3167,   4639,    120,    275,   2583,\n",
            "          108,     28,    201,     66,     25,    305,    164,    300,\n",
            "          476,   7035,    164,     25,     14,    248,   1948,      1,\n",
            "         1620,    695,   4289,     25,     25,    125,     12,    823,\n",
            "         7131,    948,   8601,    750,      5,    874,     25,      1,\n",
            "         2730,   5598,   1207,    248,      1,    621,     29,    524,\n",
            "           34,     51,     75,    726,   2168,      7,      2,    479,\n",
            "           97,    851,    326,    225,   1671,    125,     25,      6,\n",
            "          872,    913,     75,     12,   1074,    253,     75,  39323,\n",
            "           21,    338,     53,    275,      1,    214,   3326,     25,\n",
            "          174,    748,    133,    275,      2,    162,   5000,    202,\n",
            "          352,      1,    144,      1,   1936,     25,     65,    875,\n",
            "         7890,    176,    122,     43,      2,      8,    168,     50,\n",
            "         1066,    615,    225,    386,  14812,    276,      2,      1,\n",
            "          322,     13,     26,      3,   1523,     63,    173,     55,\n",
            "         1212,    400,    176,     75,      1,      9,      1,    185,\n",
            "          198,    100,     53,     25,     26,      1,      1,      1,\n",
            "            9,   3726,     12,    137,    612,    291,    575,    150,\n",
            "          322,    125,    225,      7,    449,   5599,     75,     43,\n",
            "          114,    364,    400,     32,     19,    226,   1150,     25,\n",
            "           68,    100,     12,    440,     10,     50,     73,    323,\n",
            "          225,   2180,    361,    194,    149,     32,     17,    243,\n",
            "          125,   1281,    965,     50,    111,    225,     65,     74,\n",
            "            1,    441,   1715,    165,     25,   2018,     50,    824,\n",
            "          209,   1504,    259,     50,     24,     25,    796,    158,\n",
            "         1819,    125,     41,     25,     50,   1231,      1,      1,\n",
            "         1332,   1100,    150,      2,    273,    100,    125,   1193,\n",
            "           12,   1214,    300,   3913,    150,    808,    800,     50,\n",
            "           25,     45,   1646,   3075,     25,   1299,    749,    525,\n",
            "        11692,   4273,      1,    387,     35,    125,     18,     25,\n",
            "           25,    124,      5,    349,    207,    200,      4,     26,\n",
            "           78,   1484,   2593,    350,     25,    511,     25,      3,\n",
            "          727,    381,     24,    342,    313,    123,    325,    125,\n",
            "            2,    688,     25,    160,     50,    700,     25,    610,\n",
            "          574,     50,     24,     50,     30,   1370,     25,    321,\n",
            "           33,    586,    126,    649,    127,   1399,   1520,    157,\n",
            "           25,    500,   5533,     25,    300,    932,     25,      8,\n",
            "          420,     50,     23,    496,    447,     75,    100,   1149,\n",
            "           25,    550,     75,     49,   3776,     25,   1131,   3723,\n",
            "           25,   1217,    175,    175,    100,     10,    225,    224,\n",
            "         1373,     50,     25,    764,     80,    126,    197,     25,\n",
            "           48,      1,    655,     16,     25,    715,      8,    246,\n",
            "            1,   1549,     75,   1440,   1430,     16,     49,   1386,\n",
            "           25,     25,    361,     50,    414,    250,    160,      4,\n",
            "            6,    100,     75,   4038,      4,    100,   4845,    498,\n",
            "            1,   1808,     75,   2198,      1,   3863,      3,      1,\n",
            "         4398,     45,   1022,   3856,     11,    273,      7,      4,\n",
            "           80,    175,     83,    100,    324,     50,    100,    375,\n",
            "          324,      7,     38,    549,    200,     45,      1,    103,\n",
            "           99,     51,    125,   1474,    636,     25,      1,    175,\n",
            "          125,   1399,     24,     26,    375,      2,     99,     50,\n",
            "           47,   1964,    792,    361,    150,     99,    107,    814,\n",
            "           20,    174,     23,   1227,     22,     66,      1,    135,\n",
            "          124,      7,     27,     75,      4,    177,    709,   1618,\n",
            "            8,   1872,     18,    999,     15,     35,     36,      1,\n",
            "            4,     28,     65,     53,     14,      8,   7561,     19]))\n"
          ],
          "name": "stdout"
        }
      ]
    },
    {
      "cell_type": "markdown",
      "metadata": {
        "id": "UVLIa8Sx174C"
      },
      "source": [
        "wafer map의 크기가 다양하다."
      ]
    },
    {
      "cell_type": "code",
      "metadata": {
        "id": "t3_o0igYFEQg",
        "outputId": "1e50fd10-fbbc-4c4e-f8db-0f7d165c382c",
        "colab": {
          "base_uri": "https://localhost:8080/",
          "height": 265
        }
      },
      "source": [
        "plt.plot(shape_count[1])\n",
        "plt.show()"
      ],
      "execution_count": 132,
      "outputs": [
        {
          "output_type": "display_data",
          "data": {
            "image/png": "[encoded data removed]",
            "text/plain": [
              "<Figure size 432x288 with 1 Axes>"
            ]
          },
          "metadata": {
            "tags": [],
            "needs_background": "light"
          }
        }
      ]
    },
    {
      "cell_type": "markdown",
      "metadata": {
        "id": "CEwCV1KBFPik"
      },
      "source": [
        "대부분 20,000 미만이고, 몇 개만 다수이다."
      ]
    },
    {
      "cell_type": "markdown",
      "metadata": {
        "id": "bzP4OAv2wUYE"
      },
      "source": [
        "## 컬럼 dieSize"
      ]
    },
    {
      "cell_type": "code",
      "metadata": {
        "id": "AHAAUnbsuf2i",
        "outputId": "8175daae-210e-4f0e-b699-384fccbe90b7",
        "colab": {
          "base_uri": "https://localhost:8080/"
        }
      },
      "source": [
        "die_size = np.unique(df.dieSize, return_counts=True)\n",
        "print(die_size)"
      ],
      "execution_count": 100,
      "outputs": [
        {
          "output_type": "stream",
          "text": [
            "(array([3.0000e+00, 1.2000e+01, 2.1000e+01, ..., 2.3216e+04, 4.3935e+04,\n",
            "       4.8099e+04]), array([ 1,  1,  2, ..., 35,  3, 16]))\n"
          ],
          "name": "stdout"
        }
      ]
    },
    {
      "cell_type": "code",
      "metadata": {
        "id": "lOfJIuuNufme",
        "outputId": "dc3b42af-18f4-44d4-d3ec-4ae8547173c4",
        "colab": {
          "base_uri": "https://localhost:8080/"
        }
      },
      "source": [
        "print(len(die_size[0]))"
      ],
      "execution_count": 101,
      "outputs": [
        {
          "output_type": "stream",
          "text": [
            "1266\n"
          ],
          "name": "stdout"
        }
      ]
    },
    {
      "cell_type": "code",
      "metadata": {
        "id": "1aZmICTBv4Nl",
        "outputId": "3aecbc57-2841-46c6-b1a5-87e3a84412bc",
        "colab": {
          "base_uri": "https://localhost:8080/",
          "height": 285
        }
      },
      "source": [
        "plt.plot(die_size[0])"
      ],
      "execution_count": 102,
      "outputs": [
        {
          "output_type": "execute_result",
          "data": {
            "text/plain": [
              "[<matplotlib.lines.Line2D at 0x7f2d00f19208>]"
            ]
          },
          "metadata": {
            "tags": []
          },
          "execution_count": 102
        },
        {
          "output_type": "display_data",
          "data": {
            "image/png": "[encoded data removed]",
            "text/plain": [
              "<Figure size 432x288 with 1 Axes>"
            ]
          },
          "metadata": {
            "tags": [],
            "needs_background": "light"
          }
        }
      ]
    },
    {
      "cell_type": "markdown",
      "metadata": {
        "id": "ffY2I3VVxqo_"
      },
      "source": [
        "대부분이 10,000보다 작은 값이고, 소수 많이 10,000 ~ 50,000의 값을 갖는다."
      ]
    },
    {
      "cell_type": "code",
      "metadata": {
        "id": "wxsPLRhNvepW",
        "outputId": "0f5a952b-7fd1-4a1f-bf69-0b80a7ed1b05",
        "colab": {
          "base_uri": "https://localhost:8080/",
          "height": 286
        }
      },
      "source": [
        "plt.plot(die_size[1])"
      ],
      "execution_count": 103,
      "outputs": [
        {
          "output_type": "execute_result",
          "data": {
            "text/plain": [
              "[<matplotlib.lines.Line2D at 0x7f2d010a3dd8>]"
            ]
          },
          "metadata": {
            "tags": []
          },
          "execution_count": 103
        },
        {
          "output_type": "display_data",
          "data": {
            "image/png": "[encoded data removed]",
            "text/plain": [
              "<Figure size 432x288 with 1 Axes>"
            ]
          },
          "metadata": {
            "tags": [],
            "needs_background": "light"
          }
        }
      ]
    },
    {
      "cell_type": "markdown",
      "metadata": {
        "id": "gzHGBi-QxxlG"
      },
      "source": [
        "5,6개만 10,000개 이상이고 대부분 10,000개 미만이다."
      ]
    },
    {
      "cell_type": "code",
      "metadata": {
        "id": "lCNKdSi_ufpg"
      },
      "source": [
        ""
      ],
      "execution_count": 103,
      "outputs": []
    },
    {
      "cell_type": "markdown",
      "metadata": {
        "id": "lAhFeVhUx4Gi"
      },
      "source": [
        "## 컬럼 lotName"
      ]
    },
    {
      "cell_type": "code",
      "metadata": {
        "id": "DP2xpB9IwbZR",
        "outputId": "7ad6c68f-6aa6-4003-ba03-c26bc92e6e08",
        "colab": {
          "base_uri": "https://localhost:8080/"
        }
      },
      "source": [
        "lot_name = np.unique(df.lotName, return_counts=True)\n",
        "print(lot_name)\n",
        "print(len(lot_name[0]))"
      ],
      "execution_count": 104,
      "outputs": [
        {
          "output_type": "stream",
          "text": [
            "(array(['lot1', 'lot10', 'lot100', ..., 'lot9997', 'lot9998', 'lot9999'],\n",
            "      dtype=object), array([25, 25, 25, ..., 23, 23, 23]))\n",
            "46293\n"
          ],
          "name": "stdout"
        }
      ]
    },
    {
      "cell_type": "code",
      "metadata": {
        "id": "YEOoSrhzwoZt",
        "outputId": "5b2f76cd-8f63-403a-d11f-caa46fa0683b",
        "colab": {
          "base_uri": "https://localhost:8080/",
          "height": 335
        }
      },
      "source": [
        "unique_count = np.unique(lot_name[1], return_counts=True)\n",
        "print(unique_count)\n",
        "plt.bar(unique_count[0], unique_count[1], color='gold', align='center', alpha=0.5)\n",
        "plt.show()"
      ],
      "execution_count": 105,
      "outputs": [
        {
          "output_type": "stream",
          "text": [
            "(array([ 1,  2,  3,  4,  5,  6,  7,  8,  9, 10, 11, 12, 13, 14, 15, 16, 17,\n",
            "       18, 19, 20, 21, 22, 23, 24, 25]), array([ 3461,  1255,   853,   737,  1279,   634,  1053,   560,  1404,\n",
            "        1077,   682,  3032,  1960,   149,   246,   248,   260,   419,\n",
            "         243,   336,   391,   602,   991,  2659, 21762]))\n"
          ],
          "name": "stdout"
        },
        {
          "output_type": "display_data",
          "data": {
            "image/png": "[encoded data removed]",
            "text/plain": [
              "<Figure size 432x288 with 1 Axes>"
            ]
          },
          "metadata": {
            "tags": [],
            "needs_background": "light"
          }
        }
      ]
    },
    {
      "cell_type": "markdown",
      "metadata": {
        "id": "qwHz0BJyxSiA"
      },
      "source": [
        "25개의 같은 lot name을 갖는 것이 대부분이다."
      ]
    },
    {
      "cell_type": "markdown",
      "metadata": {
        "id": "MpE0mhudubqd"
      },
      "source": [
        "## 컬럼 waferIndex"
      ]
    },
    {
      "cell_type": "code",
      "metadata": {
        "id": "PYkLPOSytq4N",
        "outputId": "3d2b6ee9-bae2-4c60-a1ee-957df14da2c3",
        "colab": {
          "base_uri": "https://localhost:8080/"
        }
      },
      "source": [
        "wafer_index_count = np.unique(df.waferIndex, return_counts=True)\n",
        "print(wafer_index_count)"
      ],
      "execution_count": 106,
      "outputs": [
        {
          "output_type": "stream",
          "text": [
            "(array([ 1.,  2.,  3.,  4.,  5.,  6.,  7.,  8.,  9., 10., 11., 12., 13.,\n",
            "       14., 15., 16., 17., 18., 19., 20., 21., 22., 23., 24., 25.]), array([32516, 32663, 32621, 32714, 32701, 32745, 32672, 32650, 32636,\n",
            "       32586, 32637, 32598, 32381, 32353, 32301, 32362, 32333, 32333,\n",
            "       32285, 32290, 32320, 32312, 32202, 32197, 32049]))\n"
          ],
          "name": "stdout"
        }
      ]
    },
    {
      "cell_type": "code",
      "metadata": {
        "id": "kglLixQktrKY",
        "outputId": "b641e97a-3078-42b9-f2b5-24e9dd9f9720",
        "colab": {
          "base_uri": "https://localhost:8080/",
          "height": 265
        }
      },
      "source": [
        "plt.bar(unique_wafer_index[0], unique_wafer_index[1], color='gold', align='center', alpha=0.5)\n",
        "plt.show()"
      ],
      "execution_count": 107,
      "outputs": [
        {
          "output_type": "display_data",
          "data": {
            "image/png": "[encoded data removed]",
            "text/plain": [
              "<Figure size 432x288 with 1 Axes>"
            ]
          },
          "metadata": {
            "tags": [],
            "needs_background": "light"
          }
        }
      ]
    },
    {
      "cell_type": "markdown",
      "metadata": {
        "id": "xvvMn06rxhCy"
      },
      "source": [
        "wafer index는 1~25의 값이며, 그 분포가 거의 동일하다."
      ]
    },
    {
      "cell_type": "markdown",
      "metadata": {
        "id": "Uyy3xr4-3tbh"
      },
      "source": [
        "## 컬럼 trainTestLabel"
      ]
    },
    {
      "cell_type": "code",
      "metadata": {
        "id": "YnYl1P6ltrVM",
        "outputId": "e52ceef8-4ed2-4fba-b08a-a776074cecd6",
        "colab": {
          "base_uri": "https://localhost:8080/"
        }
      },
      "source": [
        "train_test_label = df.trianTestLabel.values\n",
        "print(train_test_label[0])\n",
        "print(train_test_label[0][0])\n",
        "print(train_test_label[0][0][0])"
      ],
      "execution_count": 108,
      "outputs": [
        {
          "output_type": "stream",
          "text": [
            "[['Training']]\n",
            "['Training']\n",
            "Training\n"
          ],
          "name": "stdout"
        }
      ]
    },
    {
      "cell_type": "markdown",
      "metadata": {
        "id": "UtfVfkg449Wi"
      },
      "source": [
        "사용하지 않을 컬럼이다. 무시한다."
      ]
    },
    {
      "cell_type": "markdown",
      "metadata": {
        "id": "26jmFsH35CMr"
      },
      "source": [
        "## 컬럼 failureType"
      ]
    },
    {
      "cell_type": "code",
      "metadata": {
        "id": "Ae8ctKUFtrdD",
        "outputId": "779ef918-5dba-4663-e23f-410f2d2228f5",
        "colab": {
          "base_uri": "https://localhost:8080/"
        }
      },
      "source": [
        "df.info()"
      ],
      "execution_count": 109,
      "outputs": [
        {
          "output_type": "stream",
          "text": [
            "<class 'pandas.core.frame.DataFrame'>\n",
            "RangeIndex: 811457 entries, 0 to 811456\n",
            "Data columns (total 7 columns):\n",
            " #   Column          Non-Null Count   Dtype  \n",
            "---  ------          --------------   -----  \n",
            " 0   waferMap        811457 non-null  object \n",
            " 1   dieSize         811457 non-null  float64\n",
            " 2   lotName         811457 non-null  object \n",
            " 3   waferIndex      811457 non-null  float64\n",
            " 4   trianTestLabel  811457 non-null  object \n",
            " 5   failureType     811457 non-null  object \n",
            " 6   waferMapShape   811457 non-null  object \n",
            "dtypes: float64(2), object(5)\n",
            "memory usage: 43.3+ MB\n"
          ],
          "name": "stdout"
        }
      ]
    },
    {
      "cell_type": "code",
      "metadata": {
        "id": "Sv8Yj9AMtrBy",
        "outputId": "fa67beb4-925e-43a5-885c-e5ba95ba4669",
        "colab": {
          "base_uri": "https://localhost:8080/"
        }
      },
      "source": [
        "failure_type = df.failureType.values\n",
        "print(failure_type[0])\n",
        "print(failure_type[999])\n",
        "print(failure_type[1111])\n",
        "print(failure_type[2222])"
      ],
      "execution_count": 110,
      "outputs": [
        {
          "output_type": "stream",
          "text": [
            "[['none']]\n",
            "[['none']]\n",
            "[['none']]\n",
            "[]\n"
          ],
          "name": "stdout"
        }
      ]
    },
    {
      "cell_type": "code",
      "metadata": {
        "id": "g4ars4uU5WSh",
        "outputId": "26307bfe-837e-450a-9e0c-23986c1bc51f",
        "colab": {
          "base_uri": "https://localhost:8080/",
          "height": 279
        }
      },
      "source": [
        "failure_name = ['Center','Donut','Edge-Loc','Edge-Ring','Loc','Random','Scratch','Near-full', 'none']\n",
        "failure_category_index = {}\n",
        "for i in range(len(failure_name)):\n",
        "  failure_category_index[failure_name[i]] = i\n",
        "#failure_category_index = {'Center':0,'Donut':1,'Edge-Loc':2,'Edge-Ring':3,'Loc':4,'Random':5,'Scratch':6,'Near-full':7,'none':8}\n",
        "\n",
        "def encode_failure_type(x):\n",
        "  # x = [['Center']]\n",
        "  if len(x)==0 or len(x[0])==0 : return failure_category_index['none']\n",
        "  return failure_category_index[x[0][0]]\n",
        "\n",
        "df['failureCategory']=df.failureType.apply(encode_failure_type)\n",
        "df.sample(5)"
      ],
      "execution_count": 118,
      "outputs": [
        {
          "output_type": "execute_result",
          "data": {
            "text/html": [
              "<div>\n",
              "<style scoped>\n",
              "    .dataframe tbody tr th:only-of-type {\n",
              "        vertical-align: middle;\n",
              "    }\n",
              "\n",
              "    .dataframe tbody tr th {\n",
              "        vertical-align: top;\n",
              "    }\n",
              "\n",
              "    .dataframe thead th {\n",
              "        text-align: right;\n",
              "    }\n",
              "</style>\n",
              "<table border=\"1\" class=\"dataframe\">\n",
              "  <thead>\n",
              "    <tr style=\"text-align: right;\">\n",
              "      <th></th>\n",
              "      <th>waferMap</th>\n",
              "      <th>dieSize</th>\n",
              "      <th>lotName</th>\n",
              "      <th>waferIndex</th>\n",
              "      <th>trianTestLabel</th>\n",
              "      <th>failureType</th>\n",
              "      <th>waferMapShape</th>\n",
              "      <th>failureCategory</th>\n",
              "    </tr>\n",
              "  </thead>\n",
              "  <tbody>\n",
              "    <tr>\n",
              "      <th>148011</th>\n",
              "      <td>[[0, 0, 0, 0, 0, 0, 0, 0, 0, 0, 0, 0, 0, 0, 0,...</td>\n",
              "      <td>3605.0</td>\n",
              "      <td>lot9471</td>\n",
              "      <td>14.0</td>\n",
              "      <td>[]</td>\n",
              "      <td>[]</td>\n",
              "      <td>(75, 61)</td>\n",
              "      <td>8</td>\n",
              "    </tr>\n",
              "    <tr>\n",
              "      <th>744968</th>\n",
              "      <td>[[0, 0, 0, 0, 0, 0, 0, 0, 0, 0, 0, 0, 0, 0, 0,...</td>\n",
              "      <td>822.0</td>\n",
              "      <td>lot44843</td>\n",
              "      <td>3.0</td>\n",
              "      <td>[[Test]]</td>\n",
              "      <td>[[none]]</td>\n",
              "      <td>(22, 50)</td>\n",
              "      <td>8</td>\n",
              "    </tr>\n",
              "    <tr>\n",
              "      <th>64565</th>\n",
              "      <td>[[0, 0, 0, 0, 0, 0, 0, 0, 0, 0, 0, 0, 0, 0, 0,...</td>\n",
              "      <td>776.0</td>\n",
              "      <td>lot4955</td>\n",
              "      <td>12.0</td>\n",
              "      <td>[]</td>\n",
              "      <td>[]</td>\n",
              "      <td>(30, 34)</td>\n",
              "      <td>8</td>\n",
              "    </tr>\n",
              "    <tr>\n",
              "      <th>51957</th>\n",
              "      <td>[[0, 0, 0, 0, 0, 0, 0, 0, 0, 0, 0, 0, 1, 1, 2,...</td>\n",
              "      <td>710.0</td>\n",
              "      <td>lot4229</td>\n",
              "      <td>2.0</td>\n",
              "      <td>[]</td>\n",
              "      <td>[]</td>\n",
              "      <td>(32, 29)</td>\n",
              "      <td>8</td>\n",
              "    </tr>\n",
              "    <tr>\n",
              "      <th>121644</th>\n",
              "      <td>[[0, 0, 0, 0, 0, 0, 0, 0, 0, 0, 0, 0, 0, 0, 0,...</td>\n",
              "      <td>776.0</td>\n",
              "      <td>lot8128</td>\n",
              "      <td>19.0</td>\n",
              "      <td>[]</td>\n",
              "      <td>[]</td>\n",
              "      <td>(30, 34)</td>\n",
              "      <td>8</td>\n",
              "    </tr>\n",
              "  </tbody>\n",
              "</table>\n",
              "</div>"
            ],
            "text/plain": [
              "                                                 waferMap  ...  failureCategory\n",
              "148011  [[0, 0, 0, 0, 0, 0, 0, 0, 0, 0, 0, 0, 0, 0, 0,...  ...                8\n",
              "744968  [[0, 0, 0, 0, 0, 0, 0, 0, 0, 0, 0, 0, 0, 0, 0,...  ...                8\n",
              "64565   [[0, 0, 0, 0, 0, 0, 0, 0, 0, 0, 0, 0, 0, 0, 0,...  ...                8\n",
              "51957   [[0, 0, 0, 0, 0, 0, 0, 0, 0, 0, 0, 0, 1, 1, 2,...  ...                8\n",
              "121644  [[0, 0, 0, 0, 0, 0, 0, 0, 0, 0, 0, 0, 0, 0, 0,...  ...                8\n",
              "\n",
              "[5 rows x 8 columns]"
            ]
          },
          "metadata": {
            "tags": []
          },
          "execution_count": 118
        }
      ]
    },
    {
      "cell_type": "code",
      "metadata": {
        "id": "hq288FF65WAh",
        "outputId": "07866351-781f-4174-9397-9889c7047dde",
        "colab": {
          "base_uri": "https://localhost:8080/"
        }
      },
      "source": [
        "failure_category_count = np.unique(df.failureCategory, return_counts=True)\n",
        "print(failure_category_count)"
      ],
      "execution_count": 119,
      "outputs": [
        {
          "output_type": "stream",
          "text": [
            "(array([0, 1, 2, 3, 4, 5, 6, 7, 8]), array([  4294,    555,   5189,   9680,   3593,    866,   1193,    149,\n",
            "       785938]))\n"
          ],
          "name": "stdout"
        }
      ]
    },
    {
      "cell_type": "code",
      "metadata": {
        "id": "UPnZU0eL9GP_",
        "outputId": "fe9da651-f7b9-4f3e-cf6f-7e8af345493f",
        "colab": {
          "base_uri": "https://localhost:8080/",
          "height": 265
        }
      },
      "source": [
        "plt.bar(failure_category_count[0], failure_category_count[1])\n",
        "plt.show()"
      ],
      "execution_count": 120,
      "outputs": [
        {
          "output_type": "display_data",
          "data": {
            "image/png": "[encoded data removed]",
            "text/plain": [
              "<Figure size 432x288 with 1 Axes>"
            ]
          },
          "metadata": {
            "tags": [],
            "needs_background": "light"
          }
        }
      ]
    },
    {
      "cell_type": "markdown",
      "metadata": {
        "id": "oVUe01Dh9LaF"
      },
      "source": [
        "failure type이 8('none') 인것이 대부분이다. failure가 아닌 것이다."
      ]
    },
    {
      "cell_type": "code",
      "metadata": {
        "id": "vRzdZ8ZgX5gK",
        "outputId": "351f23bf-8565-4007-89de-44928869cd7e",
        "colab": {
          "base_uri": "https://localhost:8080/",
          "height": 266
        }
      },
      "source": [
        "plt.bar(failure_category_count[0][:-1], failure_category_count[1][:-1])\n",
        "plt.show()"
      ],
      "execution_count": 234,
      "outputs": [
        {
          "output_type": "display_data",
          "data": {
            "image/png": "[encoded data removed]",
            "text/plain": [
              "<Figure size 432x288 with 1 Axes>"
            ]
          },
          "metadata": {
            "tags": [],
            "needs_background": "light"
          }
        }
      ]
    },
    {
      "cell_type": "markdown",
      "metadata": {
        "id": "mabpdQUPX97c"
      },
      "source": [
        "1, 5, 6, 7이 너무 적다.\n",
        "\n",
        "분류를 하려면 1, 5, 6, 7을 모아서 하나의 카테고리로 해야 할 듯"
      ]
    },
    {
      "cell_type": "markdown",
      "metadata": {
        "id": "PAYLXje8Eq9l"
      },
      "source": [
        "# 문제 정의\n",
        "\n",
        "wafer map 영상을 입력으로 failure type을 예측한다.\n",
        "\n",
        "학습과 검증에는 failure가 아닌 것만 사용한다.\n",
        "\n"
      ]
    },
    {
      "cell_type": "code",
      "metadata": {
        "id": "M88ky__qE6M3",
        "outputId": "67e28554-b48d-4f61-b2b2-5bb6c407ec9b",
        "colab": {
          "base_uri": "https://localhost:8080/"
        }
      },
      "source": [
        "failure_df = df[df['failureCategory']!=8]\n",
        "failure_df.info()"
      ],
      "execution_count": 267,
      "outputs": [
        {
          "output_type": "stream",
          "text": [
            "<class 'pandas.core.frame.DataFrame'>\n",
            "Int64Index: 25519 entries, 19 to 811454\n",
            "Data columns (total 8 columns):\n",
            " #   Column           Non-Null Count  Dtype  \n",
            "---  ------           --------------  -----  \n",
            " 0   waferMap         25519 non-null  object \n",
            " 1   dieSize          25519 non-null  float64\n",
            " 2   lotName          25519 non-null  object \n",
            " 3   waferIndex       25519 non-null  float64\n",
            " 4   trianTestLabel   25519 non-null  object \n",
            " 5   failureType      25519 non-null  object \n",
            " 6   waferMapShape    25519 non-null  object \n",
            " 7   failureCategory  25519 non-null  int64  \n",
            "dtypes: float64(2), int64(1), object(5)\n",
            "memory usage: 1.8+ MB\n"
          ],
          "name": "stdout"
        }
      ]
    },
    {
      "cell_type": "code",
      "metadata": {
        "id": "l6BgReX8E6S6",
        "outputId": "fea7d545-1c74-43ee-9d3e-f719db8eb824",
        "colab": {
          "base_uri": "https://localhost:8080/",
          "height": 1000
        }
      },
      "source": [
        "for i in range(len(failure_name)-1):\n",
        "  fig, ax = plt.subplots(nrows = 1, ncols = 10, figsize=(18, 12))\n",
        "  sub_df = failure_df[failure_df['failureCategory']==i]\n",
        "  print(failure_name[i])\n",
        "  for j in range(10):\n",
        "    ax[j].imshow(sub_df.iloc[j].waferMap)\n",
        "  plt.show()\n",
        "  "
      ],
      "execution_count": 240,
      "outputs": [
        {
          "output_type": "stream",
          "text": [
            "Center\n"
          ],
          "name": "stdout"
        },
        {
          "output_type": "display_data",
          "data": {
            "image/png": "[encoded data removed]",
            "text/plain": [
              "<Figure size 1296x864 with 10 Axes>"
            ]
          },
          "metadata": {
            "tags": [],
            "needs_background": "light"
          }
        },
        {
          "output_type": "stream",
          "text": [
            "Donut\n"
          ],
          "name": "stdout"
        },
        {
          "output_type": "display_data",
          "data": {
            "image/png": "[encoded data removed]",
            "text/plain": [
              "<Figure size 1296x864 with 10 Axes>"
            ]
          },
          "metadata": {
            "tags": [],
            "needs_background": "light"
          }
        },
        {
          "output_type": "stream",
          "text": [
            "Edge-Loc\n"
          ],
          "name": "stdout"
        },
        {
          "output_type": "display_data",
          "data": {
            "image/png": "[encoded data removed]",
            "text/plain": [
              "<Figure size 1296x864 with 10 Axes>"
            ]
          },
          "metadata": {
            "tags": [],
            "needs_background": "light"
          }
        },
        {
          "output_type": "stream",
          "text": [
            "Edge-Ring\n"
          ],
          "name": "stdout"
        },
        {
          "output_type": "display_data",
          "data": {
            "image/png": "[encoded data removed]",
            "text/plain": [
              "<Figure size 1296x864 with 10 Axes>"
            ]
          },
          "metadata": {
            "tags": [],
            "needs_background": "light"
          }
        },
        {
          "output_type": "stream",
          "text": [
            "Loc\n"
          ],
          "name": "stdout"
        },
        {
          "output_type": "display_data",
          "data": {
            "image/png": "[encoded data removed]",
            "text/plain": [
              "<Figure size 1296x864 with 10 Axes>"
            ]
          },
          "metadata": {
            "tags": [],
            "needs_background": "light"
          }
        },
        {
          "output_type": "stream",
          "text": [
            "Random\n"
          ],
          "name": "stdout"
        },
        {
          "output_type": "display_data",
          "data": {
            "image/png": "[encoded data removed]",
            "text/plain": [
              "<Figure size 1296x864 with 10 Axes>"
            ]
          },
          "metadata": {
            "tags": [],
            "needs_background": "light"
          }
        },
        {
          "output_type": "stream",
          "text": [
            "Scratch\n"
          ],
          "name": "stdout"
        },
        {
          "output_type": "display_data",
          "data": {
            "image/png": "[encoded data removed]",
            "text/plain": [
              "<Figure size 1296x864 with 10 Axes>"
            ]
          },
          "metadata": {
            "tags": [],
            "needs_background": "light"
          }
        },
        {
          "output_type": "stream",
          "text": [
            "Near-full\n"
          ],
          "name": "stdout"
        },
        {
          "output_type": "display_data",
          "data": {
            "image/png": "[encoded data removed]",
            "text/plain": [
              "<Figure size 1296x864 with 10 Axes>"
            ]
          },
          "metadata": {
            "tags": [],
            "needs_background": "light"
          }
        }
      ]
    },
    {
      "cell_type": "markdown",
      "metadata": {
        "id": "qz-ZN6PUYZmQ"
      },
      "source": [
        "# x, y 데이터 생성"
      ]
    },
    {
      "cell_type": "markdown",
      "metadata": {
        "id": "SYPrTm-BYcjz"
      },
      "source": [
        "## x 데이터"
      ]
    },
    {
      "cell_type": "code",
      "metadata": {
        "id": "e6qfjUwFLyFZ"
      },
      "source": [
        "wafer_map  = failure_df.waferMap.values"
      ],
      "execution_count": 299,
      "outputs": []
    },
    {
      "cell_type": "code",
      "metadata": {
        "id": "h2Lm27HOE6Y3"
      },
      "source": [
        "from skimage.transform import resize\n",
        "\n",
        "x = np.empty((len(wafer_map), 26, 26))\n",
        "for i in range(len(wafer_map)):\n",
        "  normalized = wafer_map[i] / 2.0\n",
        "  x[i] = resize(normalized, (26, 26))"
      ],
      "execution_count": 300,
      "outputs": []
    },
    {
      "cell_type": "code",
      "metadata": {
        "id": "BGrKvO-CLrGN",
        "outputId": "93ecd37b-c75c-44ef-e4f0-a09426b10a02",
        "colab": {
          "base_uri": "https://localhost:8080/"
        }
      },
      "source": [
        " print(x.shape)"
      ],
      "execution_count": 301,
      "outputs": [
        {
          "output_type": "stream",
          "text": [
            "(25519, 26, 26)\n"
          ],
          "name": "stdout"
        }
      ]
    },
    {
      "cell_type": "code",
      "metadata": {
        "id": "6Cu_pdOqOGr2",
        "outputId": "59f557f4-ca5f-4a76-9701-a87fe1a29d9b",
        "colab": {
          "base_uri": "https://localhost:8080/"
        }
      },
      "source": [
        "x = np.expand_dims(x, -1)\n",
        "print(x.shape)"
      ],
      "execution_count": 302,
      "outputs": [
        {
          "output_type": "stream",
          "text": [
            "(25519, 26, 26, 1)\n"
          ],
          "name": "stdout"
        }
      ]
    },
    {
      "cell_type": "code",
      "metadata": {
        "id": "J9buZoJWLaWl",
        "outputId": "7d0be568-fd3f-48fe-c6c8-03c4de637055",
        "colab": {
          "base_uri": "https://localhost:8080/"
        }
      },
      "source": [
        "print(np.min(x), np.max(x))"
      ],
      "execution_count": 303,
      "outputs": [
        {
          "output_type": "stream",
          "text": [
            "0.0 1.0000000000000004\n"
          ],
          "name": "stdout"
        }
      ]
    },
    {
      "cell_type": "markdown",
      "metadata": {
        "id": "rd_PJ4_FYeet"
      },
      "source": [
        "## y 데이터"
      ]
    },
    {
      "cell_type": "markdown",
      "metadata": {
        "id": "pIyZ2nstY4Ys"
      },
      "source": [
        "failure category 5,6,7을 1로 변환"
      ]
    },
    {
      "cell_type": "code",
      "metadata": {
        "id": "OqUcAiFWZCDb",
        "outputId": "55a86724-6c48-471a-de1b-0b9350479672",
        "colab": {
          "base_uri": "https://localhost:8080/",
          "height": 266
        }
      },
      "source": [
        "failure_category_count = np.unique(failure_df.failureCategory, return_counts=True)\n",
        "plt.bar(failure_category_count[0], failure_category_count[1])\n",
        "plt.show()"
      ],
      "execution_count": 304,
      "outputs": [
        {
          "output_type": "display_data",
          "data": {
            "image/png": "[encoded data removed]",
            "text/plain": [
              "<Figure size 432x288 with 1 Axes>"
            ]
          },
          "metadata": {
            "tags": [],
            "needs_background": "light"
          }
        }
      ]
    },
    {
      "cell_type": "code",
      "metadata": {
        "id": "lZthdC-TYfuZ",
        "outputId": "52efdbdb-d202-43bd-9be5-9c71f4f59345",
        "colab": {
          "base_uri": "https://localhost:8080/"
        }
      },
      "source": [
        "def change_category(c):\n",
        "  if c in [1,5,6,7]: return 1\n",
        "  else: return c\n",
        "\n",
        "failure_df['failureCategory'] = failure_df.failureCategory.apply(change_category)"
      ],
      "execution_count": 305,
      "outputs": [
        {
          "output_type": "stream",
          "text": [
            "/usr/local/lib/python3.6/dist-packages/ipykernel_launcher.py:5: SettingWithCopyWarning: \n",
            "A value is trying to be set on a copy of a slice from a DataFrame.\n",
            "Try using .loc[row_indexer,col_indexer] = value instead\n",
            "\n",
            "See the caveats in the documentation: https://pandas.pydata.org/pandas-docs/stable/user_guide/indexing.html#returning-a-view-versus-a-copy\n",
            "  \"\"\"\n"
          ],
          "name": "stderr"
        }
      ]
    },
    {
      "cell_type": "code",
      "metadata": {
        "id": "UAYQJnYJbRQW",
        "outputId": "7e9eefe5-24d8-44a1-ef39-1d11ae798529",
        "colab": {
          "base_uri": "https://localhost:8080/",
          "height": 266
        }
      },
      "source": [
        "failure_category_count = np.unique(failure_df.failureCategory, return_counts=True)\n",
        "plt.bar(failure_category_count[0], failure_category_count[1])\n",
        "plt.show()"
      ],
      "execution_count": 306,
      "outputs": [
        {
          "output_type": "display_data",
          "data": {
            "image/png": "[encoded data removed]",
            "text/plain": [
              "<Figure size 432x288 with 1 Axes>"
            ]
          },
          "metadata": {
            "tags": [],
            "needs_background": "light"
          }
        }
      ]
    },
    {
      "cell_type": "code",
      "metadata": {
        "id": "SihM5hIkE6e9"
      },
      "source": [
        "y = failure_df.failureCategory.values"
      ],
      "execution_count": 307,
      "outputs": []
    },
    {
      "cell_type": "markdown",
      "metadata": {
        "id": "D7dIQ16VXgPx"
      },
      "source": [
        "## train, test로 분리"
      ]
    },
    {
      "cell_type": "code",
      "metadata": {
        "id": "MUWOVhZOPNPf"
      },
      "source": [
        "shuffled_index = np.random.permutation(len(x))\n",
        "x = x[shuffled_index]\n",
        "y = y[shuffled_index]"
      ],
      "execution_count": 308,
      "outputs": []
    },
    {
      "cell_type": "code",
      "metadata": {
        "id": "tNDnmXw5OaKE"
      },
      "source": [
        "split_index = int(len(x)*0.8)\n",
        "\n",
        "train_x, test_x = x[:split_index], x[split_index:]\n",
        "train_y, test_y = y[:split_index], y[split_index:]"
      ],
      "execution_count": 309,
      "outputs": []
    },
    {
      "cell_type": "markdown",
      "metadata": {
        "id": "WldAa-faNk6q"
      },
      "source": [
        "# 기본 모델"
      ]
    },
    {
      "cell_type": "code",
      "metadata": {
        "id": "Vv8GZEDPE6lZ"
      },
      "source": [
        "import tensorflow as tf\n",
        "from tensorflow import keras\n",
        "from tensorflow.keras import optimizers\n",
        "from tensorflow.keras.layers import Dense, Flatten, Conv2D, MaxPooling2D, BatchNormalization, Input, BatchNormalization\n",
        "\n",
        "import time"
      ],
      "execution_count": 310,
      "outputs": []
    },
    {
      "cell_type": "code",
      "metadata": {
        "id": "zUVCjIt4E6ra",
        "outputId": "625a6fe9-3775-41d8-c7f9-74e206fadf53",
        "colab": {
          "base_uri": "https://localhost:8080/"
        }
      },
      "source": [
        "model = keras.Sequential()\n",
        "model.add(Input(x[0].shape))\n",
        "model.add(Conv2D(32, (3, 3), padding='same'))\n",
        "model.add(MaxPooling2D((2, 2)))\n",
        "model.add(Conv2D(64, (3, 3), padding='same'))\n",
        "model.add(MaxPooling2D((2, 2)))\n",
        "model.add(Flatten())\n",
        "model.add(Dense(10, activation='relu'))\n",
        "model.add(Dense(10, activation='relu'))\n",
        "model.add(Dense(len(failure_name)-1, activation='softmax'))\n",
        "\n",
        "model.compile(optimizer=\"adam\", loss=\"sparse_categorical_crossentropy\", metrics=[\"accuracy\"])\n",
        "model.summary()"
      ],
      "execution_count": 311,
      "outputs": [
        {
          "output_type": "stream",
          "text": [
            "Model: \"sequential_19\"\n",
            "_________________________________________________________________\n",
            "Layer (type)                 Output Shape              Param #   \n",
            "=================================================================\n",
            "conv2d_34 (Conv2D)           (None, 26, 26, 32)        320       \n",
            "_________________________________________________________________\n",
            "max_pooling2d_34 (MaxPooling (None, 13, 13, 32)        0         \n",
            "_________________________________________________________________\n",
            "conv2d_35 (Conv2D)           (None, 13, 13, 64)        18496     \n",
            "_________________________________________________________________\n",
            "max_pooling2d_35 (MaxPooling (None, 6, 6, 64)          0         \n",
            "_________________________________________________________________\n",
            "flatten_15 (Flatten)         (None, 2304)              0         \n",
            "_________________________________________________________________\n",
            "dense_44 (Dense)             (None, 10)                23050     \n",
            "_________________________________________________________________\n",
            "dense_45 (Dense)             (None, 10)                110       \n",
            "_________________________________________________________________\n",
            "dense_46 (Dense)             (None, 8)                 88        \n",
            "=================================================================\n",
            "Total params: 42,064\n",
            "Trainable params: 42,064\n",
            "Non-trainable params: 0\n",
            "_________________________________________________________________\n"
          ],
          "name": "stdout"
        }
      ]
    },
    {
      "cell_type": "code",
      "metadata": {
        "id": "dDZ9AQo_E6uK",
        "outputId": "a122bd9b-bcd2-4a58-cd22-7e5387a962ac",
        "colab": {
          "base_uri": "https://localhost:8080/"
        }
      },
      "source": [
        "hist = model.fit(train_x, train_y, epochs=100, verbose=1, batch_size=128, validation_split=0.1)"
      ],
      "execution_count": 312,
      "outputs": [
        {
          "output_type": "stream",
          "text": [
            "Epoch 1/100\n",
            "144/144 [==============================] - 1s 5ms/step - loss: 1.4946 - accuracy: 0.4348 - val_loss: 1.0070 - val_accuracy: 0.6474\n",
            "Epoch 2/100\n",
            "144/144 [==============================] - 1s 4ms/step - loss: 0.8582 - accuracy: 0.6425 - val_loss: 0.7702 - val_accuracy: 0.6690\n",
            "Epoch 3/100\n",
            "144/144 [==============================] - 1s 4ms/step - loss: 0.7543 - accuracy: 0.6743 - val_loss: 0.7560 - val_accuracy: 0.6787\n",
            "Epoch 4/100\n",
            "144/144 [==============================] - 1s 4ms/step - loss: 0.7194 - accuracy: 0.6973 - val_loss: 0.6942 - val_accuracy: 0.7052\n",
            "Epoch 5/100\n",
            "144/144 [==============================] - 1s 4ms/step - loss: 0.6919 - accuracy: 0.7156 - val_loss: 0.6753 - val_accuracy: 0.7204\n",
            "Epoch 6/100\n",
            "144/144 [==============================] - 1s 4ms/step - loss: 0.6646 - accuracy: 0.7245 - val_loss: 0.7217 - val_accuracy: 0.6925\n",
            "Epoch 7/100\n",
            "144/144 [==============================] - 1s 4ms/step - loss: 0.6503 - accuracy: 0.7346 - val_loss: 0.6589 - val_accuracy: 0.7218\n",
            "Epoch 8/100\n",
            "144/144 [==============================] - 1s 4ms/step - loss: 0.6286 - accuracy: 0.7423 - val_loss: 0.6197 - val_accuracy: 0.7522\n",
            "Epoch 9/100\n",
            "144/144 [==============================] - 1s 4ms/step - loss: 0.6072 - accuracy: 0.7513 - val_loss: 0.6076 - val_accuracy: 0.7502\n",
            "Epoch 10/100\n",
            "144/144 [==============================] - 1s 4ms/step - loss: 0.5921 - accuracy: 0.7559 - val_loss: 0.6094 - val_accuracy: 0.7439\n",
            "Epoch 11/100\n",
            "144/144 [==============================] - 1s 4ms/step - loss: 0.5798 - accuracy: 0.7617 - val_loss: 0.5857 - val_accuracy: 0.7586\n",
            "Epoch 12/100\n",
            "144/144 [==============================] - 1s 4ms/step - loss: 0.5638 - accuracy: 0.7681 - val_loss: 0.5749 - val_accuracy: 0.7591\n",
            "Epoch 13/100\n",
            "144/144 [==============================] - 1s 4ms/step - loss: 0.5509 - accuracy: 0.7700 - val_loss: 0.5578 - val_accuracy: 0.7684\n",
            "Epoch 14/100\n",
            "144/144 [==============================] - 1s 4ms/step - loss: 0.5425 - accuracy: 0.7753 - val_loss: 0.5545 - val_accuracy: 0.7703\n",
            "Epoch 15/100\n",
            "144/144 [==============================] - 1s 4ms/step - loss: 0.5294 - accuracy: 0.7816 - val_loss: 0.5517 - val_accuracy: 0.7698\n",
            "Epoch 16/100\n",
            "144/144 [==============================] - 1s 4ms/step - loss: 0.5201 - accuracy: 0.7845 - val_loss: 0.5339 - val_accuracy: 0.7703\n",
            "Epoch 17/100\n",
            "144/144 [==============================] - 1s 4ms/step - loss: 0.5068 - accuracy: 0.7897 - val_loss: 0.5250 - val_accuracy: 0.7840\n",
            "Epoch 18/100\n",
            "144/144 [==============================] - 1s 4ms/step - loss: 0.4994 - accuracy: 0.7928 - val_loss: 0.5174 - val_accuracy: 0.7850\n",
            "Epoch 19/100\n",
            "144/144 [==============================] - 1s 4ms/step - loss: 0.4910 - accuracy: 0.7961 - val_loss: 0.5191 - val_accuracy: 0.7742\n",
            "Epoch 20/100\n",
            "144/144 [==============================] - 1s 4ms/step - loss: 0.4887 - accuracy: 0.7957 - val_loss: 0.5173 - val_accuracy: 0.7747\n",
            "Epoch 21/100\n",
            "144/144 [==============================] - 1s 4ms/step - loss: 0.4800 - accuracy: 0.8001 - val_loss: 0.5181 - val_accuracy: 0.7791\n",
            "Epoch 22/100\n",
            "144/144 [==============================] - 1s 4ms/step - loss: 0.4706 - accuracy: 0.8053 - val_loss: 0.5058 - val_accuracy: 0.7884\n",
            "Epoch 23/100\n",
            "144/144 [==============================] - 1s 4ms/step - loss: 0.4596 - accuracy: 0.8094 - val_loss: 0.4941 - val_accuracy: 0.7860\n",
            "Epoch 24/100\n",
            "144/144 [==============================] - 1s 4ms/step - loss: 0.4469 - accuracy: 0.8165 - val_loss: 0.4916 - val_accuracy: 0.7963\n",
            "Epoch 25/100\n",
            "144/144 [==============================] - 1s 4ms/step - loss: 0.4345 - accuracy: 0.8250 - val_loss: 0.4784 - val_accuracy: 0.8080\n",
            "Epoch 26/100\n",
            "144/144 [==============================] - 1s 4ms/step - loss: 0.4073 - accuracy: 0.8421 - val_loss: 0.4417 - val_accuracy: 0.8276\n",
            "Epoch 27/100\n",
            "144/144 [==============================] - 1s 4ms/step - loss: 0.3916 - accuracy: 0.8480 - val_loss: 0.4607 - val_accuracy: 0.8193\n",
            "Epoch 28/100\n",
            "144/144 [==============================] - 1s 4ms/step - loss: 0.3801 - accuracy: 0.8526 - val_loss: 0.4491 - val_accuracy: 0.8242\n",
            "Epoch 29/100\n",
            "144/144 [==============================] - 1s 4ms/step - loss: 0.3708 - accuracy: 0.8547 - val_loss: 0.4201 - val_accuracy: 0.8408\n",
            "Epoch 30/100\n",
            "144/144 [==============================] - 1s 4ms/step - loss: 0.3650 - accuracy: 0.8585 - val_loss: 0.4218 - val_accuracy: 0.8350\n",
            "Epoch 31/100\n",
            "144/144 [==============================] - 1s 4ms/step - loss: 0.3597 - accuracy: 0.8618 - val_loss: 0.4229 - val_accuracy: 0.8374\n",
            "Epoch 32/100\n",
            "144/144 [==============================] - 1s 4ms/step - loss: 0.3542 - accuracy: 0.8643 - val_loss: 0.4428 - val_accuracy: 0.8335\n",
            "Epoch 33/100\n",
            "144/144 [==============================] - 1s 4ms/step - loss: 0.3460 - accuracy: 0.8661 - val_loss: 0.4196 - val_accuracy: 0.8379\n",
            "Epoch 34/100\n",
            "144/144 [==============================] - 1s 4ms/step - loss: 0.3372 - accuracy: 0.8686 - val_loss: 0.4469 - val_accuracy: 0.8281\n",
            "Epoch 35/100\n",
            "144/144 [==============================] - 1s 4ms/step - loss: 0.3338 - accuracy: 0.8699 - val_loss: 0.4218 - val_accuracy: 0.8364\n",
            "Epoch 36/100\n",
            "144/144 [==============================] - 1s 4ms/step - loss: 0.3288 - accuracy: 0.8728 - val_loss: 0.4159 - val_accuracy: 0.8374\n",
            "Epoch 37/100\n",
            "144/144 [==============================] - 1s 4ms/step - loss: 0.3236 - accuracy: 0.8755 - val_loss: 0.4177 - val_accuracy: 0.8408\n",
            "Epoch 38/100\n",
            "144/144 [==============================] - 1s 4ms/step - loss: 0.3198 - accuracy: 0.8760 - val_loss: 0.4113 - val_accuracy: 0.8399\n",
            "Epoch 39/100\n",
            "144/144 [==============================] - 1s 4ms/step - loss: 0.3069 - accuracy: 0.8827 - val_loss: 0.4131 - val_accuracy: 0.8433\n",
            "Epoch 40/100\n",
            "144/144 [==============================] - 1s 4ms/step - loss: 0.3038 - accuracy: 0.8841 - val_loss: 0.4071 - val_accuracy: 0.8452\n",
            "Epoch 41/100\n",
            "144/144 [==============================] - 1s 4ms/step - loss: 0.2999 - accuracy: 0.8837 - val_loss: 0.4161 - val_accuracy: 0.8413\n",
            "Epoch 42/100\n",
            "144/144 [==============================] - 1s 4ms/step - loss: 0.2985 - accuracy: 0.8849 - val_loss: 0.4061 - val_accuracy: 0.8467\n",
            "Epoch 43/100\n",
            "144/144 [==============================] - 1s 4ms/step - loss: 0.2846 - accuracy: 0.8903 - val_loss: 0.4171 - val_accuracy: 0.8423\n",
            "Epoch 44/100\n",
            "144/144 [==============================] - 1s 4ms/step - loss: 0.2768 - accuracy: 0.8929 - val_loss: 0.4429 - val_accuracy: 0.8355\n",
            "Epoch 45/100\n",
            "144/144 [==============================] - 1s 4ms/step - loss: 0.2813 - accuracy: 0.8905 - val_loss: 0.4454 - val_accuracy: 0.8330\n",
            "Epoch 46/100\n",
            "144/144 [==============================] - 1s 4ms/step - loss: 0.2665 - accuracy: 0.8974 - val_loss: 0.4251 - val_accuracy: 0.8462\n",
            "Epoch 47/100\n",
            "144/144 [==============================] - 1s 4ms/step - loss: 0.2672 - accuracy: 0.8971 - val_loss: 0.4135 - val_accuracy: 0.8482\n",
            "Epoch 48/100\n",
            "144/144 [==============================] - 1s 4ms/step - loss: 0.2554 - accuracy: 0.9011 - val_loss: 0.4137 - val_accuracy: 0.8487\n",
            "Epoch 49/100\n",
            "144/144 [==============================] - 1s 4ms/step - loss: 0.2576 - accuracy: 0.9015 - val_loss: 0.4226 - val_accuracy: 0.8438\n",
            "Epoch 50/100\n",
            "144/144 [==============================] - 1s 4ms/step - loss: 0.2462 - accuracy: 0.9040 - val_loss: 0.4260 - val_accuracy: 0.8477\n",
            "Epoch 51/100\n",
            "144/144 [==============================] - 1s 4ms/step - loss: 0.2432 - accuracy: 0.9069 - val_loss: 0.4474 - val_accuracy: 0.8404\n",
            "Epoch 52/100\n",
            "144/144 [==============================] - 1s 4ms/step - loss: 0.2442 - accuracy: 0.9044 - val_loss: 0.4227 - val_accuracy: 0.8472\n",
            "Epoch 53/100\n",
            "144/144 [==============================] - 1s 4ms/step - loss: 0.2363 - accuracy: 0.9088 - val_loss: 0.4308 - val_accuracy: 0.8477\n",
            "Epoch 54/100\n",
            "144/144 [==============================] - 1s 4ms/step - loss: 0.2247 - accuracy: 0.9129 - val_loss: 0.4719 - val_accuracy: 0.8438\n",
            "Epoch 55/100\n",
            "144/144 [==============================] - 1s 4ms/step - loss: 0.2274 - accuracy: 0.9126 - val_loss: 0.4468 - val_accuracy: 0.8462\n",
            "Epoch 56/100\n",
            "144/144 [==============================] - 1s 4ms/step - loss: 0.2219 - accuracy: 0.9143 - val_loss: 0.4340 - val_accuracy: 0.8506\n",
            "Epoch 57/100\n",
            "144/144 [==============================] - 1s 4ms/step - loss: 0.2128 - accuracy: 0.9177 - val_loss: 0.4457 - val_accuracy: 0.8457\n",
            "Epoch 58/100\n",
            "144/144 [==============================] - 1s 4ms/step - loss: 0.2127 - accuracy: 0.9174 - val_loss: 0.4635 - val_accuracy: 0.8472\n",
            "Epoch 59/100\n",
            "144/144 [==============================] - 1s 4ms/step - loss: 0.2030 - accuracy: 0.9224 - val_loss: 0.4808 - val_accuracy: 0.8448\n",
            "Epoch 60/100\n",
            "144/144 [==============================] - 1s 4ms/step - loss: 0.1968 - accuracy: 0.9240 - val_loss: 0.5175 - val_accuracy: 0.8448\n",
            "Epoch 61/100\n",
            "144/144 [==============================] - 1s 4ms/step - loss: 0.1980 - accuracy: 0.9231 - val_loss: 0.4860 - val_accuracy: 0.8418\n",
            "Epoch 62/100\n",
            "144/144 [==============================] - 1s 4ms/step - loss: 0.1922 - accuracy: 0.9244 - val_loss: 0.4760 - val_accuracy: 0.8413\n",
            "Epoch 63/100\n",
            "144/144 [==============================] - 1s 4ms/step - loss: 0.1953 - accuracy: 0.9234 - val_loss: 0.4741 - val_accuracy: 0.8516\n",
            "Epoch 64/100\n",
            "144/144 [==============================] - 1s 4ms/step - loss: 0.1789 - accuracy: 0.9311 - val_loss: 0.5015 - val_accuracy: 0.8457\n",
            "Epoch 65/100\n",
            "144/144 [==============================] - 1s 4ms/step - loss: 0.1780 - accuracy: 0.9323 - val_loss: 0.4922 - val_accuracy: 0.8497\n",
            "Epoch 66/100\n",
            "144/144 [==============================] - 1s 4ms/step - loss: 0.1745 - accuracy: 0.9324 - val_loss: 0.5229 - val_accuracy: 0.8443\n",
            "Epoch 67/100\n",
            "144/144 [==============================] - 1s 4ms/step - loss: 0.1721 - accuracy: 0.9345 - val_loss: 0.5203 - val_accuracy: 0.8472\n",
            "Epoch 68/100\n",
            "144/144 [==============================] - 1s 4ms/step - loss: 0.1710 - accuracy: 0.9341 - val_loss: 0.5239 - val_accuracy: 0.8452\n",
            "Epoch 69/100\n",
            "144/144 [==============================] - 1s 4ms/step - loss: 0.1712 - accuracy: 0.9331 - val_loss: 0.5423 - val_accuracy: 0.8408\n",
            "Epoch 70/100\n",
            "144/144 [==============================] - 1s 4ms/step - loss: 0.1718 - accuracy: 0.9340 - val_loss: 0.5436 - val_accuracy: 0.8467\n",
            "Epoch 71/100\n",
            "144/144 [==============================] - 1s 4ms/step - loss: 0.1573 - accuracy: 0.9414 - val_loss: 0.5549 - val_accuracy: 0.8516\n",
            "Epoch 72/100\n",
            "144/144 [==============================] - 1s 4ms/step - loss: 0.1577 - accuracy: 0.9405 - val_loss: 0.5960 - val_accuracy: 0.8389\n",
            "Epoch 73/100\n",
            "144/144 [==============================] - 1s 4ms/step - loss: 0.1531 - accuracy: 0.9425 - val_loss: 0.6415 - val_accuracy: 0.8296\n",
            "Epoch 74/100\n",
            "144/144 [==============================] - 1s 4ms/step - loss: 0.1538 - accuracy: 0.9438 - val_loss: 0.5579 - val_accuracy: 0.8457\n",
            "Epoch 75/100\n",
            "144/144 [==============================] - 1s 4ms/step - loss: 0.1507 - accuracy: 0.9432 - val_loss: 0.6461 - val_accuracy: 0.8310\n",
            "Epoch 76/100\n",
            "144/144 [==============================] - 1s 4ms/step - loss: 0.1429 - accuracy: 0.9477 - val_loss: 0.6115 - val_accuracy: 0.8408\n",
            "Epoch 77/100\n",
            "144/144 [==============================] - 1s 4ms/step - loss: 0.1375 - accuracy: 0.9491 - val_loss: 0.5886 - val_accuracy: 0.8448\n",
            "Epoch 78/100\n",
            "144/144 [==============================] - 1s 4ms/step - loss: 0.1342 - accuracy: 0.9519 - val_loss: 0.6451 - val_accuracy: 0.8404\n",
            "Epoch 79/100\n",
            "144/144 [==============================] - 1s 4ms/step - loss: 0.1460 - accuracy: 0.9437 - val_loss: 0.6863 - val_accuracy: 0.8232\n",
            "Epoch 80/100\n",
            "144/144 [==============================] - 1s 4ms/step - loss: 0.1361 - accuracy: 0.9523 - val_loss: 0.6249 - val_accuracy: 0.8467\n",
            "Epoch 81/100\n",
            "144/144 [==============================] - 1s 4ms/step - loss: 0.1324 - accuracy: 0.9527 - val_loss: 0.6312 - val_accuracy: 0.8433\n",
            "Epoch 82/100\n",
            "144/144 [==============================] - 1s 4ms/step - loss: 0.1295 - accuracy: 0.9525 - val_loss: 0.6543 - val_accuracy: 0.8472\n",
            "Epoch 83/100\n",
            "144/144 [==============================] - 1s 4ms/step - loss: 0.1333 - accuracy: 0.9517 - val_loss: 0.6611 - val_accuracy: 0.8477\n",
            "Epoch 84/100\n",
            "144/144 [==============================] - 1s 4ms/step - loss: 0.1178 - accuracy: 0.9593 - val_loss: 0.7009 - val_accuracy: 0.8404\n",
            "Epoch 85/100\n",
            "144/144 [==============================] - 1s 4ms/step - loss: 0.1287 - accuracy: 0.9530 - val_loss: 0.6812 - val_accuracy: 0.8413\n",
            "Epoch 86/100\n",
            "144/144 [==============================] - 1s 4ms/step - loss: 0.1260 - accuracy: 0.9541 - val_loss: 0.6657 - val_accuracy: 0.8408\n",
            "Epoch 87/100\n",
            "144/144 [==============================] - 1s 4ms/step - loss: 0.1129 - accuracy: 0.9613 - val_loss: 0.6879 - val_accuracy: 0.8399\n",
            "Epoch 88/100\n",
            "144/144 [==============================] - 1s 4ms/step - loss: 0.1289 - accuracy: 0.9530 - val_loss: 0.7171 - val_accuracy: 0.8438\n",
            "Epoch 89/100\n",
            "144/144 [==============================] - 1s 4ms/step - loss: 0.1096 - accuracy: 0.9624 - val_loss: 0.7666 - val_accuracy: 0.8310\n",
            "Epoch 90/100\n",
            "144/144 [==============================] - 1s 4ms/step - loss: 0.1076 - accuracy: 0.9646 - val_loss: 0.7712 - val_accuracy: 0.8301\n",
            "Epoch 91/100\n",
            "144/144 [==============================] - 1s 4ms/step - loss: 0.1079 - accuracy: 0.9636 - val_loss: 0.7025 - val_accuracy: 0.8330\n",
            "Epoch 92/100\n",
            "144/144 [==============================] - 1s 4ms/step - loss: 0.1004 - accuracy: 0.9671 - val_loss: 0.6992 - val_accuracy: 0.8355\n",
            "Epoch 93/100\n",
            "144/144 [==============================] - 1s 4ms/step - loss: 0.1031 - accuracy: 0.9661 - val_loss: 0.7812 - val_accuracy: 0.8413\n",
            "Epoch 94/100\n",
            "144/144 [==============================] - 1s 4ms/step - loss: 0.0970 - accuracy: 0.9684 - val_loss: 0.7892 - val_accuracy: 0.8345\n",
            "Epoch 95/100\n",
            "144/144 [==============================] - 1s 4ms/step - loss: 0.1019 - accuracy: 0.9658 - val_loss: 0.7920 - val_accuracy: 0.8340\n",
            "Epoch 96/100\n",
            "144/144 [==============================] - 1s 4ms/step - loss: 0.1393 - accuracy: 0.9516 - val_loss: 0.7712 - val_accuracy: 0.8394\n",
            "Epoch 97/100\n",
            "144/144 [==============================] - 1s 4ms/step - loss: 0.1020 - accuracy: 0.9658 - val_loss: 0.7541 - val_accuracy: 0.8345\n",
            "Epoch 98/100\n",
            "144/144 [==============================] - 1s 4ms/step - loss: 0.0945 - accuracy: 0.9699 - val_loss: 0.7760 - val_accuracy: 0.8359\n",
            "Epoch 99/100\n",
            "144/144 [==============================] - 1s 4ms/step - loss: 0.0955 - accuracy: 0.9702 - val_loss: 0.8001 - val_accuracy: 0.8404\n",
            "Epoch 100/100\n",
            "144/144 [==============================] - 1s 4ms/step - loss: 0.0894 - accuracy: 0.9728 - val_loss: 0.8047 - val_accuracy: 0.8443\n"
          ],
          "name": "stdout"
        }
      ]
    },
    {
      "cell_type": "code",
      "metadata": {
        "id": "NL2bpT6nVmDa",
        "outputId": "ab7994c1-4be4-4f06-c0e4-052aad862b4f",
        "colab": {
          "base_uri": "https://localhost:8080/",
          "height": 513
        }
      },
      "source": [
        "plt.plot(hist.history['loss'])\n",
        "plt.plot(hist.history['val_loss'])\n",
        "plt.show()\n",
        "\n",
        "plt.plot(hist.history['accuracy'])\n",
        "plt.plot(hist.history['val_accuracy'])\n",
        "plt.show()"
      ],
      "execution_count": 313,
      "outputs": [
        {
          "output_type": "display_data",
          "data": {
            "image/png": "[encoded data removed]",
            "text/plain": [
              "<Figure size 432x288 with 1 Axes>"
            ]
          },
          "metadata": {
            "tags": [],
            "needs_background": "light"
          }
        },
        {
          "output_type": "display_data",
          "data": {
            "image/png": "[encoded data removed]",
            "text/plain": [
              "<Figure size 432x288 with 1 Axes>"
            ]
          },
          "metadata": {
            "tags": [],
            "needs_background": "light"
          }
        }
      ]
    },
    {
      "cell_type": "code",
      "metadata": {
        "id": "DwORU8XyE6oh",
        "outputId": "26ea31d0-9079-4554-90fe-f446f63918e4",
        "colab": {
          "base_uri": "https://localhost:8080/"
        }
      },
      "source": [
        "loss, acc = model.evaluate(test_x, test_y)\n",
        "print(\"loss=\",loss)\n",
        "print(\"acc=\",acc)"
      ],
      "execution_count": 314,
      "outputs": [
        {
          "output_type": "stream",
          "text": [
            "160/160 [==============================] - 0s 2ms/step - loss: 0.8011 - accuracy: 0.8341\n",
            "loss= 0.8010925054550171\n",
            "acc= 0.8340517282485962\n"
          ],
          "name": "stdout"
        }
      ]
    },
    {
      "cell_type": "code",
      "metadata": {
        "id": "98uaPmM_TI_F"
      },
      "source": [
        ""
      ],
      "execution_count": 314,
      "outputs": []
    },
    {
      "cell_type": "markdown",
      "metadata": {
        "id": "Y5DdnrTGSykj"
      },
      "source": [
        "# overfitting 처리"
      ]
    },
    {
      "cell_type": "code",
      "metadata": {
        "id": "DkX92WrIS16Y",
        "outputId": "99c22dfd-e3d6-4570-f016-e3155ec98257",
        "colab": {
          "base_uri": "https://localhost:8080/"
        }
      },
      "source": [
        "model = keras.Sequential()\n",
        "model.add(Input(x[0].shape))\n",
        "model.add(Conv2D(32, (3, 3), padding='same'))\n",
        "model.add(MaxPooling2D((2, 2)))\n",
        "model.add(Conv2D(64, (3, 3), padding='same'))\n",
        "model.add(MaxPooling2D((2, 2)))\n",
        "model.add(Flatten())\n",
        "model.add(Dense(10, activation='relu'))\n",
        "model.add(BatchNormalization())      # <------------------\n",
        "model.add(Dense(10, activation='relu'))\n",
        "model.add(BatchNormalization())      # <------------------\n",
        "model.add(Dense(len(failure_name)-1, activation='softmax'))\n",
        "\n",
        "model.compile(optimizer=\"adam\", loss=\"sparse_categorical_crossentropy\", metrics=[\"accuracy\"])\n",
        "model.summary()"
      ],
      "execution_count": 315,
      "outputs": [
        {
          "output_type": "stream",
          "text": [
            "Model: \"sequential_20\"\n",
            "_________________________________________________________________\n",
            "Layer (type)                 Output Shape              Param #   \n",
            "=================================================================\n",
            "conv2d_36 (Conv2D)           (None, 26, 26, 32)        320       \n",
            "_________________________________________________________________\n",
            "max_pooling2d_36 (MaxPooling (None, 13, 13, 32)        0         \n",
            "_________________________________________________________________\n",
            "conv2d_37 (Conv2D)           (None, 13, 13, 64)        18496     \n",
            "_________________________________________________________________\n",
            "max_pooling2d_37 (MaxPooling (None, 6, 6, 64)          0         \n",
            "_________________________________________________________________\n",
            "flatten_16 (Flatten)         (None, 2304)              0         \n",
            "_________________________________________________________________\n",
            "dense_47 (Dense)             (None, 10)                23050     \n",
            "_________________________________________________________________\n",
            "batch_normalization_12 (Batc (None, 10)                40        \n",
            "_________________________________________________________________\n",
            "dense_48 (Dense)             (None, 10)                110       \n",
            "_________________________________________________________________\n",
            "batch_normalization_13 (Batc (None, 10)                40        \n",
            "_________________________________________________________________\n",
            "dense_49 (Dense)             (None, 8)                 88        \n",
            "=================================================================\n",
            "Total params: 42,144\n",
            "Trainable params: 42,104\n",
            "Non-trainable params: 40\n",
            "_________________________________________________________________\n"
          ],
          "name": "stdout"
        }
      ]
    },
    {
      "cell_type": "code",
      "metadata": {
        "id": "pkQf0iBME6iT",
        "outputId": "b5bc9770-a2e3-4e99-ecfc-1f4ac0bcf7a8",
        "colab": {
          "base_uri": "https://localhost:8080/"
        }
      },
      "source": [
        "hist = model.fit(train_x, train_y, epochs=100, verbose=1, batch_size=128, validation_split=0.1)"
      ],
      "execution_count": 316,
      "outputs": [
        {
          "output_type": "stream",
          "text": [
            "Epoch 1/100\n",
            "144/144 [==============================] - 1s 5ms/step - loss: 1.1194 - accuracy: 0.6421 - val_loss: 1.3456 - val_accuracy: 0.6719\n",
            "Epoch 2/100\n",
            "144/144 [==============================] - 1s 4ms/step - loss: 0.6207 - accuracy: 0.7953 - val_loss: 1.4180 - val_accuracy: 0.4535\n",
            "Epoch 3/100\n",
            "144/144 [==============================] - 1s 5ms/step - loss: 0.4914 - accuracy: 0.8239 - val_loss: 0.6978 - val_accuracy: 0.7375\n",
            "Epoch 4/100\n",
            "144/144 [==============================] - 1s 5ms/step - loss: 0.4281 - accuracy: 0.8408 - val_loss: 1.1117 - val_accuracy: 0.5847\n",
            "Epoch 5/100\n",
            "144/144 [==============================] - 1s 4ms/step - loss: 0.3789 - accuracy: 0.8571 - val_loss: 2.5259 - val_accuracy: 0.4799\n",
            "Epoch 6/100\n",
            "144/144 [==============================] - 1s 4ms/step - loss: 0.3580 - accuracy: 0.8628 - val_loss: 1.5085 - val_accuracy: 0.5798\n",
            "Epoch 7/100\n",
            "144/144 [==============================] - 1s 5ms/step - loss: 0.3075 - accuracy: 0.8839 - val_loss: 3.1124 - val_accuracy: 0.3301\n",
            "Epoch 8/100\n",
            "144/144 [==============================] - 1s 5ms/step - loss: 0.2782 - accuracy: 0.8971 - val_loss: 1.5145 - val_accuracy: 0.6175\n",
            "Epoch 9/100\n",
            "144/144 [==============================] - 1s 5ms/step - loss: 0.2629 - accuracy: 0.9014 - val_loss: 1.8590 - val_accuracy: 0.6435\n",
            "Epoch 10/100\n",
            "144/144 [==============================] - 1s 4ms/step - loss: 0.2407 - accuracy: 0.9058 - val_loss: 0.6820 - val_accuracy: 0.7855\n",
            "Epoch 11/100\n",
            "144/144 [==============================] - 1s 5ms/step - loss: 0.2122 - accuracy: 0.9182 - val_loss: 0.8517 - val_accuracy: 0.7870\n",
            "Epoch 12/100\n",
            "144/144 [==============================] - 1s 4ms/step - loss: 0.1857 - accuracy: 0.9317 - val_loss: 0.8200 - val_accuracy: 0.7791\n",
            "Epoch 13/100\n",
            "144/144 [==============================] - 1s 5ms/step - loss: 0.1805 - accuracy: 0.9340 - val_loss: 3.9772 - val_accuracy: 0.3712\n",
            "Epoch 14/100\n",
            "144/144 [==============================] - 1s 5ms/step - loss: 0.1593 - accuracy: 0.9411 - val_loss: 1.0371 - val_accuracy: 0.7493\n",
            "Epoch 15/100\n",
            "144/144 [==============================] - 1s 4ms/step - loss: 0.1422 - accuracy: 0.9481 - val_loss: 3.4679 - val_accuracy: 0.4687\n",
            "Epoch 16/100\n",
            "144/144 [==============================] - 1s 5ms/step - loss: 0.1293 - accuracy: 0.9520 - val_loss: 1.5783 - val_accuracy: 0.6641\n",
            "Epoch 17/100\n",
            "144/144 [==============================] - 1s 4ms/step - loss: 0.1153 - accuracy: 0.9586 - val_loss: 1.0321 - val_accuracy: 0.7943\n",
            "Epoch 18/100\n",
            "144/144 [==============================] - 1s 5ms/step - loss: 0.1047 - accuracy: 0.9625 - val_loss: 0.8052 - val_accuracy: 0.8139\n",
            "Epoch 19/100\n",
            "144/144 [==============================] - 1s 5ms/step - loss: 0.0934 - accuracy: 0.9675 - val_loss: 2.4394 - val_accuracy: 0.6327\n",
            "Epoch 20/100\n",
            "144/144 [==============================] - 1s 5ms/step - loss: 0.0926 - accuracy: 0.9676 - val_loss: 0.7083 - val_accuracy: 0.8310\n",
            "Epoch 21/100\n",
            "144/144 [==============================] - 1s 5ms/step - loss: 0.0869 - accuracy: 0.9684 - val_loss: 3.0045 - val_accuracy: 0.5382\n",
            "Epoch 22/100\n",
            "144/144 [==============================] - 1s 5ms/step - loss: 0.0890 - accuracy: 0.9689 - val_loss: 1.2641 - val_accuracy: 0.7434\n",
            "Epoch 23/100\n",
            "144/144 [==============================] - 1s 5ms/step - loss: 0.0719 - accuracy: 0.9750 - val_loss: 0.7495 - val_accuracy: 0.8144\n",
            "Epoch 24/100\n",
            "144/144 [==============================] - 1s 5ms/step - loss: 0.0695 - accuracy: 0.9769 - val_loss: 5.4329 - val_accuracy: 0.3717\n",
            "Epoch 25/100\n",
            "144/144 [==============================] - 1s 5ms/step - loss: 0.0709 - accuracy: 0.9755 - val_loss: 0.9646 - val_accuracy: 0.7924\n",
            "Epoch 26/100\n",
            "144/144 [==============================] - 1s 5ms/step - loss: 0.0627 - accuracy: 0.9777 - val_loss: 1.3006 - val_accuracy: 0.7860\n",
            "Epoch 27/100\n",
            "144/144 [==============================] - 1s 5ms/step - loss: 0.0535 - accuracy: 0.9826 - val_loss: 2.1578 - val_accuracy: 0.6474\n",
            "Epoch 28/100\n",
            "144/144 [==============================] - 1s 5ms/step - loss: 0.0589 - accuracy: 0.9789 - val_loss: 3.1040 - val_accuracy: 0.5940\n",
            "Epoch 29/100\n",
            "144/144 [==============================] - 1s 5ms/step - loss: 0.0510 - accuracy: 0.9819 - val_loss: 2.0387 - val_accuracy: 0.6396\n",
            "Epoch 30/100\n",
            "144/144 [==============================] - 1s 5ms/step - loss: 0.0431 - accuracy: 0.9847 - val_loss: 11.0302 - val_accuracy: 0.2542\n",
            "Epoch 31/100\n",
            "144/144 [==============================] - 1s 5ms/step - loss: 0.0570 - accuracy: 0.9803 - val_loss: 0.9825 - val_accuracy: 0.8320\n",
            "Epoch 32/100\n",
            "144/144 [==============================] - 1s 5ms/step - loss: 0.0792 - accuracy: 0.9738 - val_loss: 0.9572 - val_accuracy: 0.8217\n",
            "Epoch 33/100\n",
            "144/144 [==============================] - 1s 4ms/step - loss: 0.0412 - accuracy: 0.9867 - val_loss: 1.0220 - val_accuracy: 0.8217\n",
            "Epoch 34/100\n",
            "144/144 [==============================] - 1s 5ms/step - loss: 0.0358 - accuracy: 0.9882 - val_loss: 1.5859 - val_accuracy: 0.7689\n",
            "Epoch 35/100\n",
            "144/144 [==============================] - 1s 5ms/step - loss: 0.0467 - accuracy: 0.9835 - val_loss: 0.9999 - val_accuracy: 0.8232\n",
            "Epoch 36/100\n",
            "144/144 [==============================] - 1s 4ms/step - loss: 0.0443 - accuracy: 0.9849 - val_loss: 1.0253 - val_accuracy: 0.8046\n",
            "Epoch 37/100\n",
            "144/144 [==============================] - 1s 5ms/step - loss: 0.0501 - accuracy: 0.9827 - val_loss: 9.6752 - val_accuracy: 0.3066\n",
            "Epoch 38/100\n",
            "144/144 [==============================] - 1s 5ms/step - loss: 0.0439 - accuracy: 0.9849 - val_loss: 4.5566 - val_accuracy: 0.4594\n",
            "Epoch 39/100\n",
            "144/144 [==============================] - 1s 4ms/step - loss: 0.0316 - accuracy: 0.9895 - val_loss: 1.0299 - val_accuracy: 0.8090\n",
            "Epoch 40/100\n",
            "144/144 [==============================] - 1s 5ms/step - loss: 0.0314 - accuracy: 0.9899 - val_loss: 3.4517 - val_accuracy: 0.5504\n",
            "Epoch 41/100\n",
            "144/144 [==============================] - 1s 5ms/step - loss: 0.0300 - accuracy: 0.9905 - val_loss: 2.1801 - val_accuracy: 0.6895\n",
            "Epoch 42/100\n",
            "144/144 [==============================] - 1s 5ms/step - loss: 0.0348 - accuracy: 0.9890 - val_loss: 2.5079 - val_accuracy: 0.7042\n",
            "Epoch 43/100\n",
            "144/144 [==============================] - 1s 5ms/step - loss: 0.0449 - accuracy: 0.9830 - val_loss: 1.1698 - val_accuracy: 0.8022\n",
            "Epoch 44/100\n",
            "144/144 [==============================] - 1s 5ms/step - loss: 0.0464 - accuracy: 0.9839 - val_loss: 1.4614 - val_accuracy: 0.7767\n",
            "Epoch 45/100\n",
            "144/144 [==============================] - 1s 5ms/step - loss: 0.0358 - accuracy: 0.9870 - val_loss: 1.3372 - val_accuracy: 0.7855\n",
            "Epoch 46/100\n",
            "144/144 [==============================] - 1s 5ms/step - loss: 0.0280 - accuracy: 0.9907 - val_loss: 2.0990 - val_accuracy: 0.7522\n",
            "Epoch 47/100\n",
            "144/144 [==============================] - 1s 4ms/step - loss: 0.0294 - accuracy: 0.9901 - val_loss: 1.4360 - val_accuracy: 0.7987\n",
            "Epoch 48/100\n",
            "144/144 [==============================] - 1s 5ms/step - loss: 0.0229 - accuracy: 0.9924 - val_loss: 1.3302 - val_accuracy: 0.8046\n",
            "Epoch 49/100\n",
            "144/144 [==============================] - 1s 5ms/step - loss: 0.0238 - accuracy: 0.9919 - val_loss: 1.0836 - val_accuracy: 0.8139\n",
            "Epoch 50/100\n",
            "144/144 [==============================] - 1s 5ms/step - loss: 0.0329 - accuracy: 0.9885 - val_loss: 5.7122 - val_accuracy: 0.5176\n",
            "Epoch 51/100\n",
            "144/144 [==============================] - 1s 4ms/step - loss: 0.0406 - accuracy: 0.9857 - val_loss: 2.3310 - val_accuracy: 0.7488\n",
            "Epoch 52/100\n",
            "144/144 [==============================] - 1s 5ms/step - loss: 0.0363 - accuracy: 0.9880 - val_loss: 1.8213 - val_accuracy: 0.6983\n",
            "Epoch 53/100\n",
            "144/144 [==============================] - 1s 5ms/step - loss: 0.0271 - accuracy: 0.9909 - val_loss: 1.7553 - val_accuracy: 0.7615\n",
            "Epoch 54/100\n",
            "144/144 [==============================] - 1s 5ms/step - loss: 0.0229 - accuracy: 0.9922 - val_loss: 1.7868 - val_accuracy: 0.7762\n",
            "Epoch 55/100\n",
            "144/144 [==============================] - 1s 5ms/step - loss: 0.0235 - accuracy: 0.9922 - val_loss: 1.2391 - val_accuracy: 0.8296\n",
            "Epoch 56/100\n",
            "144/144 [==============================] - 1s 4ms/step - loss: 0.0236 - accuracy: 0.9921 - val_loss: 1.3039 - val_accuracy: 0.7723\n",
            "Epoch 57/100\n",
            "144/144 [==============================] - 1s 5ms/step - loss: 0.0275 - accuracy: 0.9904 - val_loss: 2.9845 - val_accuracy: 0.6273\n",
            "Epoch 58/100\n",
            "144/144 [==============================] - 1s 5ms/step - loss: 0.0224 - accuracy: 0.9931 - val_loss: 1.9376 - val_accuracy: 0.7605\n",
            "Epoch 59/100\n",
            "144/144 [==============================] - 1s 5ms/step - loss: 0.0275 - accuracy: 0.9909 - val_loss: 1.6233 - val_accuracy: 0.7728\n",
            "Epoch 60/100\n",
            "144/144 [==============================] - 1s 5ms/step - loss: 0.0290 - accuracy: 0.9898 - val_loss: 1.6448 - val_accuracy: 0.7752\n",
            "Epoch 61/100\n",
            "144/144 [==============================] - 1s 5ms/step - loss: 0.0261 - accuracy: 0.9910 - val_loss: 1.4386 - val_accuracy: 0.8022\n",
            "Epoch 62/100\n",
            "144/144 [==============================] - 1s 5ms/step - loss: 0.0205 - accuracy: 0.9928 - val_loss: 3.6503 - val_accuracy: 0.5872\n",
            "Epoch 63/100\n",
            "144/144 [==============================] - 1s 5ms/step - loss: 0.0237 - accuracy: 0.9915 - val_loss: 1.5493 - val_accuracy: 0.7884\n",
            "Epoch 64/100\n",
            "144/144 [==============================] - 1s 5ms/step - loss: 0.0188 - accuracy: 0.9936 - val_loss: 1.8453 - val_accuracy: 0.7801\n",
            "Epoch 65/100\n",
            "144/144 [==============================] - 1s 5ms/step - loss: 0.0256 - accuracy: 0.9906 - val_loss: 3.7412 - val_accuracy: 0.5627\n",
            "Epoch 66/100\n",
            "144/144 [==============================] - 1s 5ms/step - loss: 0.0344 - accuracy: 0.9874 - val_loss: 4.3905 - val_accuracy: 0.5916\n",
            "Epoch 67/100\n",
            "144/144 [==============================] - 1s 5ms/step - loss: 0.0290 - accuracy: 0.9901 - val_loss: 1.3028 - val_accuracy: 0.8119\n",
            "Epoch 68/100\n",
            "144/144 [==============================] - 1s 5ms/step - loss: 0.0229 - accuracy: 0.9922 - val_loss: 1.1199 - val_accuracy: 0.8379\n",
            "Epoch 69/100\n",
            "144/144 [==============================] - 1s 5ms/step - loss: 0.0183 - accuracy: 0.9935 - val_loss: 1.2771 - val_accuracy: 0.8242\n",
            "Epoch 70/100\n",
            "144/144 [==============================] - 1s 5ms/step - loss: 0.0185 - accuracy: 0.9938 - val_loss: 2.8460 - val_accuracy: 0.7424\n",
            "Epoch 71/100\n",
            "144/144 [==============================] - 1s 4ms/step - loss: 0.0156 - accuracy: 0.9952 - val_loss: 2.1689 - val_accuracy: 0.7791\n",
            "Epoch 72/100\n",
            "144/144 [==============================] - 1s 5ms/step - loss: 0.0144 - accuracy: 0.9952 - val_loss: 1.3376 - val_accuracy: 0.8119\n",
            "Epoch 73/100\n",
            "144/144 [==============================] - 1s 5ms/step - loss: 0.0152 - accuracy: 0.9953 - val_loss: 1.2326 - val_accuracy: 0.8330\n",
            "Epoch 74/100\n",
            "144/144 [==============================] - 1s 5ms/step - loss: 0.0277 - accuracy: 0.9900 - val_loss: 2.2658 - val_accuracy: 0.7091\n",
            "Epoch 75/100\n",
            "144/144 [==============================] - 1s 5ms/step - loss: 0.0384 - accuracy: 0.9867 - val_loss: 2.0321 - val_accuracy: 0.7067\n",
            "Epoch 76/100\n",
            "144/144 [==============================] - 1s 5ms/step - loss: 0.0274 - accuracy: 0.9905 - val_loss: 1.4608 - val_accuracy: 0.7953\n",
            "Epoch 77/100\n",
            "144/144 [==============================] - 1s 5ms/step - loss: 0.0218 - accuracy: 0.9928 - val_loss: 1.2349 - val_accuracy: 0.8345\n",
            "Epoch 78/100\n",
            "144/144 [==============================] - 1s 5ms/step - loss: 0.0192 - accuracy: 0.9934 - val_loss: 1.5770 - val_accuracy: 0.8139\n",
            "Epoch 79/100\n",
            "144/144 [==============================] - 1s 5ms/step - loss: 0.0146 - accuracy: 0.9956 - val_loss: 1.9433 - val_accuracy: 0.7977\n",
            "Epoch 80/100\n",
            "144/144 [==============================] - 1s 5ms/step - loss: 0.0069 - accuracy: 0.9981 - val_loss: 1.3413 - val_accuracy: 0.8237\n",
            "Epoch 81/100\n",
            "144/144 [==============================] - 1s 5ms/step - loss: 0.0075 - accuracy: 0.9980 - val_loss: 1.3004 - val_accuracy: 0.8286\n",
            "Epoch 82/100\n",
            "144/144 [==============================] - 1s 5ms/step - loss: 0.0126 - accuracy: 0.9959 - val_loss: 1.2964 - val_accuracy: 0.8320\n",
            "Epoch 83/100\n",
            "144/144 [==============================] - 1s 5ms/step - loss: 0.0169 - accuracy: 0.9943 - val_loss: 3.4324 - val_accuracy: 0.6146\n",
            "Epoch 84/100\n",
            "144/144 [==============================] - 1s 5ms/step - loss: 0.0401 - accuracy: 0.9868 - val_loss: 2.0130 - val_accuracy: 0.7532\n",
            "Epoch 85/100\n",
            "144/144 [==============================] - 1s 5ms/step - loss: 0.0328 - accuracy: 0.9881 - val_loss: 1.8449 - val_accuracy: 0.7816\n",
            "Epoch 86/100\n",
            "144/144 [==============================] - 1s 5ms/step - loss: 0.0208 - accuracy: 0.9928 - val_loss: 1.6228 - val_accuracy: 0.8134\n",
            "Epoch 87/100\n",
            "144/144 [==============================] - 1s 5ms/step - loss: 0.0173 - accuracy: 0.9943 - val_loss: 1.3978 - val_accuracy: 0.8291\n",
            "Epoch 88/100\n",
            "144/144 [==============================] - 1s 5ms/step - loss: 0.0129 - accuracy: 0.9958 - val_loss: 1.4439 - val_accuracy: 0.8061\n",
            "Epoch 89/100\n",
            "144/144 [==============================] - 1s 5ms/step - loss: 0.0100 - accuracy: 0.9967 - val_loss: 4.9564 - val_accuracy: 0.5769\n",
            "Epoch 90/100\n",
            "144/144 [==============================] - 1s 5ms/step - loss: 0.0120 - accuracy: 0.9966 - val_loss: 1.3559 - val_accuracy: 0.8247\n",
            "Epoch 91/100\n",
            "144/144 [==============================] - 1s 5ms/step - loss: 0.0176 - accuracy: 0.9941 - val_loss: 1.5992 - val_accuracy: 0.7929\n",
            "Epoch 92/100\n",
            "144/144 [==============================] - 1s 5ms/step - loss: 0.0319 - accuracy: 0.9893 - val_loss: 1.8150 - val_accuracy: 0.7547\n",
            "Epoch 93/100\n",
            "144/144 [==============================] - 1s 5ms/step - loss: 0.0270 - accuracy: 0.9899 - val_loss: 1.3082 - val_accuracy: 0.8487\n",
            "Epoch 94/100\n",
            "144/144 [==============================] - 1s 5ms/step - loss: 0.0141 - accuracy: 0.9954 - val_loss: 1.3397 - val_accuracy: 0.8369\n",
            "Epoch 95/100\n",
            "144/144 [==============================] - 1s 5ms/step - loss: 0.0103 - accuracy: 0.9973 - val_loss: 1.7516 - val_accuracy: 0.8144\n",
            "Epoch 96/100\n",
            "144/144 [==============================] - 1s 5ms/step - loss: 0.0140 - accuracy: 0.9953 - val_loss: 3.1120 - val_accuracy: 0.6881\n",
            "Epoch 97/100\n",
            "144/144 [==============================] - 1s 5ms/step - loss: 0.0151 - accuracy: 0.9955 - val_loss: 3.7967 - val_accuracy: 0.6675\n",
            "Epoch 98/100\n",
            "144/144 [==============================] - 1s 5ms/step - loss: 0.0209 - accuracy: 0.9931 - val_loss: 1.5575 - val_accuracy: 0.8105\n",
            "Epoch 99/100\n",
            "144/144 [==============================] - 1s 5ms/step - loss: 0.0149 - accuracy: 0.9949 - val_loss: 1.6691 - val_accuracy: 0.8012\n",
            "Epoch 100/100\n",
            "144/144 [==============================] - 1s 5ms/step - loss: 0.0112 - accuracy: 0.9966 - val_loss: 1.8970 - val_accuracy: 0.7532\n"
          ],
          "name": "stdout"
        }
      ]
    },
    {
      "cell_type": "code",
      "metadata": {
        "id": "DHTmEpdLWBpJ",
        "outputId": "e34ab41d-cf01-4aa1-99a8-5e1bc2eaa498",
        "colab": {
          "base_uri": "https://localhost:8080/",
          "height": 513
        }
      },
      "source": [
        "plt.plot(hist.history['loss'])\n",
        "plt.plot(hist.history['val_loss'])\n",
        "plt.show()\n",
        "\n",
        "plt.plot(hist.history['accuracy'])\n",
        "plt.plot(hist.history['val_accuracy'])\n",
        "plt.show()"
      ],
      "execution_count": 317,
      "outputs": [
        {
          "output_type": "display_data",
          "data": {
            "image/png": "[encoded data removed]",
            "text/plain": [
              "<Figure size 432x288 with 1 Axes>"
            ]
          },
          "metadata": {
            "tags": [],
            "needs_background": "light"
          }
        },
        {
          "output_type": "display_data",
          "data": {
            "image/png": "[encoded data removed]",
            "text/plain": [
              "<Figure size 432x288 with 1 Axes>"
            ]
          },
          "metadata": {
            "tags": [],
            "needs_background": "light"
          }
        }
      ]
    },
    {
      "cell_type": "code",
      "metadata": {
        "id": "CdPN956PUnID",
        "outputId": "ce820f23-1363-4ab3-b4b7-5ea61a35b148",
        "colab": {
          "base_uri": "https://localhost:8080/"
        }
      },
      "source": [
        "loss, acc = model.evaluate(test_x, test_y)\n",
        "print(\"loss=\",loss)\n",
        "print(\"acc=\",acc)"
      ],
      "execution_count": 318,
      "outputs": [
        {
          "output_type": "stream",
          "text": [
            "160/160 [==============================] - 0s 2ms/step - loss: 1.9584 - accuracy: 0.7488\n",
            "loss= 1.958362340927124\n",
            "acc= 0.7488244771957397\n"
          ],
          "name": "stdout"
        }
      ]
    },
    {
      "cell_type": "markdown",
      "metadata": {
        "id": "TNQZ7QdQUDD_"
      },
      "source": [
        "# Learning Rate 조정"
      ]
    },
    {
      "cell_type": "code",
      "metadata": {
        "id": "gbLbICOpUZ9N",
        "outputId": "c7b7b459-88a6-4a7d-8c4c-76032830be91",
        "colab": {
          "base_uri": "https://localhost:8080/"
        }
      },
      "source": [
        "from tensorflow.keras.optimizers import Adam\n",
        "\n",
        "model = keras.Sequential()\n",
        "model.add(Input(x[0].shape))\n",
        "model.add(Conv2D(32, (3, 3), padding='same'))\n",
        "model.add(MaxPooling2D((2, 2)))\n",
        "model.add(Conv2D(64, (3, 3), padding='same'))\n",
        "model.add(MaxPooling2D((2, 2)))\n",
        "model.add(Flatten())\n",
        "model.add(Dense(10, activation='relu'))\n",
        "model.add(Dense(10, activation='relu'))\n",
        "model.add(Dense(len(failure_name)-1, activation='softmax'))\n",
        "\n",
        "optimizer = Adam(lr=0.001)\n",
        "\n",
        "# model.compile(optimizer=\"adam\", loss=\"sparse_categorical_crossentropy\", metrics=[\"accuracy\"])\n",
        "model.compile(optimizer=optimizer, loss=\"sparse_categorical_crossentropy\", metrics=[\"accuracy\"])\n",
        "model.summary()"
      ],
      "execution_count": 319,
      "outputs": [
        {
          "output_type": "stream",
          "text": [
            "Model: \"sequential_21\"\n",
            "_________________________________________________________________\n",
            "Layer (type)                 Output Shape              Param #   \n",
            "=================================================================\n",
            "conv2d_38 (Conv2D)           (None, 26, 26, 32)        320       \n",
            "_________________________________________________________________\n",
            "max_pooling2d_38 (MaxPooling (None, 13, 13, 32)        0         \n",
            "_________________________________________________________________\n",
            "conv2d_39 (Conv2D)           (None, 13, 13, 64)        18496     \n",
            "_________________________________________________________________\n",
            "max_pooling2d_39 (MaxPooling (None, 6, 6, 64)          0         \n",
            "_________________________________________________________________\n",
            "flatten_17 (Flatten)         (None, 2304)              0         \n",
            "_________________________________________________________________\n",
            "dense_50 (Dense)             (None, 10)                23050     \n",
            "_________________________________________________________________\n",
            "dense_51 (Dense)             (None, 10)                110       \n",
            "_________________________________________________________________\n",
            "dense_52 (Dense)             (None, 8)                 88        \n",
            "=================================================================\n",
            "Total params: 42,064\n",
            "Trainable params: 42,064\n",
            "Non-trainable params: 0\n",
            "_________________________________________________________________\n"
          ],
          "name": "stdout"
        }
      ]
    },
    {
      "cell_type": "code",
      "metadata": {
        "id": "9loW80exUhsW",
        "outputId": "8fda774f-cc9c-4078-d924-3df243fcf3ba",
        "colab": {
          "base_uri": "https://localhost:8080/"
        }
      },
      "source": [
        "hist = model.fit(train_x, train_y, epochs=100, verbose=1, batch_size=128, validation_split=0.1)"
      ],
      "execution_count": 320,
      "outputs": [
        {
          "output_type": "stream",
          "text": [
            "Epoch 1/100\n",
            "144/144 [==============================] - 1s 5ms/step - loss: 1.5009 - accuracy: 0.3850 - val_loss: 1.0053 - val_accuracy: 0.6014\n",
            "Epoch 2/100\n",
            "144/144 [==============================] - 1s 4ms/step - loss: 0.7431 - accuracy: 0.6993 - val_loss: 0.6612 - val_accuracy: 0.7351\n",
            "Epoch 3/100\n",
            "144/144 [==============================] - 1s 4ms/step - loss: 0.6059 - accuracy: 0.7436 - val_loss: 0.5948 - val_accuracy: 0.7463\n",
            "Epoch 4/100\n",
            "144/144 [==============================] - 1s 4ms/step - loss: 0.5707 - accuracy: 0.7616 - val_loss: 0.5707 - val_accuracy: 0.7703\n",
            "Epoch 5/100\n",
            "144/144 [==============================] - 1s 4ms/step - loss: 0.5361 - accuracy: 0.7781 - val_loss: 0.5500 - val_accuracy: 0.7757\n",
            "Epoch 6/100\n",
            "144/144 [==============================] - 1s 4ms/step - loss: 0.5139 - accuracy: 0.7883 - val_loss: 0.5336 - val_accuracy: 0.7782\n",
            "Epoch 7/100\n",
            "144/144 [==============================] - 1s 4ms/step - loss: 0.4902 - accuracy: 0.8004 - val_loss: 0.5038 - val_accuracy: 0.7948\n",
            "Epoch 8/100\n",
            "144/144 [==============================] - 1s 4ms/step - loss: 0.4768 - accuracy: 0.8063 - val_loss: 0.4834 - val_accuracy: 0.8071\n",
            "Epoch 9/100\n",
            "144/144 [==============================] - 1s 4ms/step - loss: 0.4573 - accuracy: 0.8181 - val_loss: 0.4983 - val_accuracy: 0.8007\n",
            "Epoch 10/100\n",
            "144/144 [==============================] - 1s 4ms/step - loss: 0.4445 - accuracy: 0.8192 - val_loss: 0.4700 - val_accuracy: 0.8090\n",
            "Epoch 11/100\n",
            "144/144 [==============================] - 1s 4ms/step - loss: 0.4428 - accuracy: 0.8238 - val_loss: 0.4702 - val_accuracy: 0.8085\n",
            "Epoch 12/100\n",
            "144/144 [==============================] - 1s 4ms/step - loss: 0.4224 - accuracy: 0.8317 - val_loss: 0.5266 - val_accuracy: 0.7982\n",
            "Epoch 13/100\n",
            "144/144 [==============================] - 1s 4ms/step - loss: 0.4202 - accuracy: 0.8319 - val_loss: 0.4426 - val_accuracy: 0.8217\n",
            "Epoch 14/100\n",
            "144/144 [==============================] - 1s 4ms/step - loss: 0.4048 - accuracy: 0.8394 - val_loss: 0.4406 - val_accuracy: 0.8257\n",
            "Epoch 15/100\n",
            "144/144 [==============================] - 1s 4ms/step - loss: 0.4040 - accuracy: 0.8379 - val_loss: 0.5162 - val_accuracy: 0.7997\n",
            "Epoch 16/100\n",
            "144/144 [==============================] - 1s 4ms/step - loss: 0.3949 - accuracy: 0.8432 - val_loss: 0.4364 - val_accuracy: 0.8281\n",
            "Epoch 17/100\n",
            "144/144 [==============================] - 1s 4ms/step - loss: 0.3884 - accuracy: 0.8447 - val_loss: 0.4293 - val_accuracy: 0.8306\n",
            "Epoch 18/100\n",
            "144/144 [==============================] - 1s 4ms/step - loss: 0.3904 - accuracy: 0.8456 - val_loss: 0.4578 - val_accuracy: 0.8232\n",
            "Epoch 19/100\n",
            "144/144 [==============================] - 1s 4ms/step - loss: 0.3796 - accuracy: 0.8485 - val_loss: 0.4328 - val_accuracy: 0.8310\n",
            "Epoch 20/100\n",
            "144/144 [==============================] - 1s 4ms/step - loss: 0.3701 - accuracy: 0.8523 - val_loss: 0.4457 - val_accuracy: 0.8149\n",
            "Epoch 21/100\n",
            "144/144 [==============================] - 1s 4ms/step - loss: 0.3728 - accuracy: 0.8514 - val_loss: 0.4268 - val_accuracy: 0.8369\n",
            "Epoch 22/100\n",
            "144/144 [==============================] - 1s 4ms/step - loss: 0.3571 - accuracy: 0.8580 - val_loss: 0.4260 - val_accuracy: 0.8389\n",
            "Epoch 23/100\n",
            "144/144 [==============================] - 1s 4ms/step - loss: 0.3559 - accuracy: 0.8587 - val_loss: 0.4167 - val_accuracy: 0.8379\n",
            "Epoch 24/100\n",
            "144/144 [==============================] - 1s 4ms/step - loss: 0.3484 - accuracy: 0.8614 - val_loss: 0.4242 - val_accuracy: 0.8355\n",
            "Epoch 25/100\n",
            "144/144 [==============================] - 1s 4ms/step - loss: 0.3428 - accuracy: 0.8639 - val_loss: 0.4346 - val_accuracy: 0.8384\n",
            "Epoch 26/100\n",
            "144/144 [==============================] - 1s 4ms/step - loss: 0.3368 - accuracy: 0.8670 - val_loss: 0.4410 - val_accuracy: 0.8296\n",
            "Epoch 27/100\n",
            "144/144 [==============================] - 1s 4ms/step - loss: 0.3298 - accuracy: 0.8686 - val_loss: 0.4206 - val_accuracy: 0.8394\n",
            "Epoch 28/100\n",
            "144/144 [==============================] - 1s 4ms/step - loss: 0.3320 - accuracy: 0.8668 - val_loss: 0.4505 - val_accuracy: 0.8247\n",
            "Epoch 29/100\n",
            "144/144 [==============================] - 1s 4ms/step - loss: 0.3240 - accuracy: 0.8719 - val_loss: 0.4575 - val_accuracy: 0.8301\n",
            "Epoch 30/100\n",
            "144/144 [==============================] - 1s 4ms/step - loss: 0.3202 - accuracy: 0.8735 - val_loss: 0.4153 - val_accuracy: 0.8462\n",
            "Epoch 31/100\n",
            "144/144 [==============================] - 1s 4ms/step - loss: 0.3099 - accuracy: 0.8756 - val_loss: 0.4129 - val_accuracy: 0.8462\n",
            "Epoch 32/100\n",
            "144/144 [==============================] - 1s 4ms/step - loss: 0.3099 - accuracy: 0.8773 - val_loss: 0.4132 - val_accuracy: 0.8452\n",
            "Epoch 33/100\n",
            "144/144 [==============================] - 1s 4ms/step - loss: 0.3059 - accuracy: 0.8775 - val_loss: 0.4210 - val_accuracy: 0.8394\n",
            "Epoch 34/100\n",
            "144/144 [==============================] - 1s 4ms/step - loss: 0.2989 - accuracy: 0.8794 - val_loss: 0.4539 - val_accuracy: 0.8345\n",
            "Epoch 35/100\n",
            "144/144 [==============================] - 1s 4ms/step - loss: 0.2954 - accuracy: 0.8817 - val_loss: 0.4254 - val_accuracy: 0.8384\n",
            "Epoch 36/100\n",
            "144/144 [==============================] - 1s 4ms/step - loss: 0.3064 - accuracy: 0.8763 - val_loss: 0.4274 - val_accuracy: 0.8394\n",
            "Epoch 37/100\n",
            "144/144 [==============================] - 1s 4ms/step - loss: 0.2896 - accuracy: 0.8856 - val_loss: 0.4194 - val_accuracy: 0.8452\n",
            "Epoch 38/100\n",
            "144/144 [==============================] - 1s 4ms/step - loss: 0.2795 - accuracy: 0.8883 - val_loss: 0.4366 - val_accuracy: 0.8418\n",
            "Epoch 39/100\n",
            "144/144 [==============================] - 1s 4ms/step - loss: 0.2783 - accuracy: 0.8890 - val_loss: 0.4265 - val_accuracy: 0.8448\n",
            "Epoch 40/100\n",
            "144/144 [==============================] - 1s 4ms/step - loss: 0.2699 - accuracy: 0.8934 - val_loss: 0.4196 - val_accuracy: 0.8448\n",
            "Epoch 41/100\n",
            "144/144 [==============================] - 1s 4ms/step - loss: 0.2625 - accuracy: 0.8960 - val_loss: 0.4327 - val_accuracy: 0.8457\n",
            "Epoch 42/100\n",
            "144/144 [==============================] - 1s 4ms/step - loss: 0.2588 - accuracy: 0.8956 - val_loss: 0.4270 - val_accuracy: 0.8423\n",
            "Epoch 43/100\n",
            "144/144 [==============================] - 1s 4ms/step - loss: 0.2644 - accuracy: 0.8933 - val_loss: 0.4492 - val_accuracy: 0.8404\n",
            "Epoch 44/100\n",
            "144/144 [==============================] - 1s 4ms/step - loss: 0.2611 - accuracy: 0.8952 - val_loss: 0.4339 - val_accuracy: 0.8467\n",
            "Epoch 45/100\n",
            "144/144 [==============================] - 1s 4ms/step - loss: 0.2440 - accuracy: 0.9006 - val_loss: 0.4391 - val_accuracy: 0.8394\n",
            "Epoch 46/100\n",
            "144/144 [==============================] - 1s 4ms/step - loss: 0.2386 - accuracy: 0.9042 - val_loss: 0.4317 - val_accuracy: 0.8423\n",
            "Epoch 47/100\n",
            "144/144 [==============================] - 1s 4ms/step - loss: 0.2376 - accuracy: 0.9036 - val_loss: 0.4485 - val_accuracy: 0.8394\n",
            "Epoch 48/100\n",
            "144/144 [==============================] - 1s 4ms/step - loss: 0.2303 - accuracy: 0.9070 - val_loss: 0.4496 - val_accuracy: 0.8472\n",
            "Epoch 49/100\n",
            "144/144 [==============================] - 1s 4ms/step - loss: 0.2290 - accuracy: 0.9071 - val_loss: 0.4460 - val_accuracy: 0.8516\n",
            "Epoch 50/100\n",
            "144/144 [==============================] - 1s 4ms/step - loss: 0.2310 - accuracy: 0.9079 - val_loss: 0.4745 - val_accuracy: 0.8399\n",
            "Epoch 51/100\n",
            "144/144 [==============================] - 1s 4ms/step - loss: 0.2238 - accuracy: 0.9096 - val_loss: 0.5255 - val_accuracy: 0.8252\n",
            "Epoch 52/100\n",
            "144/144 [==============================] - 1s 4ms/step - loss: 0.2128 - accuracy: 0.9135 - val_loss: 0.4572 - val_accuracy: 0.8521\n",
            "Epoch 53/100\n",
            "144/144 [==============================] - 1s 4ms/step - loss: 0.2136 - accuracy: 0.9139 - val_loss: 0.4678 - val_accuracy: 0.8541\n",
            "Epoch 54/100\n",
            "144/144 [==============================] - 1s 4ms/step - loss: 0.2063 - accuracy: 0.9177 - val_loss: 0.4813 - val_accuracy: 0.8477\n",
            "Epoch 55/100\n",
            "144/144 [==============================] - 1s 4ms/step - loss: 0.2034 - accuracy: 0.9191 - val_loss: 0.5627 - val_accuracy: 0.8232\n",
            "Epoch 56/100\n",
            "144/144 [==============================] - 1s 4ms/step - loss: 0.1957 - accuracy: 0.9213 - val_loss: 0.4774 - val_accuracy: 0.8506\n",
            "Epoch 57/100\n",
            "144/144 [==============================] - 1s 4ms/step - loss: 0.1968 - accuracy: 0.9193 - val_loss: 0.5076 - val_accuracy: 0.8355\n",
            "Epoch 58/100\n",
            "144/144 [==============================] - 1s 4ms/step - loss: 0.1929 - accuracy: 0.9220 - val_loss: 0.5159 - val_accuracy: 0.8384\n",
            "Epoch 59/100\n",
            "144/144 [==============================] - 1s 4ms/step - loss: 0.1894 - accuracy: 0.9229 - val_loss: 0.5023 - val_accuracy: 0.8413\n",
            "Epoch 60/100\n",
            "144/144 [==============================] - 1s 4ms/step - loss: 0.1738 - accuracy: 0.9295 - val_loss: 0.5032 - val_accuracy: 0.8497\n",
            "Epoch 61/100\n",
            "144/144 [==============================] - 1s 4ms/step - loss: 0.1759 - accuracy: 0.9280 - val_loss: 0.5228 - val_accuracy: 0.8472\n",
            "Epoch 62/100\n",
            "144/144 [==============================] - 1s 4ms/step - loss: 0.1742 - accuracy: 0.9298 - val_loss: 0.5534 - val_accuracy: 0.8413\n",
            "Epoch 63/100\n",
            "144/144 [==============================] - 1s 4ms/step - loss: 0.1668 - accuracy: 0.9327 - val_loss: 0.5525 - val_accuracy: 0.8438\n",
            "Epoch 64/100\n",
            "144/144 [==============================] - 1s 4ms/step - loss: 0.1654 - accuracy: 0.9321 - val_loss: 0.5537 - val_accuracy: 0.8462\n",
            "Epoch 65/100\n",
            "144/144 [==============================] - 1s 4ms/step - loss: 0.1597 - accuracy: 0.9352 - val_loss: 0.5867 - val_accuracy: 0.8418\n",
            "Epoch 66/100\n",
            "144/144 [==============================] - 1s 4ms/step - loss: 0.1875 - accuracy: 0.9231 - val_loss: 0.5488 - val_accuracy: 0.8452\n",
            "Epoch 67/100\n",
            "144/144 [==============================] - 1s 4ms/step - loss: 0.1586 - accuracy: 0.9358 - val_loss: 0.5785 - val_accuracy: 0.8438\n",
            "Epoch 68/100\n",
            "144/144 [==============================] - 1s 4ms/step - loss: 0.1467 - accuracy: 0.9426 - val_loss: 0.5765 - val_accuracy: 0.8457\n",
            "Epoch 69/100\n",
            "144/144 [==============================] - 1s 4ms/step - loss: 0.1448 - accuracy: 0.9419 - val_loss: 0.6082 - val_accuracy: 0.8369\n",
            "Epoch 70/100\n",
            "144/144 [==============================] - 1s 4ms/step - loss: 0.1411 - accuracy: 0.9414 - val_loss: 0.5841 - val_accuracy: 0.8462\n",
            "Epoch 71/100\n",
            "144/144 [==============================] - 1s 4ms/step - loss: 0.1379 - accuracy: 0.9461 - val_loss: 0.6137 - val_accuracy: 0.8374\n",
            "Epoch 72/100\n",
            "144/144 [==============================] - 1s 4ms/step - loss: 0.1365 - accuracy: 0.9472 - val_loss: 0.6192 - val_accuracy: 0.8404\n",
            "Epoch 73/100\n",
            "144/144 [==============================] - 1s 4ms/step - loss: 0.1412 - accuracy: 0.9430 - val_loss: 0.6246 - val_accuracy: 0.8394\n",
            "Epoch 74/100\n",
            "144/144 [==============================] - 1s 4ms/step - loss: 0.1443 - accuracy: 0.9412 - val_loss: 0.6369 - val_accuracy: 0.8379\n",
            "Epoch 75/100\n",
            "144/144 [==============================] - 1s 4ms/step - loss: 0.1386 - accuracy: 0.9436 - val_loss: 0.6435 - val_accuracy: 0.8369\n",
            "Epoch 76/100\n",
            "144/144 [==============================] - 1s 4ms/step - loss: 0.1269 - accuracy: 0.9500 - val_loss: 0.6369 - val_accuracy: 0.8452\n",
            "Epoch 77/100\n",
            "144/144 [==============================] - 1s 4ms/step - loss: 0.1197 - accuracy: 0.9524 - val_loss: 0.6449 - val_accuracy: 0.8399\n",
            "Epoch 78/100\n",
            "144/144 [==============================] - 1s 4ms/step - loss: 0.1170 - accuracy: 0.9540 - val_loss: 0.6733 - val_accuracy: 0.8384\n",
            "Epoch 79/100\n",
            "144/144 [==============================] - 1s 4ms/step - loss: 0.1156 - accuracy: 0.9548 - val_loss: 0.7701 - val_accuracy: 0.8271\n",
            "Epoch 80/100\n",
            "144/144 [==============================] - 1s 4ms/step - loss: 0.1270 - accuracy: 0.9501 - val_loss: 0.6705 - val_accuracy: 0.8364\n",
            "Epoch 81/100\n",
            "144/144 [==============================] - 1s 4ms/step - loss: 0.1164 - accuracy: 0.9552 - val_loss: 0.6974 - val_accuracy: 0.8320\n",
            "Epoch 82/100\n",
            "144/144 [==============================] - 1s 4ms/step - loss: 0.1192 - accuracy: 0.9527 - val_loss: 0.6871 - val_accuracy: 0.8413\n",
            "Epoch 83/100\n",
            "144/144 [==============================] - 1s 4ms/step - loss: 0.1052 - accuracy: 0.9597 - val_loss: 0.7690 - val_accuracy: 0.8296\n",
            "Epoch 84/100\n",
            "144/144 [==============================] - 1s 4ms/step - loss: 0.1042 - accuracy: 0.9606 - val_loss: 0.7280 - val_accuracy: 0.8399\n",
            "Epoch 85/100\n",
            "144/144 [==============================] - 1s 4ms/step - loss: 0.1002 - accuracy: 0.9621 - val_loss: 0.7500 - val_accuracy: 0.8452\n",
            "Epoch 86/100\n",
            "144/144 [==============================] - 1s 4ms/step - loss: 0.1264 - accuracy: 0.9505 - val_loss: 0.7495 - val_accuracy: 0.8359\n",
            "Epoch 87/100\n",
            "144/144 [==============================] - 1s 4ms/step - loss: 0.0978 - accuracy: 0.9642 - val_loss: 0.7806 - val_accuracy: 0.8384\n",
            "Epoch 88/100\n",
            "144/144 [==============================] - 1s 4ms/step - loss: 0.0998 - accuracy: 0.9651 - val_loss: 0.7998 - val_accuracy: 0.8345\n",
            "Epoch 89/100\n",
            "144/144 [==============================] - 1s 4ms/step - loss: 0.0929 - accuracy: 0.9670 - val_loss: 0.7749 - val_accuracy: 0.8355\n",
            "Epoch 90/100\n",
            "144/144 [==============================] - 1s 4ms/step - loss: 0.1039 - accuracy: 0.9622 - val_loss: 0.8036 - val_accuracy: 0.8428\n",
            "Epoch 91/100\n",
            "144/144 [==============================] - 1s 4ms/step - loss: 0.0850 - accuracy: 0.9710 - val_loss: 0.8078 - val_accuracy: 0.8306\n",
            "Epoch 92/100\n",
            "144/144 [==============================] - 1s 4ms/step - loss: 0.0821 - accuracy: 0.9720 - val_loss: 0.8305 - val_accuracy: 0.8408\n",
            "Epoch 93/100\n",
            "144/144 [==============================] - 1s 4ms/step - loss: 0.0861 - accuracy: 0.9686 - val_loss: 0.8462 - val_accuracy: 0.8355\n",
            "Epoch 94/100\n",
            "144/144 [==============================] - 1s 4ms/step - loss: 0.0775 - accuracy: 0.9745 - val_loss: 0.8350 - val_accuracy: 0.8369\n",
            "Epoch 95/100\n",
            "144/144 [==============================] - 1s 4ms/step - loss: 0.0784 - accuracy: 0.9724 - val_loss: 0.8918 - val_accuracy: 0.8355\n",
            "Epoch 96/100\n",
            "144/144 [==============================] - 1s 4ms/step - loss: 0.0814 - accuracy: 0.9717 - val_loss: 0.9221 - val_accuracy: 0.8369\n",
            "Epoch 97/100\n",
            "144/144 [==============================] - 1s 4ms/step - loss: 0.0809 - accuracy: 0.9707 - val_loss: 0.9250 - val_accuracy: 0.8281\n",
            "Epoch 98/100\n",
            "144/144 [==============================] - 1s 4ms/step - loss: 0.0929 - accuracy: 0.9648 - val_loss: 0.9628 - val_accuracy: 0.8237\n",
            "Epoch 99/100\n",
            "144/144 [==============================] - 1s 4ms/step - loss: 0.0888 - accuracy: 0.9671 - val_loss: 0.9280 - val_accuracy: 0.8335\n",
            "Epoch 100/100\n",
            "144/144 [==============================] - 1s 4ms/step - loss: 0.0763 - accuracy: 0.9736 - val_loss: 0.9763 - val_accuracy: 0.8355\n"
          ],
          "name": "stdout"
        }
      ]
    },
    {
      "cell_type": "code",
      "metadata": {
        "id": "T0s-TUuRUhk5",
        "outputId": "9df2097b-edf6-4f45-bfec-617560725dd7",
        "colab": {
          "base_uri": "https://localhost:8080/",
          "height": 516
        }
      },
      "source": [
        "plt.plot(hist.history['loss'])\n",
        "plt.plot(hist.history['val_loss'])\n",
        "plt.show()\n",
        "\n",
        "plt.plot(hist.history['accuracy'])\n",
        "plt.plot(hist.history['val_accuracy'])\n",
        "plt.show()"
      ],
      "execution_count": 321,
      "outputs": [
        {
          "output_type": "display_data",
          "data": {
            "image/png": "[encoded data removed]",
            "text/plain": [
              "<Figure size 432x288 with 1 Axes>"
            ]
          },
          "metadata": {
            "tags": [],
            "needs_background": "light"
          }
        },
        {
          "output_type": "display_data",
          "data": {
            "image/png": "[encoded data removed]",
            "text/plain": [
              "<Figure size 432x288 with 1 Axes>"
            ]
          },
          "metadata": {
            "tags": [],
            "needs_background": "light"
          }
        }
      ]
    },
    {
      "cell_type": "code",
      "metadata": {
        "id": "oVNELy-sUj9W",
        "outputId": "7dfa819a-f644-40dd-d8dd-4fa04bea1544",
        "colab": {
          "base_uri": "https://localhost:8080/"
        }
      },
      "source": [
        "loss, acc = model.evaluate(test_x, test_y)\n",
        "print(\"loss=\",loss)\n",
        "print(\"acc=\",acc)"
      ],
      "execution_count": 322,
      "outputs": [
        {
          "output_type": "stream",
          "text": [
            "160/160 [==============================] - 0s 2ms/step - loss: 0.9312 - accuracy: 0.8280\n",
            "loss= 0.9312117695808411\n",
            "acc= 0.8279780745506287\n"
          ],
          "name": "stdout"
        }
      ]
    },
    {
      "cell_type": "markdown",
      "metadata": {
        "id": "uyCNfmTlR70m"
      },
      "source": [
        "# class weight 적용"
      ]
    },
    {
      "cell_type": "code",
      "metadata": {
        "id": "eqWed9tlSbas",
        "outputId": "63206ab0-70a9-43b7-fc74-7ad0c38765bd",
        "colab": {
          "base_uri": "https://localhost:8080/"
        }
      },
      "source": [
        "from tensorflow.keras.optimizers import Adam\n",
        "\n",
        "model = keras.Sequential()\n",
        "model.add(Input(x[0].shape))\n",
        "model.add(Conv2D(32, (3, 3), padding='same'))\n",
        "model.add(MaxPooling2D((2, 2)))\n",
        "model.add(Conv2D(64, (3, 3), padding='same'))\n",
        "model.add(MaxPooling2D((2, 2)))\n",
        "model.add(Flatten())\n",
        "model.add(Dense(10, activation='relu'))\n",
        "model.add(Dense(10, activation='relu'))\n",
        "model.add(Dense(len(failure_name)-1, activation='softmax'))\n",
        "\n",
        "optimizer = Adam(lr=0.001, beta_1=0.9, beta_2=0.999, epsilon=None, decay=0.0, amsgrad=False)\n",
        "\n",
        "model.compile(optimizer=optimizer, loss=\"sparse_categorical_crossentropy\", metrics=[\"accuracy\"])\n",
        "model.summary()"
      ],
      "execution_count": 323,
      "outputs": [
        {
          "output_type": "stream",
          "text": [
            "Model: \"sequential_22\"\n",
            "_________________________________________________________________\n",
            "Layer (type)                 Output Shape              Param #   \n",
            "=================================================================\n",
            "conv2d_40 (Conv2D)           (None, 26, 26, 32)        320       \n",
            "_________________________________________________________________\n",
            "max_pooling2d_40 (MaxPooling (None, 13, 13, 32)        0         \n",
            "_________________________________________________________________\n",
            "conv2d_41 (Conv2D)           (None, 13, 13, 64)        18496     \n",
            "_________________________________________________________________\n",
            "max_pooling2d_41 (MaxPooling (None, 6, 6, 64)          0         \n",
            "_________________________________________________________________\n",
            "flatten_18 (Flatten)         (None, 2304)              0         \n",
            "_________________________________________________________________\n",
            "dense_53 (Dense)             (None, 10)                23050     \n",
            "_________________________________________________________________\n",
            "dense_54 (Dense)             (None, 10)                110       \n",
            "_________________________________________________________________\n",
            "dense_55 (Dense)             (None, 8)                 88        \n",
            "=================================================================\n",
            "Total params: 42,064\n",
            "Trainable params: 42,064\n",
            "Non-trainable params: 0\n",
            "_________________________________________________________________\n"
          ],
          "name": "stdout"
        }
      ]
    },
    {
      "cell_type": "code",
      "metadata": {
        "id": "BRdhJuSjE6cE",
        "outputId": "985c0e55-85a1-49d0-ebb0-1f739b926c11",
        "colab": {
          "base_uri": "https://localhost:8080/"
        }
      },
      "source": [
        "from sklearn.utils.class_weight import compute_class_weight\n",
        "\n",
        "class_weight = compute_class_weight('balanced', np.unique(train_y), train_y)\n",
        "print(class_weight)\n",
        "\n",
        "class_weight = {i : class_weight[i] for i in range(len(class_weight))}\n",
        "print(class_weight)"
      ],
      "execution_count": 324,
      "outputs": [
        {
          "output_type": "stream",
          "text": [
            "[1.18519594 1.84834767 0.98196248 0.52568559 1.43970381]\n",
            "{0: 1.1851959361393323, 1: 1.8483476686283387, 2: 0.9819624819624819, 3: 0.5256855928930089, 4: 1.439703808180536}\n"
          ],
          "name": "stdout"
        }
      ]
    },
    {
      "cell_type": "code",
      "metadata": {
        "id": "gj3RnFDZE6WB",
        "outputId": "f7a86049-4f1f-435f-d888-33db8681d9ac",
        "colab": {
          "base_uri": "https://localhost:8080/"
        }
      },
      "source": [
        "hist = model.fit(train_x, train_y, epochs=100, verbose=1, batch_size=128, validation_split=0.1, class_weight=class_weight)"
      ],
      "execution_count": 325,
      "outputs": [
        {
          "output_type": "stream",
          "text": [
            "Epoch 1/100\n",
            "144/144 [==============================] - 1s 5ms/step - loss: 1.5122 - accuracy: 0.2697 - val_loss: 1.2051 - val_accuracy: 0.3722\n",
            "Epoch 2/100\n",
            "144/144 [==============================] - 1s 4ms/step - loss: 0.9827 - accuracy: 0.6321 - val_loss: 0.7788 - val_accuracy: 0.6895\n",
            "Epoch 3/100\n",
            "144/144 [==============================] - 1s 4ms/step - loss: 0.7786 - accuracy: 0.7172 - val_loss: 0.6443 - val_accuracy: 0.7360\n",
            "Epoch 4/100\n",
            "144/144 [==============================] - 1s 4ms/step - loss: 0.7248 - accuracy: 0.7357 - val_loss: 0.6082 - val_accuracy: 0.7453\n",
            "Epoch 5/100\n",
            "144/144 [==============================] - 1s 4ms/step - loss: 0.7007 - accuracy: 0.7470 - val_loss: 0.5760 - val_accuracy: 0.7502\n",
            "Epoch 6/100\n",
            "144/144 [==============================] - 1s 4ms/step - loss: 0.6844 - accuracy: 0.7568 - val_loss: 0.5665 - val_accuracy: 0.7527\n",
            "Epoch 7/100\n",
            "144/144 [==============================] - 1s 4ms/step - loss: 0.6714 - accuracy: 0.7600 - val_loss: 0.5597 - val_accuracy: 0.7718\n",
            "Epoch 8/100\n",
            "144/144 [==============================] - 1s 4ms/step - loss: 0.6483 - accuracy: 0.7703 - val_loss: 0.5863 - val_accuracy: 0.7488\n",
            "Epoch 9/100\n",
            "144/144 [==============================] - 1s 4ms/step - loss: 0.6340 - accuracy: 0.7808 - val_loss: 0.5363 - val_accuracy: 0.7772\n",
            "Epoch 10/100\n",
            "144/144 [==============================] - 1s 4ms/step - loss: 0.6237 - accuracy: 0.7794 - val_loss: 0.5451 - val_accuracy: 0.7850\n",
            "Epoch 11/100\n",
            "144/144 [==============================] - 1s 4ms/step - loss: 0.6066 - accuracy: 0.7891 - val_loss: 0.5149 - val_accuracy: 0.7835\n",
            "Epoch 12/100\n",
            "144/144 [==============================] - 1s 4ms/step - loss: 0.6006 - accuracy: 0.7925 - val_loss: 0.5193 - val_accuracy: 0.7801\n",
            "Epoch 13/100\n",
            "144/144 [==============================] - 1s 4ms/step - loss: 0.5895 - accuracy: 0.7986 - val_loss: 0.5003 - val_accuracy: 0.8031\n",
            "Epoch 14/100\n",
            "144/144 [==============================] - 1s 4ms/step - loss: 0.5831 - accuracy: 0.8023 - val_loss: 0.4867 - val_accuracy: 0.7904\n",
            "Epoch 15/100\n",
            "144/144 [==============================] - 1s 4ms/step - loss: 0.5623 - accuracy: 0.8122 - val_loss: 0.5190 - val_accuracy: 0.7899\n",
            "Epoch 16/100\n",
            "144/144 [==============================] - 1s 4ms/step - loss: 0.5545 - accuracy: 0.8138 - val_loss: 0.4895 - val_accuracy: 0.8002\n",
            "Epoch 17/100\n",
            "144/144 [==============================] - 1s 4ms/step - loss: 0.5409 - accuracy: 0.8207 - val_loss: 0.5185 - val_accuracy: 0.8017\n",
            "Epoch 18/100\n",
            "144/144 [==============================] - 1s 4ms/step - loss: 0.5284 - accuracy: 0.8284 - val_loss: 0.4588 - val_accuracy: 0.8203\n",
            "Epoch 19/100\n",
            "144/144 [==============================] - 1s 4ms/step - loss: 0.5256 - accuracy: 0.8282 - val_loss: 0.4471 - val_accuracy: 0.8208\n",
            "Epoch 20/100\n",
            "144/144 [==============================] - 1s 4ms/step - loss: 0.5147 - accuracy: 0.8337 - val_loss: 0.4510 - val_accuracy: 0.8203\n",
            "Epoch 21/100\n",
            "144/144 [==============================] - 1s 4ms/step - loss: 0.5004 - accuracy: 0.8386 - val_loss: 0.4788 - val_accuracy: 0.8124\n",
            "Epoch 22/100\n",
            "144/144 [==============================] - 1s 4ms/step - loss: 0.4917 - accuracy: 0.8404 - val_loss: 0.4571 - val_accuracy: 0.8203\n",
            "Epoch 23/100\n",
            "144/144 [==============================] - 1s 4ms/step - loss: 0.4865 - accuracy: 0.8445 - val_loss: 0.4360 - val_accuracy: 0.8296\n",
            "Epoch 24/100\n",
            "144/144 [==============================] - 1s 4ms/step - loss: 0.4724 - accuracy: 0.8517 - val_loss: 0.4568 - val_accuracy: 0.8242\n",
            "Epoch 25/100\n",
            "144/144 [==============================] - 1s 4ms/step - loss: 0.4699 - accuracy: 0.8518 - val_loss: 0.4369 - val_accuracy: 0.8266\n",
            "Epoch 26/100\n",
            "144/144 [==============================] - 1s 4ms/step - loss: 0.4610 - accuracy: 0.8529 - val_loss: 0.4337 - val_accuracy: 0.8296\n",
            "Epoch 27/100\n",
            "144/144 [==============================] - 1s 4ms/step - loss: 0.4480 - accuracy: 0.8598 - val_loss: 0.4346 - val_accuracy: 0.8345\n",
            "Epoch 28/100\n",
            "144/144 [==============================] - 1s 4ms/step - loss: 0.4472 - accuracy: 0.8591 - val_loss: 0.4812 - val_accuracy: 0.8149\n",
            "Epoch 29/100\n",
            "144/144 [==============================] - 1s 4ms/step - loss: 0.4375 - accuracy: 0.8634 - val_loss: 0.4424 - val_accuracy: 0.8276\n",
            "Epoch 30/100\n",
            "144/144 [==============================] - 1s 4ms/step - loss: 0.4365 - accuracy: 0.8616 - val_loss: 0.4494 - val_accuracy: 0.8227\n",
            "Epoch 31/100\n",
            "144/144 [==============================] - 1s 4ms/step - loss: 0.4219 - accuracy: 0.8688 - val_loss: 0.4546 - val_accuracy: 0.8262\n",
            "Epoch 32/100\n",
            "144/144 [==============================] - 1s 4ms/step - loss: 0.4211 - accuracy: 0.8679 - val_loss: 0.4319 - val_accuracy: 0.8345\n",
            "Epoch 33/100\n",
            "144/144 [==============================] - 1s 4ms/step - loss: 0.4095 - accuracy: 0.8737 - val_loss: 0.4373 - val_accuracy: 0.8296\n",
            "Epoch 34/100\n",
            "144/144 [==============================] - 1s 4ms/step - loss: 0.4003 - accuracy: 0.8748 - val_loss: 0.4350 - val_accuracy: 0.8315\n",
            "Epoch 35/100\n",
            "144/144 [==============================] - 1s 4ms/step - loss: 0.4017 - accuracy: 0.8747 - val_loss: 0.4859 - val_accuracy: 0.8213\n",
            "Epoch 36/100\n",
            "144/144 [==============================] - 1s 4ms/step - loss: 0.3857 - accuracy: 0.8798 - val_loss: 0.4567 - val_accuracy: 0.8257\n",
            "Epoch 37/100\n",
            "144/144 [==============================] - 1s 4ms/step - loss: 0.3819 - accuracy: 0.8805 - val_loss: 0.4423 - val_accuracy: 0.8359\n",
            "Epoch 38/100\n",
            "144/144 [==============================] - 1s 4ms/step - loss: 0.3701 - accuracy: 0.8834 - val_loss: 0.4489 - val_accuracy: 0.8364\n",
            "Epoch 39/100\n",
            "144/144 [==============================] - 1s 4ms/step - loss: 0.3652 - accuracy: 0.8871 - val_loss: 0.4646 - val_accuracy: 0.8266\n",
            "Epoch 40/100\n",
            "144/144 [==============================] - 1s 4ms/step - loss: 0.3588 - accuracy: 0.8886 - val_loss: 0.4632 - val_accuracy: 0.8350\n",
            "Epoch 41/100\n",
            "144/144 [==============================] - 1s 4ms/step - loss: 0.3519 - accuracy: 0.8912 - val_loss: 0.4573 - val_accuracy: 0.8345\n",
            "Epoch 42/100\n",
            "144/144 [==============================] - 1s 4ms/step - loss: 0.3468 - accuracy: 0.8901 - val_loss: 0.4484 - val_accuracy: 0.8330\n",
            "Epoch 43/100\n",
            "144/144 [==============================] - 1s 4ms/step - loss: 0.3326 - accuracy: 0.8972 - val_loss: 0.4547 - val_accuracy: 0.8276\n",
            "Epoch 44/100\n",
            "144/144 [==============================] - 1s 4ms/step - loss: 0.3292 - accuracy: 0.8981 - val_loss: 0.5132 - val_accuracy: 0.8257\n",
            "Epoch 45/100\n",
            "144/144 [==============================] - 1s 4ms/step - loss: 0.3209 - accuracy: 0.9030 - val_loss: 0.4566 - val_accuracy: 0.8291\n",
            "Epoch 46/100\n",
            "144/144 [==============================] - 1s 4ms/step - loss: 0.3146 - accuracy: 0.9037 - val_loss: 0.5309 - val_accuracy: 0.8232\n",
            "Epoch 47/100\n",
            "144/144 [==============================] - 1s 4ms/step - loss: 0.3116 - accuracy: 0.9044 - val_loss: 0.5189 - val_accuracy: 0.8129\n",
            "Epoch 48/100\n",
            "144/144 [==============================] - 1s 4ms/step - loss: 0.3086 - accuracy: 0.9064 - val_loss: 0.4698 - val_accuracy: 0.8364\n",
            "Epoch 49/100\n",
            "144/144 [==============================] - 1s 4ms/step - loss: 0.2912 - accuracy: 0.9124 - val_loss: 0.4764 - val_accuracy: 0.8257\n",
            "Epoch 50/100\n",
            "144/144 [==============================] - 1s 4ms/step - loss: 0.2917 - accuracy: 0.9128 - val_loss: 0.5240 - val_accuracy: 0.8129\n",
            "Epoch 51/100\n",
            "144/144 [==============================] - 1s 4ms/step - loss: 0.2860 - accuracy: 0.9148 - val_loss: 0.4992 - val_accuracy: 0.8301\n",
            "Epoch 52/100\n",
            "144/144 [==============================] - 1s 4ms/step - loss: 0.2752 - accuracy: 0.9191 - val_loss: 0.5315 - val_accuracy: 0.8276\n",
            "Epoch 53/100\n",
            "144/144 [==============================] - 1s 4ms/step - loss: 0.2838 - accuracy: 0.9153 - val_loss: 0.5046 - val_accuracy: 0.8301\n",
            "Epoch 54/100\n",
            "144/144 [==============================] - 1s 4ms/step - loss: 0.2651 - accuracy: 0.9206 - val_loss: 0.5331 - val_accuracy: 0.8325\n",
            "Epoch 55/100\n",
            "144/144 [==============================] - 1s 4ms/step - loss: 0.2580 - accuracy: 0.9231 - val_loss: 0.5060 - val_accuracy: 0.8281\n",
            "Epoch 56/100\n",
            "144/144 [==============================] - 1s 4ms/step - loss: 0.2518 - accuracy: 0.9268 - val_loss: 0.5569 - val_accuracy: 0.8217\n",
            "Epoch 57/100\n",
            "144/144 [==============================] - 1s 4ms/step - loss: 0.2503 - accuracy: 0.9272 - val_loss: 0.5129 - val_accuracy: 0.8271\n",
            "Epoch 58/100\n",
            "144/144 [==============================] - 1s 4ms/step - loss: 0.2456 - accuracy: 0.9287 - val_loss: 0.5242 - val_accuracy: 0.8379\n",
            "Epoch 59/100\n",
            "144/144 [==============================] - 1s 4ms/step - loss: 0.2320 - accuracy: 0.9334 - val_loss: 0.5443 - val_accuracy: 0.8306\n",
            "Epoch 60/100\n",
            "144/144 [==============================] - 1s 4ms/step - loss: 0.2312 - accuracy: 0.9348 - val_loss: 0.5336 - val_accuracy: 0.8306\n",
            "Epoch 61/100\n",
            "144/144 [==============================] - 1s 4ms/step - loss: 0.2256 - accuracy: 0.9346 - val_loss: 0.5630 - val_accuracy: 0.8281\n",
            "Epoch 62/100\n",
            "144/144 [==============================] - 1s 4ms/step - loss: 0.2259 - accuracy: 0.9336 - val_loss: 0.5364 - val_accuracy: 0.8320\n",
            "Epoch 63/100\n",
            "144/144 [==============================] - 1s 4ms/step - loss: 0.2113 - accuracy: 0.9395 - val_loss: 0.5508 - val_accuracy: 0.8301\n",
            "Epoch 64/100\n",
            "144/144 [==============================] - 1s 4ms/step - loss: 0.2133 - accuracy: 0.9371 - val_loss: 0.5828 - val_accuracy: 0.8227\n",
            "Epoch 65/100\n",
            "144/144 [==============================] - 1s 4ms/step - loss: 0.2005 - accuracy: 0.9432 - val_loss: 0.5920 - val_accuracy: 0.8315\n",
            "Epoch 66/100\n",
            "144/144 [==============================] - 1s 4ms/step - loss: 0.2089 - accuracy: 0.9386 - val_loss: 0.5935 - val_accuracy: 0.8242\n",
            "Epoch 67/100\n",
            "144/144 [==============================] - 1s 4ms/step - loss: 0.1871 - accuracy: 0.9483 - val_loss: 0.6320 - val_accuracy: 0.8257\n",
            "Epoch 68/100\n",
            "144/144 [==============================] - 1s 4ms/step - loss: 0.1825 - accuracy: 0.9501 - val_loss: 0.6285 - val_accuracy: 0.8281\n",
            "Epoch 69/100\n",
            "144/144 [==============================] - 1s 4ms/step - loss: 0.1856 - accuracy: 0.9477 - val_loss: 0.6055 - val_accuracy: 0.8286\n",
            "Epoch 70/100\n",
            "144/144 [==============================] - 1s 4ms/step - loss: 0.1793 - accuracy: 0.9505 - val_loss: 0.6337 - val_accuracy: 0.8320\n",
            "Epoch 71/100\n",
            "144/144 [==============================] - 1s 4ms/step - loss: 0.1868 - accuracy: 0.9474 - val_loss: 0.6397 - val_accuracy: 0.8291\n",
            "Epoch 72/100\n",
            "144/144 [==============================] - 1s 4ms/step - loss: 0.1644 - accuracy: 0.9562 - val_loss: 0.6460 - val_accuracy: 0.8301\n",
            "Epoch 73/100\n",
            "144/144 [==============================] - 1s 4ms/step - loss: 0.1645 - accuracy: 0.9562 - val_loss: 0.6483 - val_accuracy: 0.8281\n",
            "Epoch 74/100\n",
            "144/144 [==============================] - 1s 4ms/step - loss: 0.1553 - accuracy: 0.9596 - val_loss: 0.6744 - val_accuracy: 0.8291\n",
            "Epoch 75/100\n",
            "144/144 [==============================] - 1s 4ms/step - loss: 0.1609 - accuracy: 0.9551 - val_loss: 0.7941 - val_accuracy: 0.8227\n",
            "Epoch 76/100\n",
            "144/144 [==============================] - 1s 4ms/step - loss: 0.1689 - accuracy: 0.9513 - val_loss: 0.6957 - val_accuracy: 0.8266\n",
            "Epoch 77/100\n",
            "144/144 [==============================] - 1s 4ms/step - loss: 0.1515 - accuracy: 0.9603 - val_loss: 0.7038 - val_accuracy: 0.8247\n",
            "Epoch 78/100\n",
            "144/144 [==============================] - 1s 4ms/step - loss: 0.1365 - accuracy: 0.9646 - val_loss: 0.7085 - val_accuracy: 0.8291\n",
            "Epoch 79/100\n",
            "144/144 [==============================] - 1s 4ms/step - loss: 0.1366 - accuracy: 0.9653 - val_loss: 0.7217 - val_accuracy: 0.8281\n",
            "Epoch 80/100\n",
            "144/144 [==============================] - 1s 4ms/step - loss: 0.1354 - accuracy: 0.9630 - val_loss: 0.7568 - val_accuracy: 0.8198\n",
            "Epoch 81/100\n",
            "144/144 [==============================] - 1s 4ms/step - loss: 0.1361 - accuracy: 0.9627 - val_loss: 0.7636 - val_accuracy: 0.8198\n",
            "Epoch 82/100\n",
            "144/144 [==============================] - 1s 4ms/step - loss: 0.1274 - accuracy: 0.9665 - val_loss: 0.7574 - val_accuracy: 0.8213\n",
            "Epoch 83/100\n",
            "144/144 [==============================] - 1s 4ms/step - loss: 0.1268 - accuracy: 0.9657 - val_loss: 0.7734 - val_accuracy: 0.8310\n",
            "Epoch 84/100\n",
            "144/144 [==============================] - 1s 4ms/step - loss: 0.1194 - accuracy: 0.9686 - val_loss: 0.8017 - val_accuracy: 0.8320\n",
            "Epoch 85/100\n",
            "144/144 [==============================] - 1s 4ms/step - loss: 0.1148 - accuracy: 0.9709 - val_loss: 0.8440 - val_accuracy: 0.8296\n",
            "Epoch 86/100\n",
            "144/144 [==============================] - 1s 4ms/step - loss: 0.1268 - accuracy: 0.9666 - val_loss: 0.8448 - val_accuracy: 0.8276\n",
            "Epoch 87/100\n",
            "144/144 [==============================] - 1s 4ms/step - loss: 0.1152 - accuracy: 0.9692 - val_loss: 0.8263 - val_accuracy: 0.8252\n",
            "Epoch 88/100\n",
            "144/144 [==============================] - 1s 4ms/step - loss: 0.1008 - accuracy: 0.9762 - val_loss: 0.8542 - val_accuracy: 0.8247\n",
            "Epoch 89/100\n",
            "144/144 [==============================] - 1s 4ms/step - loss: 0.1131 - accuracy: 0.9701 - val_loss: 0.8697 - val_accuracy: 0.8237\n",
            "Epoch 90/100\n",
            "144/144 [==============================] - 1s 4ms/step - loss: 0.0985 - accuracy: 0.9757 - val_loss: 0.9059 - val_accuracy: 0.8237\n",
            "Epoch 91/100\n",
            "144/144 [==============================] - 1s 4ms/step - loss: 0.0962 - accuracy: 0.9764 - val_loss: 0.8697 - val_accuracy: 0.8291\n",
            "Epoch 92/100\n",
            "144/144 [==============================] - 1s 4ms/step - loss: 0.0940 - accuracy: 0.9768 - val_loss: 0.8955 - val_accuracy: 0.8276\n",
            "Epoch 93/100\n",
            "144/144 [==============================] - 1s 4ms/step - loss: 0.0905 - accuracy: 0.9772 - val_loss: 0.9204 - val_accuracy: 0.8252\n",
            "Epoch 94/100\n",
            "144/144 [==============================] - 1s 4ms/step - loss: 0.0886 - accuracy: 0.9784 - val_loss: 0.9601 - val_accuracy: 0.8276\n",
            "Epoch 95/100\n",
            "144/144 [==============================] - 1s 4ms/step - loss: 0.0806 - accuracy: 0.9806 - val_loss: 0.9642 - val_accuracy: 0.8188\n",
            "Epoch 96/100\n",
            "144/144 [==============================] - 1s 4ms/step - loss: 0.0752 - accuracy: 0.9835 - val_loss: 0.9640 - val_accuracy: 0.8232\n",
            "Epoch 97/100\n",
            "144/144 [==============================] - 1s 4ms/step - loss: 0.0762 - accuracy: 0.9825 - val_loss: 0.9863 - val_accuracy: 0.8266\n",
            "Epoch 98/100\n",
            "144/144 [==============================] - 1s 4ms/step - loss: 0.0764 - accuracy: 0.9815 - val_loss: 0.9893 - val_accuracy: 0.8227\n",
            "Epoch 99/100\n",
            "144/144 [==============================] - 1s 4ms/step - loss: 0.0883 - accuracy: 0.9771 - val_loss: 1.0106 - val_accuracy: 0.8217\n",
            "Epoch 100/100\n",
            "144/144 [==============================] - 1s 4ms/step - loss: 0.0706 - accuracy: 0.9847 - val_loss: 1.0017 - val_accuracy: 0.8232\n"
          ],
          "name": "stdout"
        }
      ]
    },
    {
      "cell_type": "code",
      "metadata": {
        "id": "gNdEwh8HVFk_",
        "outputId": "c22cc6f4-a0f4-4768-b033-d8d33fb0ebf2",
        "colab": {
          "base_uri": "https://localhost:8080/",
          "height": 513
        }
      },
      "source": [
        "plt.plot(hist.history['loss'])\n",
        "plt.plot(hist.history['val_loss'])\n",
        "plt.show()\n",
        "\n",
        "plt.plot(hist.history['accuracy'])\n",
        "plt.plot(hist.history['val_accuracy'])\n",
        "plt.show()"
      ],
      "execution_count": 326,
      "outputs": [
        {
          "output_type": "display_data",
          "data": {
            "image/png": "[encoded data removed]",
            "text/plain": [
              "<Figure size 432x288 with 1 Axes>"
            ]
          },
          "metadata": {
            "tags": [],
            "needs_background": "light"
          }
        },
        {
          "output_type": "display_data",
          "data": {
            "image/png": "[encoded data removed]",
            "text/plain": [
              "<Figure size 432x288 with 1 Axes>"
            ]
          },
          "metadata": {
            "tags": [],
            "needs_background": "light"
          }
        }
      ]
    },
    {
      "cell_type": "code",
      "metadata": {
        "id": "1UDb-tquSs1g",
        "outputId": "b185a3e0-5e94-41fa-c106-4234854078c2",
        "colab": {
          "base_uri": "https://localhost:8080/"
        }
      },
      "source": [
        "loss, acc = model.evaluate(test_x, test_y)\n",
        "print(\"loss=\",loss)\n",
        "print(\"acc=\",acc)"
      ],
      "execution_count": 327,
      "outputs": [
        {
          "output_type": "stream",
          "text": [
            "160/160 [==============================] - 0s 2ms/step - loss: 0.9512 - accuracy: 0.8292\n",
            "loss= 0.9511870741844177\n",
            "acc= 0.8291535973548889\n"
          ],
          "name": "stdout"
        }
      ]
    },
    {
      "cell_type": "code",
      "metadata": {
        "id": "iZvuULywXOnT"
      },
      "source": [
        ""
      ],
      "execution_count": 327,
      "outputs": []
    }
  ]
}