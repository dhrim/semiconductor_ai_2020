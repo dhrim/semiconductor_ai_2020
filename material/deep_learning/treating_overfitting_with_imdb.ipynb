{
  "nbformat": 4,
  "nbformat_minor": 0,
  "metadata": {
    "accelerator": "GPU",
    "colab": {
      "name": "treating_overfitting_with_imdb.ipynb",
      "provenance": [],
      "collapsed_sections": [
        "fTFj8ft5dlbS"
      ],
      "toc_visible": true
    },
    "kernelspec": {
      "display_name": "Python 3",
      "name": "python3"
    }
  },
  "cells": [
    {
      "cell_type": "code",
      "metadata": {
        "id": "QvT6QNqoKOXG",
        "colab_type": "code",
        "colab": {
          "base_uri": "https://localhost:8080/",
          "height": 35
        },
        "outputId": "b78cc0f8-508b-45ef-d8a7-2683977934b5"
      },
      "source": [
        "%tensorflow_version 1.x"
      ],
      "execution_count": 1,
      "outputs": [
        {
          "output_type": "stream",
          "text": [
            "TensorFlow 1.x selected.\n"
          ],
          "name": "stdout"
        }
      ]
    },
    {
      "cell_type": "markdown",
      "metadata": {
        "colab_type": "text",
        "id": "C9HmC2T4ld5B"
      },
      "source": [
        "# 오버피팅 처리. IMDB 데이터\n",
        "\n",
        "copy from https://www.tensorflow.org/tutorials/keras/overfit_and_underfit?hl=ko\n"
      ]
    },
    {
      "cell_type": "code",
      "metadata": {
        "colab_type": "code",
        "id": "5pZ8A2liqvgk",
        "colab": {
          "base_uri": "https://localhost:8080/",
          "height": 35
        },
        "outputId": "4793aa02-7683-42fa-f5b8-f35a13507d25"
      },
      "source": [
        "import tensorflow as tf\n",
        "from tensorflow import keras\n",
        "\n",
        "import numpy as np\n",
        "import matplotlib.pyplot as plt\n",
        "\n",
        "print(tf.__version__)"
      ],
      "execution_count": 4,
      "outputs": [
        {
          "output_type": "stream",
          "text": [
            "1.15.2\n"
          ],
          "name": "stdout"
        }
      ]
    },
    {
      "cell_type": "markdown",
      "metadata": {
        "id": "-d3335KZKWke",
        "colab_type": "text"
      },
      "source": [
        "# 데이터 준비"
      ]
    },
    {
      "cell_type": "code",
      "metadata": {
        "id": "aRl8BwQhKVSy",
        "colab_type": "code",
        "colab": {}
      },
      "source": [
        "NUM_WORDS = 1000"
      ],
      "execution_count": 7,
      "outputs": []
    },
    {
      "cell_type": "code",
      "metadata": {
        "id": "PkZfm42fKyx5",
        "colab_type": "code",
        "colab": {
          "base_uri": "https://localhost:8080/",
          "height": 90
        },
        "outputId": "f3118ba9-13e0-4b93-c9d6-249e0bb9ab29"
      },
      "source": [
        "(raw_train_x, raw_train_y), (raw_test_x, raw_test_y) = tf.keras.datasets.imdb.load_data(num_words=NUM_WORDS)\n",
        "\n",
        "print(raw_train_x.shape)\n",
        "print(raw_train_y.shape)\n",
        "print(raw_test_x.shape)\n",
        "print(raw_test_y.shape)"
      ],
      "execution_count": 11,
      "outputs": [
        {
          "output_type": "stream",
          "text": [
            "(25000,)\n",
            "(25000,)\n",
            "(25000,)\n",
            "(25000,)\n"
          ],
          "name": "stdout"
        }
      ]
    },
    {
      "cell_type": "code",
      "metadata": {
        "id": "CO1KFBtwK84Z",
        "colab_type": "code",
        "colab": {
          "base_uri": "https://localhost:8080/",
          "height": 146
        },
        "outputId": "c014782d-224b-49da-b4ce-0c85c81c1a11"
      },
      "source": [
        "print(raw_train_x[:5])\n",
        "print(raw_train_y[:5])"
      ],
      "execution_count": 12,
      "outputs": [
        {
          "output_type": "stream",
          "text": [
            "[list([1, 14, 22, 16, 43, 530, 973, 2, 2, 65, 458, 2, 66, 2, 4, 173, 36, 256, 5, 25, 100, 43, 838, 112, 50, 670, 2, 9, 35, 480, 284, 5, 150, 4, 172, 112, 167, 2, 336, 385, 39, 4, 172, 2, 2, 17, 546, 38, 13, 447, 4, 192, 50, 16, 6, 147, 2, 19, 14, 22, 4, 2, 2, 469, 4, 22, 71, 87, 12, 16, 43, 530, 38, 76, 15, 13, 2, 4, 22, 17, 515, 17, 12, 16, 626, 18, 2, 5, 62, 386, 12, 8, 316, 8, 106, 5, 4, 2, 2, 16, 480, 66, 2, 33, 4, 130, 12, 16, 38, 619, 5, 25, 124, 51, 36, 135, 48, 25, 2, 33, 6, 22, 12, 215, 28, 77, 52, 5, 14, 407, 16, 82, 2, 8, 4, 107, 117, 2, 15, 256, 4, 2, 7, 2, 5, 723, 36, 71, 43, 530, 476, 26, 400, 317, 46, 7, 4, 2, 2, 13, 104, 88, 4, 381, 15, 297, 98, 32, 2, 56, 26, 141, 6, 194, 2, 18, 4, 226, 22, 21, 134, 476, 26, 480, 5, 144, 30, 2, 18, 51, 36, 28, 224, 92, 25, 104, 4, 226, 65, 16, 38, 2, 88, 12, 16, 283, 5, 16, 2, 113, 103, 32, 15, 16, 2, 19, 178, 32])\n",
            " list([1, 194, 2, 194, 2, 78, 228, 5, 6, 2, 2, 2, 134, 26, 4, 715, 8, 118, 2, 14, 394, 20, 13, 119, 954, 189, 102, 5, 207, 110, 2, 21, 14, 69, 188, 8, 30, 23, 7, 4, 249, 126, 93, 4, 114, 9, 2, 2, 5, 647, 4, 116, 9, 35, 2, 4, 229, 9, 340, 2, 4, 118, 9, 4, 130, 2, 19, 4, 2, 5, 89, 29, 952, 46, 37, 4, 455, 9, 45, 43, 38, 2, 2, 398, 4, 2, 26, 2, 5, 163, 11, 2, 2, 4, 2, 9, 194, 775, 7, 2, 2, 349, 2, 148, 605, 2, 2, 15, 123, 125, 68, 2, 2, 15, 349, 165, 2, 98, 5, 4, 228, 9, 43, 2, 2, 15, 299, 120, 5, 120, 174, 11, 220, 175, 136, 50, 9, 2, 228, 2, 5, 2, 656, 245, 2, 5, 4, 2, 131, 152, 491, 18, 2, 32, 2, 2, 14, 9, 6, 371, 78, 22, 625, 64, 2, 9, 8, 168, 145, 23, 4, 2, 15, 16, 4, 2, 5, 28, 6, 52, 154, 462, 33, 89, 78, 285, 16, 145, 95])\n",
            " list([1, 14, 47, 8, 30, 31, 7, 4, 249, 108, 7, 4, 2, 54, 61, 369, 13, 71, 149, 14, 22, 112, 4, 2, 311, 12, 16, 2, 33, 75, 43, 2, 296, 4, 86, 320, 35, 534, 19, 263, 2, 2, 4, 2, 33, 89, 78, 12, 66, 16, 4, 360, 7, 4, 58, 316, 334, 11, 4, 2, 43, 645, 662, 8, 257, 85, 2, 42, 2, 2, 83, 68, 2, 15, 36, 165, 2, 278, 36, 69, 2, 780, 8, 106, 14, 2, 2, 18, 6, 22, 12, 215, 28, 610, 40, 6, 87, 326, 23, 2, 21, 23, 22, 12, 272, 40, 57, 31, 11, 4, 22, 47, 6, 2, 51, 9, 170, 23, 595, 116, 595, 2, 13, 191, 79, 638, 89, 2, 14, 9, 8, 106, 607, 624, 35, 534, 6, 227, 7, 129, 113])\n",
            " list([1, 4, 2, 2, 33, 2, 4, 2, 432, 111, 153, 103, 4, 2, 13, 70, 131, 67, 11, 61, 2, 744, 35, 2, 761, 61, 2, 452, 2, 4, 985, 7, 2, 59, 166, 4, 105, 216, 2, 41, 2, 9, 15, 7, 35, 744, 2, 31, 8, 4, 687, 23, 4, 2, 2, 6, 2, 42, 38, 39, 121, 59, 456, 10, 10, 7, 265, 12, 575, 111, 153, 159, 59, 16, 2, 21, 25, 586, 482, 39, 4, 96, 59, 716, 12, 4, 172, 65, 9, 579, 11, 2, 4, 2, 5, 2, 7, 2, 17, 13, 2, 12, 19, 6, 464, 31, 314, 11, 2, 6, 719, 605, 11, 8, 202, 27, 310, 4, 2, 2, 8, 2, 58, 10, 10, 537, 2, 180, 40, 14, 413, 173, 7, 263, 112, 37, 152, 377, 4, 537, 263, 846, 579, 178, 54, 75, 71, 476, 36, 413, 263, 2, 182, 5, 17, 75, 2, 922, 36, 279, 131, 2, 17, 2, 42, 17, 35, 921, 2, 192, 5, 2, 2, 19, 2, 217, 2, 2, 537, 2, 2, 5, 736, 10, 10, 61, 403, 9, 2, 40, 61, 2, 5, 27, 2, 159, 90, 263, 2, 2, 309, 8, 178, 5, 82, 2, 4, 65, 15, 2, 145, 143, 2, 12, 2, 537, 746, 537, 537, 15, 2, 4, 2, 594, 7, 2, 94, 2, 2, 2, 11, 2, 4, 538, 7, 2, 246, 2, 9, 2, 11, 635, 14, 9, 51, 408, 12, 94, 318, 2, 12, 47, 6, 2, 936, 5, 2, 2, 19, 49, 7, 4, 2, 2, 2, 25, 80, 126, 842, 10, 10, 2, 2, 2, 27, 2, 11, 2, 2, 159, 27, 341, 29, 2, 19, 2, 173, 7, 90, 2, 8, 30, 11, 4, 2, 86, 2, 8, 2, 46, 11, 2, 21, 29, 9, 2, 23, 4, 2, 2, 793, 6, 2, 2, 2, 10, 10, 246, 50, 9, 6, 2, 2, 746, 90, 29, 2, 8, 124, 4, 882, 4, 882, 496, 27, 2, 2, 537, 121, 127, 2, 130, 5, 29, 494, 8, 124, 4, 882, 496, 4, 341, 7, 27, 846, 10, 10, 29, 9, 2, 8, 97, 6, 236, 2, 2, 8, 4, 2, 7, 31, 7, 2, 91, 2, 2, 70, 4, 882, 30, 579, 42, 9, 12, 32, 11, 537, 10, 10, 11, 14, 65, 44, 537, 75, 2, 2, 2, 2, 2, 4, 2, 7, 154, 5, 4, 518, 53, 2, 2, 7, 2, 882, 11, 399, 38, 75, 257, 2, 19, 2, 17, 29, 456, 4, 65, 7, 27, 205, 113, 10, 10, 2, 4, 2, 2, 9, 242, 4, 91, 2, 2, 5, 2, 307, 22, 7, 2, 126, 93, 40, 2, 13, 188, 2, 2, 19, 4, 2, 7, 2, 537, 23, 53, 537, 21, 82, 40, 2, 13, 2, 14, 280, 13, 219, 4, 2, 431, 758, 859, 4, 953, 2, 2, 7, 2, 5, 94, 40, 25, 238, 60, 2, 4, 2, 804, 2, 7, 4, 2, 132, 8, 67, 6, 22, 15, 9, 283, 8, 2, 14, 31, 9, 242, 955, 48, 25, 279, 2, 23, 12, 2, 195, 25, 238, 60, 796, 2, 4, 671, 7, 2, 5, 4, 559, 154, 888, 7, 726, 50, 26, 49, 2, 15, 566, 30, 579, 21, 64, 2])\n",
            " list([1, 249, 2, 7, 61, 113, 10, 10, 13, 2, 14, 20, 56, 33, 2, 18, 457, 88, 13, 2, 2, 45, 2, 13, 70, 79, 49, 706, 919, 13, 16, 355, 340, 355, 2, 96, 143, 4, 22, 32, 289, 7, 61, 369, 71, 2, 5, 13, 16, 131, 2, 249, 114, 249, 229, 249, 20, 13, 28, 126, 110, 13, 473, 8, 569, 61, 419, 56, 429, 6, 2, 18, 35, 534, 95, 474, 570, 5, 25, 124, 138, 88, 12, 421, 2, 52, 725, 2, 61, 419, 11, 13, 2, 15, 2, 20, 11, 4, 2, 5, 296, 12, 2, 5, 15, 421, 128, 74, 233, 334, 207, 126, 224, 12, 562, 298, 2, 2, 7, 2, 5, 516, 988, 43, 8, 79, 120, 15, 595, 13, 784, 25, 2, 18, 165, 170, 143, 19, 14, 5, 2, 6, 226, 251, 7, 61, 113])]\n",
            "[1 0 0 1 0]\n"
          ],
          "name": "stdout"
        }
      ]
    },
    {
      "cell_type": "markdown",
      "metadata": {
        "id": "4KQaN7dHLjbE",
        "colab_type": "text"
      },
      "source": [
        "## 멀티-핫 인코딩\n",
        "\n",
        "[1 3 5] 와 같은 데이터의 경우 1, 3, 5 인덱스만 1이고 나머지는 0으로 인코딩합니다.\n",
        "\n",
        "```\n",
        "[1 3 5] -> [0 1 0 1 0 1 0 0 0 0]   # WORD 길이가 10\n",
        "```\n",
        "\n",
        "본 예의 경우 NUM_WORDS가 1000이다.\n",
        "\n",
        "1개의 데이터는 길이 1000의 벡터이며, 포함된 word 인덱스만 1인 값으로 인코딩 된다."
      ]
    },
    {
      "cell_type": "code",
      "metadata": {
        "colab_type": "code",
        "id": "QpzE4iqZtJly",
        "colab": {}
      },
      "source": [
        "def multi_hot_sequences(sequences, dimension):\n",
        "    # 0으로 채워진 (25000, 1000) 크기의 행렬. 25000은 데이터 갯수, 1000은 NUM_WORDS\n",
        "    results = np.zeros((len(sequences), dimension))\n",
        "    for i, word_indices in enumerate(sequences):\n",
        "        results[i, word_indices] = 1.0  # results[i]의 특정 인덱스만 1로 설정합니다\n",
        "    return results\n",
        "\n",
        "\n",
        "train_x = multi_hot_sequences(raw_train_x, dimension=NUM_WORDS)\n",
        "test_x = multi_hot_sequences(raw_test_x, dimension=NUM_WORDS)\n",
        "train_y = raw_train_y\n",
        "test_y = raw_test_y"
      ],
      "execution_count": 21,
      "outputs": []
    },
    {
      "cell_type": "code",
      "metadata": {
        "id": "pLsndPYqM8db",
        "colab_type": "code",
        "colab": {
          "base_uri": "https://localhost:8080/",
          "height": 146
        },
        "outputId": "4797ab79-3d06-428b-be32-8801bd8bf3b4"
      },
      "source": [
        "print(raw_train_x.shape)\n",
        "print(raw_train_x[0])\n",
        "print(train_x.shape)\n",
        "print(train_x[0][:10])\n",
        "print(train_x[0][10:20])\n",
        "print(train_x[0][20:30])\n"
      ],
      "execution_count": 19,
      "outputs": [
        {
          "output_type": "stream",
          "text": [
            "(25000,)\n",
            "[1, 14, 22, 16, 43, 530, 973, 2, 2, 65, 458, 2, 66, 2, 4, 173, 36, 256, 5, 25, 100, 43, 838, 112, 50, 670, 2, 9, 35, 480, 284, 5, 150, 4, 172, 112, 167, 2, 336, 385, 39, 4, 172, 2, 2, 17, 546, 38, 13, 447, 4, 192, 50, 16, 6, 147, 2, 19, 14, 22, 4, 2, 2, 469, 4, 22, 71, 87, 12, 16, 43, 530, 38, 76, 15, 13, 2, 4, 22, 17, 515, 17, 12, 16, 626, 18, 2, 5, 62, 386, 12, 8, 316, 8, 106, 5, 4, 2, 2, 16, 480, 66, 2, 33, 4, 130, 12, 16, 38, 619, 5, 25, 124, 51, 36, 135, 48, 25, 2, 33, 6, 22, 12, 215, 28, 77, 52, 5, 14, 407, 16, 82, 2, 8, 4, 107, 117, 2, 15, 256, 4, 2, 7, 2, 5, 723, 36, 71, 43, 530, 476, 26, 400, 317, 46, 7, 4, 2, 2, 13, 104, 88, 4, 381, 15, 297, 98, 32, 2, 56, 26, 141, 6, 194, 2, 18, 4, 226, 22, 21, 134, 476, 26, 480, 5, 144, 30, 2, 18, 51, 36, 28, 224, 92, 25, 104, 4, 226, 65, 16, 38, 2, 88, 12, 16, 283, 5, 16, 2, 113, 103, 32, 15, 16, 2, 19, 178, 32]\n",
            "(25000, 1000)\n",
            "[0. 1. 1. 0. 1. 1. 1. 1. 1. 1.]\n",
            "[0. 0. 1. 1. 1. 1. 1. 1. 1. 1.]\n",
            "[0. 1. 1. 0. 0. 1. 1. 0. 1. 0.]\n"
          ],
          "name": "stdout"
        }
      ]
    },
    {
      "cell_type": "markdown",
      "metadata": {
        "id": "qmppWbxbPj2-",
        "colab_type": "text"
      },
      "source": [
        "모델이 너무 크면 패턴의 '학습'이 아닌 개별 데이터를 '기억'한다.\n",
        "\n",
        "\n"
      ]
    },
    {
      "cell_type": "markdown",
      "metadata": {
        "id": "3b4k2sqUWvMo",
        "colab_type": "text"
      },
      "source": [
        "# 모델 크기별 과적합"
      ]
    },
    {
      "cell_type": "markdown",
      "metadata": {
        "colab_type": "text",
        "id": "L-DGRBbGxI6G"
      },
      "source": [
        "### 작은 모델"
      ]
    },
    {
      "cell_type": "code",
      "metadata": {
        "colab_type": "code",
        "id": "jksi-XtaxDAh",
        "colab": {
          "base_uri": "https://localhost:8080/",
          "height": 272
        },
        "outputId": "2f462070-ad6a-4a30-c7e5-e6e7a11159e1"
      },
      "source": [
        "smaller_model = keras.Sequential([\n",
        "    keras.layers.Dense(4, activation='relu', input_shape=(NUM_WORDS,)),\n",
        "    keras.layers.Dense(4, activation='relu'),\n",
        "    keras.layers.Dense(1, activation='sigmoid')\n",
        "])\n",
        "\n",
        "smaller_model.compile(optimizer='adam', loss='binary_crossentropy')\n",
        "\n",
        "smaller_model.summary()"
      ],
      "execution_count": 54,
      "outputs": [
        {
          "output_type": "stream",
          "text": [
            "Model: \"sequential_13\"\n",
            "_________________________________________________________________\n",
            "Layer (type)                 Output Shape              Param #   \n",
            "=================================================================\n",
            "dense_39 (Dense)             (None, 4)                 4004      \n",
            "_________________________________________________________________\n",
            "dense_40 (Dense)             (None, 4)                 20        \n",
            "_________________________________________________________________\n",
            "dense_41 (Dense)             (None, 1)                 5         \n",
            "=================================================================\n",
            "Total params: 4,029\n",
            "Trainable params: 4,029\n",
            "Non-trainable params: 0\n",
            "_________________________________________________________________\n"
          ],
          "name": "stdout"
        }
      ]
    },
    {
      "cell_type": "markdown",
      "metadata": {
        "colab_type": "text",
        "id": "_ReKHdC2EgVu"
      },
      "source": [
        "### 기준 모델"
      ]
    },
    {
      "cell_type": "code",
      "metadata": {
        "colab_type": "code",
        "id": "QKgdXPx9usBa",
        "colab": {
          "base_uri": "https://localhost:8080/",
          "height": 272
        },
        "outputId": "12fd0033-4928-4e8b-c71b-2c040c65e2d6"
      },
      "source": [
        "baseline_model = keras.Sequential([\n",
        "    keras.layers.Dense(16, activation='relu', input_shape=(NUM_WORDS,)),\n",
        "    keras.layers.Dense(16, activation='relu'),\n",
        "    keras.layers.Dense(1, activation='sigmoid')\n",
        "])\n",
        "\n",
        "baseline_model.compile(optimizer='adam', loss='binary_crossentropy')\n",
        "\n",
        "baseline_model.summary()"
      ],
      "execution_count": 52,
      "outputs": [
        {
          "output_type": "stream",
          "text": [
            "Model: \"sequential_12\"\n",
            "_________________________________________________________________\n",
            "Layer (type)                 Output Shape              Param #   \n",
            "=================================================================\n",
            "dense_36 (Dense)             (None, 16)                16016     \n",
            "_________________________________________________________________\n",
            "dense_37 (Dense)             (None, 16)                272       \n",
            "_________________________________________________________________\n",
            "dense_38 (Dense)             (None, 1)                 17        \n",
            "=================================================================\n",
            "Total params: 16,305\n",
            "Trainable params: 16,305\n",
            "Non-trainable params: 0\n",
            "_________________________________________________________________\n"
          ],
          "name": "stdout"
        }
      ]
    },
    {
      "cell_type": "code",
      "metadata": {
        "colab_type": "code",
        "id": "LqG3MXF5xSjR",
        "colab": {
          "base_uri": "https://localhost:8080/",
          "height": 763
        },
        "outputId": "ccc8c098-3093-4a60-9f3d-d4b3ce6e60c4"
      },
      "source": [
        "baseline_history = baseline_model.fit(train_x,\n",
        "                                      train_y,\n",
        "                                      epochs=20,\n",
        "                                      batch_size=512,\n",
        "                                      validation_split=0.1,\n",
        "                                      verbose=2)"
      ],
      "execution_count": 53,
      "outputs": [
        {
          "output_type": "stream",
          "text": [
            "Train on 22500 samples, validate on 2500 samples\n",
            "Epoch 1/20\n",
            "22500/22500 - 1s - loss: 0.5735 - val_loss: 0.4484\n",
            "Epoch 2/20\n",
            "22500/22500 - 0s - loss: 0.3774 - val_loss: 0.3533\n",
            "Epoch 3/20\n",
            "22500/22500 - 0s - loss: 0.3236 - val_loss: 0.3391\n",
            "Epoch 4/20\n",
            "22500/22500 - 0s - loss: 0.3075 - val_loss: 0.3393\n",
            "Epoch 5/20\n",
            "22500/22500 - 0s - loss: 0.3025 - val_loss: 0.3493\n",
            "Epoch 6/20\n",
            "22500/22500 - 0s - loss: 0.2974 - val_loss: 0.3388\n",
            "Epoch 7/20\n",
            "22500/22500 - 0s - loss: 0.2935 - val_loss: 0.3392\n",
            "Epoch 8/20\n",
            "22500/22500 - 0s - loss: 0.2863 - val_loss: 0.3426\n",
            "Epoch 9/20\n",
            "22500/22500 - 0s - loss: 0.2803 - val_loss: 0.3471\n",
            "Epoch 10/20\n",
            "22500/22500 - 0s - loss: 0.2759 - val_loss: 0.3461\n",
            "Epoch 11/20\n",
            "22500/22500 - 0s - loss: 0.2691 - val_loss: 0.3491\n",
            "Epoch 12/20\n",
            "22500/22500 - 0s - loss: 0.2638 - val_loss: 0.3519\n",
            "Epoch 13/20\n",
            "22500/22500 - 0s - loss: 0.2577 - val_loss: 0.3553\n",
            "Epoch 14/20\n",
            "22500/22500 - 0s - loss: 0.2530 - val_loss: 0.3609\n",
            "Epoch 15/20\n",
            "22500/22500 - 0s - loss: 0.2504 - val_loss: 0.3621\n",
            "Epoch 16/20\n",
            "22500/22500 - 0s - loss: 0.2408 - val_loss: 0.3656\n",
            "Epoch 17/20\n",
            "22500/22500 - 0s - loss: 0.2347 - val_loss: 0.3660\n",
            "Epoch 18/20\n",
            "22500/22500 - 0s - loss: 0.2281 - val_loss: 0.3765\n",
            "Epoch 19/20\n",
            "22500/22500 - 0s - loss: 0.2235 - val_loss: 0.3788\n",
            "Epoch 20/20\n",
            "22500/22500 - 0s - loss: 0.2184 - val_loss: 0.3843\n"
          ],
          "name": "stdout"
        }
      ]
    },
    {
      "cell_type": "code",
      "metadata": {
        "colab_type": "code",
        "id": "Ofn1AwDhx-Fe",
        "colab": {
          "base_uri": "https://localhost:8080/",
          "height": 763
        },
        "outputId": "cea46780-1f40-4f42-bedf-1bf556e6212f"
      },
      "source": [
        "smaller_history = smaller_model.fit(train_x,\n",
        "                                    train_y,\n",
        "                                    epochs=20,\n",
        "                                    batch_size=512,\n",
        "                                    validation_split=0.1,\n",
        "                                    verbose=2)"
      ],
      "execution_count": 55,
      "outputs": [
        {
          "output_type": "stream",
          "text": [
            "Train on 22500 samples, validate on 2500 samples\n",
            "Epoch 1/20\n",
            "22500/22500 - 1s - loss: 0.6719 - val_loss: 0.6356\n",
            "Epoch 2/20\n",
            "22500/22500 - 0s - loss: 0.5874 - val_loss: 0.5398\n",
            "Epoch 3/20\n",
            "22500/22500 - 0s - loss: 0.4916 - val_loss: 0.4595\n",
            "Epoch 4/20\n",
            "22500/22500 - 0s - loss: 0.4205 - val_loss: 0.4060\n",
            "Epoch 5/20\n",
            "22500/22500 - 0s - loss: 0.3760 - val_loss: 0.3755\n",
            "Epoch 6/20\n",
            "22500/22500 - 0s - loss: 0.3494 - val_loss: 0.3617\n",
            "Epoch 7/20\n",
            "22500/22500 - 0s - loss: 0.3324 - val_loss: 0.3497\n",
            "Epoch 8/20\n",
            "22500/22500 - 0s - loss: 0.3213 - val_loss: 0.3433\n",
            "Epoch 9/20\n",
            "22500/22500 - 0s - loss: 0.3139 - val_loss: 0.3404\n",
            "Epoch 10/20\n",
            "22500/22500 - 0s - loss: 0.3080 - val_loss: 0.3408\n",
            "Epoch 11/20\n",
            "22500/22500 - 0s - loss: 0.3042 - val_loss: 0.3395\n",
            "Epoch 12/20\n",
            "22500/22500 - 0s - loss: 0.3014 - val_loss: 0.3369\n",
            "Epoch 13/20\n",
            "22500/22500 - 0s - loss: 0.2989 - val_loss: 0.3389\n",
            "Epoch 14/20\n",
            "22500/22500 - 0s - loss: 0.2958 - val_loss: 0.3369\n",
            "Epoch 15/20\n",
            "22500/22500 - 0s - loss: 0.2929 - val_loss: 0.3382\n",
            "Epoch 16/20\n",
            "22500/22500 - 0s - loss: 0.2902 - val_loss: 0.3396\n",
            "Epoch 17/20\n",
            "22500/22500 - 0s - loss: 0.2884 - val_loss: 0.3382\n",
            "Epoch 18/20\n",
            "22500/22500 - 0s - loss: 0.2862 - val_loss: 0.3387\n",
            "Epoch 19/20\n",
            "22500/22500 - 0s - loss: 0.2836 - val_loss: 0.3399\n",
            "Epoch 20/20\n",
            "22500/22500 - 0s - loss: 0.2814 - val_loss: 0.3416\n"
          ],
          "name": "stdout"
        }
      ]
    },
    {
      "cell_type": "markdown",
      "metadata": {
        "colab_type": "text",
        "id": "vIPuf23FFaVn"
      },
      "source": [
        "### 큰 모델"
      ]
    },
    {
      "cell_type": "code",
      "metadata": {
        "colab_type": "code",
        "id": "ghQwwqwqvQM9",
        "colab": {
          "base_uri": "https://localhost:8080/",
          "height": 272
        },
        "outputId": "6dde2acc-62a6-4a56-e9fa-2f26114f9d36"
      },
      "source": [
        "bigger_model = keras.models.Sequential([\n",
        "    keras.layers.Dense(512, activation='relu', input_shape=(NUM_WORDS,)),\n",
        "    keras.layers.Dense(512, activation='relu'),\n",
        "    keras.layers.Dense(1, activation='sigmoid')\n",
        "])\n",
        "\n",
        "bigger_model.compile(optimizer='adam', loss='binary_crossentropy')\n",
        "\n",
        "bigger_model.summary()"
      ],
      "execution_count": 56,
      "outputs": [
        {
          "output_type": "stream",
          "text": [
            "Model: \"sequential_14\"\n",
            "_________________________________________________________________\n",
            "Layer (type)                 Output Shape              Param #   \n",
            "=================================================================\n",
            "dense_42 (Dense)             (None, 512)               512512    \n",
            "_________________________________________________________________\n",
            "dense_43 (Dense)             (None, 512)               262656    \n",
            "_________________________________________________________________\n",
            "dense_44 (Dense)             (None, 1)                 513       \n",
            "=================================================================\n",
            "Total params: 775,681\n",
            "Trainable params: 775,681\n",
            "Non-trainable params: 0\n",
            "_________________________________________________________________\n"
          ],
          "name": "stdout"
        }
      ]
    },
    {
      "cell_type": "markdown",
      "metadata": {
        "colab_type": "text",
        "id": "D-d-i5DaYmr7"
      },
      "source": [
        "역시 같은 데이터를 사용해 모델을 훈련합니다:"
      ]
    },
    {
      "cell_type": "code",
      "metadata": {
        "colab_type": "code",
        "id": "U1A99dhqvepf",
        "colab": {
          "base_uri": "https://localhost:8080/",
          "height": 763
        },
        "outputId": "ec9321a4-c2b4-47e8-81bb-7e44286e2711"
      },
      "source": [
        "bigger_history = bigger_model.fit(train_x,\n",
        "                                  train_y,\n",
        "                                  epochs=20,\n",
        "                                  batch_size=512,\n",
        "                                  validation_split=0.1,\n",
        "                                  verbose=2)"
      ],
      "execution_count": 57,
      "outputs": [
        {
          "output_type": "stream",
          "text": [
            "Train on 22500 samples, validate on 2500 samples\n",
            "Epoch 1/20\n",
            "22500/22500 - 1s - loss: 0.4250 - val_loss: 0.3343\n",
            "Epoch 2/20\n",
            "22500/22500 - 0s - loss: 0.2881 - val_loss: 0.3406\n",
            "Epoch 3/20\n",
            "22500/22500 - 0s - loss: 0.2213 - val_loss: 0.3565\n",
            "Epoch 4/20\n",
            "22500/22500 - 0s - loss: 0.1176 - val_loss: 0.4362\n",
            "Epoch 5/20\n",
            "22500/22500 - 0s - loss: 0.0338 - val_loss: 0.5470\n",
            "Epoch 6/20\n",
            "22500/22500 - 0s - loss: 0.0068 - val_loss: 0.6401\n",
            "Epoch 7/20\n",
            "22500/22500 - 0s - loss: 0.0021 - val_loss: 0.6891\n",
            "Epoch 8/20\n",
            "22500/22500 - 0s - loss: 9.7169e-04 - val_loss: 0.7266\n",
            "Epoch 9/20\n",
            "22500/22500 - 0s - loss: 6.4706e-04 - val_loss: 0.7539\n",
            "Epoch 10/20\n",
            "22500/22500 - 0s - loss: 4.7385e-04 - val_loss: 0.7769\n",
            "Epoch 11/20\n",
            "22500/22500 - 0s - loss: 3.6315e-04 - val_loss: 0.7980\n",
            "Epoch 12/20\n",
            "22500/22500 - 0s - loss: 2.8666e-04 - val_loss: 0.8162\n",
            "Epoch 13/20\n",
            "22500/22500 - 0s - loss: 2.3199e-04 - val_loss: 0.8337\n",
            "Epoch 14/20\n",
            "22500/22500 - 0s - loss: 1.9026e-04 - val_loss: 0.8499\n",
            "Epoch 15/20\n",
            "22500/22500 - 0s - loss: 1.5819e-04 - val_loss: 0.8643\n",
            "Epoch 16/20\n",
            "22500/22500 - 0s - loss: 1.3320e-04 - val_loss: 0.8793\n",
            "Epoch 17/20\n",
            "22500/22500 - 0s - loss: 1.1343e-04 - val_loss: 0.8920\n",
            "Epoch 18/20\n",
            "22500/22500 - 0s - loss: 9.7349e-05 - val_loss: 0.9045\n",
            "Epoch 19/20\n",
            "22500/22500 - 0s - loss: 8.4131e-05 - val_loss: 0.9167\n",
            "Epoch 20/20\n",
            "22500/22500 - 0s - loss: 7.3463e-05 - val_loss: 0.9279\n"
          ],
          "name": "stdout"
        }
      ]
    },
    {
      "cell_type": "markdown",
      "metadata": {
        "colab_type": "text",
        "id": "Fy3CMUZpzH3d"
      },
      "source": [
        "## 로스 그래프"
      ]
    },
    {
      "cell_type": "code",
      "metadata": {
        "id": "X7uu67SxRp4V",
        "colab_type": "code",
        "colab": {
          "base_uri": "https://localhost:8080/",
          "height": 827
        },
        "outputId": "6ee460a0-11eb-48fa-88ea-25a4c486528f"
      },
      "source": [
        "print(\"smaller\")\n",
        "plt.plot(smaller_history.history['loss'])\n",
        "plt.plot(smaller_history.history['val_loss'])\n",
        "plt.ylim((-0.1, 1.))\n",
        "plt.show()\n",
        "\n",
        "print(\"base\")\n",
        "plt.plot(baseline_history.history['loss'])\n",
        "plt.plot(baseline_history.history['val_loss'])\n",
        "plt.ylim((0., 1.))\n",
        "plt.show()\n",
        "\n",
        "print(\"bigger\")\n",
        "plt.plot(bigger_history.history['loss'])\n",
        "plt.plot(bigger_history.history['val_loss'])\n",
        "plt.ylim((0., 1.))\n",
        "plt.show()\n"
      ],
      "execution_count": 58,
      "outputs": [
        {
          "output_type": "stream",
          "text": [
            "smaller\n"
          ],
          "name": "stdout"
        },
        {
          "output_type": "display_data",
          "data": {
            "image/png": "[encoded data removed]",
            "text/plain": [
              "<Figure size 432x288 with 1 Axes>"
            ]
          },
          "metadata": {
            "tags": [],
            "needs_background": "light"
          }
        },
        {
          "output_type": "stream",
          "text": [
            "base\n"
          ],
          "name": "stdout"
        },
        {
          "output_type": "display_data",
          "data": {
            "image/png": "[encoded data removed]",
            "text/plain": [
              "<Figure size 432x288 with 1 Axes>"
            ]
          },
          "metadata": {
            "tags": [],
            "needs_background": "light"
          }
        },
        {
          "output_type": "stream",
          "text": [
            "bigger\n"
          ],
          "name": "stdout"
        },
        {
          "output_type": "display_data",
          "data": {
            "image/png": "[encoded data removed]",
            "text/plain": [
              "<Figure size 432x288 with 1 Axes>"
            ]
          },
          "metadata": {
            "tags": [],
            "needs_background": "light"
          }
        }
      ]
    },
    {
      "cell_type": "markdown",
      "metadata": {
        "id": "QBnYskh3XZ86",
        "colab_type": "text"
      },
      "source": [
        "모델이 클수록 오버피팅 발생이 일찍 온다"
      ]
    },
    {
      "cell_type": "markdown",
      "metadata": {
        "colab_type": "text",
        "id": "ASdv7nsgEFhx"
      },
      "source": [
        "# 과적합 처리"
      ]
    },
    {
      "cell_type": "markdown",
      "metadata": {
        "colab_type": "text",
        "id": "4rHoVWcswFLa"
      },
      "source": [
        "## weight Regularization"
      ]
    },
    {
      "cell_type": "code",
      "metadata": {
        "colab_type": "code",
        "id": "HFGmcwduwVyQ",
        "colab": {
          "base_uri": "https://localhost:8080/",
          "height": 783
        },
        "outputId": "3f018b91-eb48-4dec-8a46-ceb92aa23da0"
      },
      "source": [
        "ㅣ2_baseline_model = keras.Sequential([\n",
        "    # keras.layers.Dense(16, activation='relu', input_shape=(NUM_WORDS,)),\n",
        "    keras.layers.Dense(16, activation='relu', input_shape=(NUM_WORDS,), kernel_regularizer=keras.regularizers.l2(0.001)),\n",
        "    # keras.layers.Dense(16, activation='relu'),\n",
        "    keras.layers.Dense(16, activation='relu', kernel_regularizer=keras.regularizers.l2(0.001)),\n",
        "    keras.layers.Dense(1, activation='sigmoid')\n",
        "])\n",
        "\n",
        "ㅣ2_baseline_model.compile(optimizer='adam', loss='binary_crossentropy')\n",
        "\n",
        "ㅣ2_baseline_model.summary()\n",
        "\n",
        "l2_baseline_history = ㅣ2_baseline_model.fit(train_x,\n",
        "                                    train_y,\n",
        "                                    epochs=20,\n",
        "                                    batch_size=512,\n",
        "                                    validation_split=0.1,\n",
        "                                    verbose=2)"
      ],
      "execution_count": 46,
      "outputs": [
        {
          "output_type": "stream",
          "text": [
            "Train on 22500 samples, validate on 2500 samples\n",
            "Epoch 1/20\n",
            "22500/22500 - 1s - loss: 1.2452 - acc: 0.8079 - binary_crossentropy: 0.4208 - val_loss: 0.8992 - val_acc: 0.8604 - val_binary_crossentropy: 0.3461\n",
            "Epoch 2/20\n",
            "22500/22500 - 0s - loss: 0.7309 - acc: 0.8750 - binary_crossentropy: 0.3039 - val_loss: 0.6647 - val_acc: 0.8632 - val_binary_crossentropy: 0.3346\n",
            "Epoch 3/20\n",
            "22500/22500 - 0s - loss: 0.5549 - acc: 0.8866 - binary_crossentropy: 0.2756 - val_loss: 0.5709 - val_acc: 0.8652 - val_binary_crossentropy: 0.3342\n",
            "Epoch 4/20\n",
            "22500/22500 - 0s - loss: 0.4593 - acc: 0.9018 - binary_crossentropy: 0.2454 - val_loss: 0.5692 - val_acc: 0.8460 - val_binary_crossentropy: 0.3750\n",
            "Epoch 5/20\n",
            "22500/22500 - 0s - loss: 0.3798 - acc: 0.9278 - binary_crossentropy: 0.1945 - val_loss: 0.5316 - val_acc: 0.8604 - val_binary_crossentropy: 0.3537\n",
            "Epoch 6/20\n",
            "22500/22500 - 0s - loss: 0.3007 - acc: 0.9626 - binary_crossentropy: 0.1263 - val_loss: 0.5722 - val_acc: 0.8472 - val_binary_crossentropy: 0.4013\n",
            "Epoch 7/20\n",
            "22500/22500 - 0s - loss: 0.2486 - acc: 0.9805 - binary_crossentropy: 0.0810 - val_loss: 0.5756 - val_acc: 0.8444 - val_binary_crossentropy: 0.4134\n",
            "Epoch 8/20\n",
            "22500/22500 - 0s - loss: 0.2064 - acc: 0.9923 - binary_crossentropy: 0.0504 - val_loss: 0.5844 - val_acc: 0.8488 - val_binary_crossentropy: 0.4354\n",
            "Epoch 9/20\n",
            "22500/22500 - 0s - loss: 0.1783 - acc: 0.9967 - binary_crossentropy: 0.0363 - val_loss: 0.5634 - val_acc: 0.8540 - val_binary_crossentropy: 0.4286\n",
            "Epoch 10/20\n",
            "22500/22500 - 0s - loss: 0.1577 - acc: 0.9985 - binary_crossentropy: 0.0292 - val_loss: 0.5609 - val_acc: 0.8604 - val_binary_crossentropy: 0.4389\n",
            "Epoch 11/20\n",
            "22500/22500 - 0s - loss: 0.1403 - acc: 0.9990 - binary_crossentropy: 0.0247 - val_loss: 0.5453 - val_acc: 0.8532 - val_binary_crossentropy: 0.4352\n",
            "Epoch 12/20\n",
            "22500/22500 - 0s - loss: 0.1359 - acc: 0.9980 - binary_crossentropy: 0.0288 - val_loss: 0.5457 - val_acc: 0.8552 - val_binary_crossentropy: 0.4399\n",
            "Epoch 13/20\n",
            "22500/22500 - 0s - loss: 0.1327 - acc: 0.9971 - binary_crossentropy: 0.0294 - val_loss: 0.5414 - val_acc: 0.8504 - val_binary_crossentropy: 0.4399\n",
            "Epoch 14/20\n",
            "22500/22500 - 0s - loss: 0.1305 - acc: 0.9967 - binary_crossentropy: 0.0291 - val_loss: 0.5429 - val_acc: 0.8532 - val_binary_crossentropy: 0.4430\n",
            "Epoch 15/20\n",
            "22500/22500 - 0s - loss: 0.1251 - acc: 0.9977 - binary_crossentropy: 0.0268 - val_loss: 0.5595 - val_acc: 0.8500 - val_binary_crossentropy: 0.4629\n",
            "Epoch 16/20\n",
            "22500/22500 - 0s - loss: 0.1120 - acc: 0.9992 - binary_crossentropy: 0.0198 - val_loss: 0.5427 - val_acc: 0.8436 - val_binary_crossentropy: 0.4541\n",
            "Epoch 17/20\n",
            "22500/22500 - 0s - loss: 0.1043 - acc: 0.9995 - binary_crossentropy: 0.0188 - val_loss: 0.6100 - val_acc: 0.8396 - val_binary_crossentropy: 0.5268\n",
            "Epoch 18/20\n",
            "22500/22500 - 0s - loss: 0.1035 - acc: 0.9988 - binary_crossentropy: 0.0210 - val_loss: 0.5431 - val_acc: 0.8584 - val_binary_crossentropy: 0.4615\n",
            "Epoch 19/20\n",
            "22500/22500 - 0s - loss: 0.0967 - acc: 0.9993 - binary_crossentropy: 0.0177 - val_loss: 0.5431 - val_acc: 0.8516 - val_binary_crossentropy: 0.4662\n",
            "Epoch 20/20\n",
            "22500/22500 - 0s - loss: 0.0931 - acc: 0.9993 - binary_crossentropy: 0.0175 - val_loss: 0.5437 - val_acc: 0.8556 - val_binary_crossentropy: 0.4694\n"
          ],
          "name": "stdout"
        }
      ]
    },
    {
      "cell_type": "code",
      "metadata": {
        "id": "cQAECSenUBC4",
        "colab_type": "code",
        "colab": {
          "base_uri": "https://localhost:8080/",
          "height": 557
        },
        "outputId": "f76f7d20-64da-4f9a-c384-227a67ef7e41"
      },
      "source": [
        "print(\"baseline\")\n",
        "plt.plot(baseline_history.history['loss'])\n",
        "plt.plot(baseline_history.history['val_loss'])\n",
        "plt.ylim((0., 1.))\n",
        "plt.show()\n",
        "\n",
        "print(\"l2_baseline\")\n",
        "plt.plot(l2_baseline_history.history['loss'])\n",
        "plt.plot(l2_baseline_history.history['val_loss'])\n",
        "plt.ylim((0., 1.))\n",
        "plt.show()"
      ],
      "execution_count": 59,
      "outputs": [
        {
          "output_type": "stream",
          "text": [
            "baseline\n"
          ],
          "name": "stdout"
        },
        {
          "output_type": "display_data",
          "data": {
            "image/png": "[encoded data removed]",
            "text/plain": [
              "<Figure size 432x288 with 1 Axes>"
            ]
          },
          "metadata": {
            "tags": [],
            "needs_background": "light"
          }
        },
        {
          "output_type": "stream",
          "text": [
            "l2_baseline\n"
          ],
          "name": "stdout"
        },
        {
          "output_type": "display_data",
          "data": {
            "image/png": "[encoded data removed]",
            "text/plain": [
              "<Figure size 432x288 with 1 Axes>"
            ]
          },
          "metadata": {
            "tags": [],
            "needs_background": "light"
          }
        }
      ]
    },
    {
      "cell_type": "markdown",
      "metadata": {
        "id": "BV-hZXvBX-VL",
        "colab_type": "text"
      },
      "source": [
        "발생하던 오버피팅이 완화되었다."
      ]
    },
    {
      "cell_type": "markdown",
      "metadata": {
        "id": "k3V7W79YV4KH",
        "colab_type": "text"
      },
      "source": [
        "## Drop Out"
      ]
    },
    {
      "cell_type": "code",
      "metadata": {
        "id": "II8XxgNhV9N8",
        "colab_type": "code",
        "colab": {
          "base_uri": "https://localhost:8080/",
          "height": 783
        },
        "outputId": "fe566fcd-831f-4332-a372-207b7b1bf402"
      },
      "source": [
        "dropout_baseline_model = keras.Sequential([\n",
        "    keras.layers.Dense(16, activation='relu', input_shape=(NUM_WORDS,)),\n",
        "    keras.layers.Dropout(0.5),    # ADD\n",
        "    keras.layers.Dense(16, activation='relu'),\n",
        "    keras.layers.Dropout(0.5),    # ADDD\n",
        "    keras.layers.Dense(1, activation='sigmoid')\n",
        "])\n",
        "\n",
        "\n",
        "dropout_baseline_model.compile(optimizer='adam',\n",
        "                 loss='binary_crossentropy',\n",
        "                 metrics=['accuracy', 'binary_crossentropy'])\n",
        "\n",
        "dropout_baseline_history = dropout_baseline_model.fit(train_x,\n",
        "                                    train_y,\n",
        "                                    epochs=20,\n",
        "                                    batch_size=512,\n",
        "                                    validation_split=0.1,\n",
        "                                    verbose=2)"
      ],
      "execution_count": 60,
      "outputs": [
        {
          "output_type": "stream",
          "text": [
            "Train on 22500 samples, validate on 2500 samples\n",
            "Epoch 1/20\n",
            "22500/22500 - 1s - loss: 0.6813 - acc: 0.5544 - binary_crossentropy: 0.6813 - val_loss: 0.6392 - val_acc: 0.7380 - val_binary_crossentropy: 0.6392\n",
            "Epoch 2/20\n",
            "22500/22500 - 0s - loss: 0.6130 - acc: 0.6472 - binary_crossentropy: 0.6130 - val_loss: 0.5216 - val_acc: 0.8112 - val_binary_crossentropy: 0.5216\n",
            "Epoch 3/20\n",
            "22500/22500 - 0s - loss: 0.5382 - acc: 0.7156 - binary_crossentropy: 0.5382 - val_loss: 0.4441 - val_acc: 0.8408 - val_binary_crossentropy: 0.4441\n",
            "Epoch 4/20\n",
            "22500/22500 - 0s - loss: 0.4906 - acc: 0.7705 - binary_crossentropy: 0.4906 - val_loss: 0.3913 - val_acc: 0.8504 - val_binary_crossentropy: 0.3913\n",
            "Epoch 5/20\n",
            "22500/22500 - 0s - loss: 0.4558 - acc: 0.8035 - binary_crossentropy: 0.4558 - val_loss: 0.3686 - val_acc: 0.8584 - val_binary_crossentropy: 0.3686\n",
            "Epoch 6/20\n",
            "22500/22500 - 0s - loss: 0.4311 - acc: 0.8199 - binary_crossentropy: 0.4311 - val_loss: 0.3558 - val_acc: 0.8588 - val_binary_crossentropy: 0.3558\n",
            "Epoch 7/20\n",
            "22500/22500 - 0s - loss: 0.4171 - acc: 0.8238 - binary_crossentropy: 0.4171 - val_loss: 0.3426 - val_acc: 0.8592 - val_binary_crossentropy: 0.3426\n",
            "Epoch 8/20\n",
            "22500/22500 - 0s - loss: 0.3983 - acc: 0.8401 - binary_crossentropy: 0.3983 - val_loss: 0.3361 - val_acc: 0.8556 - val_binary_crossentropy: 0.3361\n",
            "Epoch 9/20\n",
            "22500/22500 - 0s - loss: 0.3859 - acc: 0.8427 - binary_crossentropy: 0.3859 - val_loss: 0.3363 - val_acc: 0.8568 - val_binary_crossentropy: 0.3363\n",
            "Epoch 10/20\n",
            "22500/22500 - 0s - loss: 0.3806 - acc: 0.8481 - binary_crossentropy: 0.3806 - val_loss: 0.3379 - val_acc: 0.8532 - val_binary_crossentropy: 0.3379\n",
            "Epoch 11/20\n",
            "22500/22500 - 0s - loss: 0.3681 - acc: 0.8548 - binary_crossentropy: 0.3681 - val_loss: 0.3339 - val_acc: 0.8552 - val_binary_crossentropy: 0.3339\n",
            "Epoch 12/20\n",
            "22500/22500 - 0s - loss: 0.3606 - acc: 0.8596 - binary_crossentropy: 0.3606 - val_loss: 0.3375 - val_acc: 0.8608 - val_binary_crossentropy: 0.3375\n",
            "Epoch 13/20\n",
            "22500/22500 - 0s - loss: 0.3556 - acc: 0.8610 - binary_crossentropy: 0.3556 - val_loss: 0.3338 - val_acc: 0.8584 - val_binary_crossentropy: 0.3338\n",
            "Epoch 14/20\n",
            "22500/22500 - 0s - loss: 0.3454 - acc: 0.8676 - binary_crossentropy: 0.3454 - val_loss: 0.3362 - val_acc: 0.8572 - val_binary_crossentropy: 0.3362\n",
            "Epoch 15/20\n",
            "22500/22500 - 0s - loss: 0.3409 - acc: 0.8697 - binary_crossentropy: 0.3409 - val_loss: 0.3386 - val_acc: 0.8592 - val_binary_crossentropy: 0.3386\n",
            "Epoch 16/20\n",
            "22500/22500 - 0s - loss: 0.3312 - acc: 0.8728 - binary_crossentropy: 0.3312 - val_loss: 0.3411 - val_acc: 0.8580 - val_binary_crossentropy: 0.3411\n",
            "Epoch 17/20\n",
            "22500/22500 - 0s - loss: 0.3239 - acc: 0.8773 - binary_crossentropy: 0.3239 - val_loss: 0.3424 - val_acc: 0.8576 - val_binary_crossentropy: 0.3424\n",
            "Epoch 18/20\n",
            "22500/22500 - 0s - loss: 0.3233 - acc: 0.8796 - binary_crossentropy: 0.3233 - val_loss: 0.3433 - val_acc: 0.8576 - val_binary_crossentropy: 0.3433\n",
            "Epoch 19/20\n",
            "22500/22500 - 0s - loss: 0.3148 - acc: 0.8828 - binary_crossentropy: 0.3148 - val_loss: 0.3476 - val_acc: 0.8608 - val_binary_crossentropy: 0.3476\n",
            "Epoch 20/20\n",
            "22500/22500 - 0s - loss: 0.3122 - acc: 0.8852 - binary_crossentropy: 0.3122 - val_loss: 0.3500 - val_acc: 0.8552 - val_binary_crossentropy: 0.3500\n"
          ],
          "name": "stdout"
        }
      ]
    },
    {
      "cell_type": "code",
      "metadata": {
        "id": "9aJPcL5bWOoM",
        "colab_type": "code",
        "colab": {
          "base_uri": "https://localhost:8080/",
          "height": 557
        },
        "outputId": "ac363e59-099b-49f3-cab8-43b7a17082e2"
      },
      "source": [
        "print(\"baseline\")\n",
        "plt.plot(baseline_history.history['loss'])\n",
        "plt.plot(baseline_history.history['val_loss'])\n",
        "plt.ylim((0., 1.))\n",
        "plt.show()\n",
        "\n",
        "print(\"dropout_baseline\")\n",
        "plt.plot(dropout_baseline_history.history['loss'])\n",
        "plt.plot(dropout_baseline_history.history['val_loss'])\n",
        "plt.ylim((0., 1.))\n",
        "plt.show()"
      ],
      "execution_count": 61,
      "outputs": [
        {
          "output_type": "stream",
          "text": [
            "baseline\n"
          ],
          "name": "stdout"
        },
        {
          "output_type": "display_data",
          "data": {
            "image/png": "[encoded data removed]",
            "text/plain": [
              "<Figure size 432x288 with 1 Axes>"
            ]
          },
          "metadata": {
            "tags": [],
            "needs_background": "light"
          }
        },
        {
          "output_type": "stream",
          "text": [
            "dropout_baseline\n"
          ],
          "name": "stdout"
        },
        {
          "output_type": "display_data",
          "data": {
            "image/png": "[encoded data removed]",
            "text/plain": [
              "<Figure size 432x288 with 1 Axes>"
            ]
          },
          "metadata": {
            "tags": [],
            "needs_background": "light"
          }
        }
      ]
    },
    {
      "cell_type": "code",
      "metadata": {
        "id": "3Mm_9vsIYW9R",
        "colab_type": "code",
        "colab": {}
      },
      "source": [
        ""
      ],
      "execution_count": null,
      "outputs": []
    }
  ]
}